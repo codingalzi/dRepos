{
 "cells": [
  {
   "cell_type": "markdown",
   "id": "10c7c681",
   "metadata": {},
   "source": [
    "# 죽산보 데이터 분석: 승촌보와 지석천 데이터 활용"
   ]
  },
  {
   "cell_type": "markdown",
   "id": "ad68a1b5",
   "metadata": {},
   "source": [
    "## 주요 내용"
   ]
  },
  {
   "cell_type": "markdown",
   "id": "2cd390f3",
   "metadata": {},
   "source": [
    "- 죽산보와 승촌보 데이터의 기초 통계 비교\n",
    "- 승촌보와 죽산보 사이에 위치한 지석천 수질, 수량 데이터를 활용하여 죽산보 데이터 분석"
   ]
  },
  {
   "cell_type": "markdown",
   "id": "688a5d81",
   "metadata": {},
   "source": [
    "## 데이터 정보"
   ]
  },
  {
   "cell_type": "markdown",
   "id": "dd5495c5",
   "metadata": {},
   "source": [
    "* 죽산보/승촌보 수질 데이터\n",
    "    * 2012-2022년  \n",
    "    * 시간 단위 수집 데이터\n",
    "* 죽산보/승촌보 유량 데이터\n",
    "    * 2012-2022년\n",
    "    * 10분 단위 수집 데이터\n",
    "* 지석천 수질 데이터\n",
    "    * 2014-2023년\n",
    "    * 시간 단위 수집 데이터\n",
    "* 지석천 유량 데이터\n",
    "    * 2012-2023년\n",
    "    * 10분 단위 수집 데이터    "
   ]
  },
  {
   "cell_type": "markdown",
   "id": "8122ccc9",
   "metadata": {},
   "source": [
    "## 필수 모듈 임포트"
   ]
  },
  {
   "cell_type": "code",
   "execution_count": 1,
   "id": "be5fcfa5",
   "metadata": {},
   "outputs": [],
   "source": [
    "import numpy as np\n",
    "import pandas as pd\n",
    "\n",
    "import matplotlib.pyplot as plt\n",
    "import seaborn as sns\n",
    "\n",
    "import joblib\n",
    "\n",
    "from datetime import datetime"
   ]
  },
  {
   "cell_type": "code",
   "execution_count": 2,
   "id": "3aaec12a",
   "metadata": {},
   "outputs": [],
   "source": [
    "from sklearn.model_selection import train_test_split\n",
    "from sklearn.model_selection import GridSearchCV\n",
    "\n",
    "from sklearn.preprocessing import StandardScaler\n",
    "\n",
    "from sklearn.ensemble import RandomForestRegressor, GradientBoostingRegressor\n",
    "\n",
    "from sklearn.tree import DecisionTreeRegressor\n",
    "\n",
    "from sklearn.linear_model import ElasticNet\n",
    "\n",
    "from sklearn.metrics import mean_squared_error"
   ]
  },
  {
   "cell_type": "markdown",
   "id": "ab33580f",
   "metadata": {},
   "source": [
    "**데이터프레임 설정**"
   ]
  },
  {
   "cell_type": "code",
   "execution_count": 3,
   "id": "7932267a",
   "metadata": {},
   "outputs": [],
   "source": [
    "pd.set_option('display.max_columns', None) # 모든 특성이 잘리지 않도록 함."
   ]
  },
  {
   "cell_type": "markdown",
   "id": "981e4ddc",
   "metadata": {},
   "source": [
    "**matplotlib 한글 설정**"
   ]
  },
  {
   "cell_type": "code",
   "execution_count": 4,
   "id": "cd891ff6",
   "metadata": {},
   "outputs": [],
   "source": [
    "# !pip install koreanize_matplotlib\n",
    "# import koreanize_matplotlib"
   ]
  },
  {
   "cell_type": "markdown",
   "id": "90e89207",
   "metadata": {},
   "source": [
    "## 죽산보 데이터 불러오기"
   ]
  },
  {
   "cell_type": "markdown",
   "id": "cdc0e677",
   "metadata": {},
   "source": [
    "**디렉토리 관리 객체**"
   ]
  },
  {
   "cell_type": "code",
   "execution_count": 5,
   "id": "acf95c53",
   "metadata": {},
   "outputs": [],
   "source": [
    "from pathlib import Path"
   ]
  },
  {
   "cell_type": "markdown",
   "id": "e538f9c2",
   "metadata": {},
   "source": [
    "**데이터 저장소**"
   ]
  },
  {
   "cell_type": "code",
   "execution_count": 6,
   "id": "c4ea1283",
   "metadata": {},
   "outputs": [],
   "source": [
    "from pathlib import Path\n",
    "\n",
    "base_path = Path(\"../data\")"
   ]
  },
  {
   "cell_type": "markdown",
   "id": "d40da176",
   "metadata": {},
   "source": [
    "**보 이름**"
   ]
  },
  {
   "cell_type": "markdown",
   "id": "46ad4bf0",
   "metadata": {},
   "source": [
    "- 영산강에 설치된 승촌보와 죽산보 중에 죽산보 데이터만 활용"
   ]
  },
  {
   "cell_type": "code",
   "execution_count": 7,
   "id": "d5a400cf",
   "metadata": {},
   "outputs": [],
   "source": [
    "weirs = ['죽산보', '승촌보']"
   ]
  },
  {
   "cell_type": "markdown",
   "id": "d0f24ff9",
   "metadata": {},
   "source": [
    "### 수질/기상 데이터 불러오기"
   ]
  },
  {
   "cell_type": "markdown",
   "id": "236ea3f3",
   "metadata": {},
   "source": [
    "**데이터 연도**"
   ]
  },
  {
   "cell_type": "markdown",
   "id": "f6f371c9",
   "metadata": {},
   "source": [
    "- 2012년부터 2023년도 사이의 데이터\n",
    "- **시간 단위**의 데이터\n",
    "- 죽산보 수량 데이터는 10분 단위의 데이터이며 다른 형식의 엑셀 파일에 저장되어 있어서 다른 방식으로 불러와야 함."
   ]
  },
  {
   "cell_type": "code",
   "execution_count": 8,
   "id": "59a545bb",
   "metadata": {},
   "outputs": [],
   "source": [
    "years = range(2012, 2024)"
   ]
  },
  {
   "cell_type": "markdown",
   "id": "423f9286",
   "metadata": {},
   "source": [
    "**디렉토리에서 원하는 파일목록 리스트로 가져오기**"
   ]
  },
  {
   "cell_type": "markdown",
   "id": "8164d5bd",
   "metadata": {},
   "source": [
    "- 16개 보의 기상 데이터와 수질 데이터가 연도별로 수집되어 있음."
   ]
  },
  {
   "cell_type": "code",
   "execution_count": 9,
   "id": "bce9fb8f",
   "metadata": {},
   "outputs": [],
   "source": [
    "import os\n",
    "\n",
    "def file_arr(path):\n",
    "    arr = []\n",
    "    fileList = os.listdir(path)\n",
    "    fileList.sort()\n",
    "    \n",
    "    for f in fileList:\n",
    "        # 임시 파일 제외\n",
    "        if f.find('~$') != -1:\n",
    "            continue\n",
    "        if f.find('zNex~$hare') != -1:\n",
    "            continue\n",
    "        if f.find('.xlsx') != -1:\n",
    "            arr.append(path / f)\n",
    "    return arr"
   ]
  },
  {
   "cell_type": "markdown",
   "id": "ef4376af",
   "metadata": {},
   "source": [
    "- 16개 보의 수질 데이터를 담고 있는 연도별 파일 목록"
   ]
  },
  {
   "cell_type": "code",
   "execution_count": 10,
   "id": "216c2a9f",
   "metadata": {},
   "outputs": [
    {
     "data": {
      "text/plain": [
       "[PosixPath('../data/16개 보_수질 데이터/수질_2012년도(7~12월).xlsx'),\n",
       " PosixPath('../data/16개 보_수질 데이터/수질_2013년도.xlsx'),\n",
       " PosixPath('../data/16개 보_수질 데이터/수질_2014년도.xlsx'),\n",
       " PosixPath('../data/16개 보_수질 데이터/수질_2015년도.xlsx'),\n",
       " PosixPath('../data/16개 보_수질 데이터/수질_2016년도.xlsx'),\n",
       " PosixPath('../data/16개 보_수질 데이터/수질_2017년도.xlsx'),\n",
       " PosixPath('../data/16개 보_수질 데이터/수질_2018년도.xlsx'),\n",
       " PosixPath('../data/16개 보_수질 데이터/수질_2019년도.xlsx'),\n",
       " PosixPath('../data/16개 보_수질 데이터/수질_2020년도.xlsx'),\n",
       " PosixPath('../data/16개 보_수질 데이터/수질_2021년도.xlsx'),\n",
       " PosixPath('../data/16개 보_수질 데이터/수질_2022년도.xlsx'),\n",
       " PosixPath('../data/16개 보_수질 데이터/수질_2023년도(1~8월).xlsx')]"
      ]
     },
     "execution_count": 10,
     "metadata": {},
     "output_type": "execute_result"
    }
   ],
   "source": [
    "file_arr(base_path / '16개 보_수질 데이터')"
   ]
  },
  {
   "cell_type": "markdown",
   "id": "694c9a7d",
   "metadata": {},
   "source": [
    "- 16개 보의 기상 데이터를 담고 있는 연도별 파일 목록"
   ]
  },
  {
   "cell_type": "code",
   "execution_count": 11,
   "id": "79079446",
   "metadata": {},
   "outputs": [
    {
     "data": {
      "text/plain": [
       "[PosixPath('../data/16개 보_기상 데이터/기상_2012년도.xlsx'),\n",
       " PosixPath('../data/16개 보_기상 데이터/기상_2013년도.xlsx'),\n",
       " PosixPath('../data/16개 보_기상 데이터/기상_2014년도.xlsx'),\n",
       " PosixPath('../data/16개 보_기상 데이터/기상_2015년도.xlsx'),\n",
       " PosixPath('../data/16개 보_기상 데이터/기상_2016년도.xlsx'),\n",
       " PosixPath('../data/16개 보_기상 데이터/기상_2017년도.xlsx'),\n",
       " PosixPath('../data/16개 보_기상 데이터/기상_2018년도.xlsx'),\n",
       " PosixPath('../data/16개 보_기상 데이터/기상_2019년도.xlsx'),\n",
       " PosixPath('../data/16개 보_기상 데이터/기상_2020년도.xlsx'),\n",
       " PosixPath('../data/16개 보_기상 데이터/기상_2021년도.xlsx'),\n",
       " PosixPath('../data/16개 보_기상 데이터/기상_2022년도.xlsx'),\n",
       " PosixPath('../data/16개 보_기상 데이터/기상_2023년도.xlsx')]"
      ]
     },
     "execution_count": 11,
     "metadata": {},
     "output_type": "execute_result"
    }
   ],
   "source": [
    "file_arr(base_path / '16개 보_기상 데이터')"
   ]
  },
  {
   "cell_type": "markdown",
   "id": "242ea679",
   "metadata": {},
   "source": [
    "**연도별 수질 데이터 불러오기**"
   ]
  },
  {
   "cell_type": "markdown",
   "id": "7fbc6ec5",
   "metadata": {},
   "source": [
    "- 16개 보 수질/기상 데이터를 객체를 값으로 갖는 사전으로 불러오는 함수"
   ]
  },
  {
   "cell_type": "code",
   "execution_count": 12,
   "id": "3b247daa",
   "metadata": {},
   "outputs": [],
   "source": [
    "from collections import defaultdict\n",
    "\n",
    "def data_merge(dirName):\n",
    "    ndriver_weir_dict = defaultdict(dict)\n",
    "    fileList = file_arr(base_path / dirName)\n",
    "    \n",
    "    for f in fileList:\n",
    "        if '20' in f.name and '년' in f.name:\n",
    "            year = f.name[f.name.find('20'): f.name.find('20') + 4]\n",
    "        else:\n",
    "            year = f'20{f.name[-7:-5]}'\n",
    "\n",
    "        print(f'===== {year} 시작 =====')\n",
    "            \n",
    "        # pd.ExcelFile() 함수를 이용하여 엑셀 파일 정보와 함께 시트별로 데이터 불러옴\n",
    "        with pd.ExcelFile(f) as xls:\n",
    "            for sheetName in xls.sheet_names:\n",
    "                if '(' in sheetName:\n",
    "                    idx = sheetName.index('(')\n",
    "                    weir = sheetName[:idx]\n",
    "                elif '·' in sheetName:\n",
    "                    weir = sheetName.replace('·', '')\n",
    "                else:\n",
    "                    weir = sheetName\n",
    "\n",
    "                if weir in weirs:\n",
    "                    ndriver_weir_dict[weir][year] = pd.read_excel(xls, sheet_name = sheetName)\n",
    "                    print(f'{weir}', end = ', ')\n",
    "            print()\n",
    "\n",
    "    return ndriver_weir_dict"
   ]
  },
  {
   "cell_type": "markdown",
   "id": "d9fbc72e",
   "metadata": {},
   "source": [
    "- 죽산보/승촌보 수질 데이터 불러오기"
   ]
  },
  {
   "cell_type": "code",
   "execution_count": 13,
   "id": "fdcbedb2",
   "metadata": {},
   "outputs": [
    {
     "name": "stdout",
     "output_type": "stream",
     "text": [
      "===== 2012 시작 =====\n",
      "승촌보, 죽산보, \n",
      "===== 2013 시작 =====\n",
      "승촌보, 죽산보, \n",
      "===== 2014 시작 =====\n",
      "승촌보, 죽산보, \n",
      "===== 2015 시작 =====\n",
      "승촌보, 죽산보, \n",
      "===== 2016 시작 =====\n",
      "승촌보, 죽산보, \n",
      "===== 2017 시작 =====\n",
      "승촌보, 죽산보, \n",
      "===== 2018 시작 =====\n",
      "승촌보, 죽산보, \n",
      "===== 2019 시작 =====\n",
      "승촌보, 죽산보, \n",
      "===== 2020 시작 =====\n",
      "승촌보, 죽산보, \n",
      "===== 2021 시작 =====\n",
      "승촌보, 죽산보, \n",
      "===== 2022 시작 =====\n",
      "승촌보, 죽산보, \n",
      "===== 2023 시작 =====\n",
      "승촌보, 죽산보, \n"
     ]
    }
   ],
   "source": [
    "jsb_wq = data_merge('16개 보_수질 데이터')"
   ]
  },
  {
   "cell_type": "code",
   "execution_count": 14,
   "id": "895a4db4",
   "metadata": {},
   "outputs": [
    {
     "data": {
      "text/plain": [
       "dict_keys(['승촌보', '죽산보'])"
      ]
     },
     "execution_count": 14,
     "metadata": {},
     "output_type": "execute_result"
    }
   ],
   "source": [
    "jsb_wq.keys()"
   ]
  },
  {
   "cell_type": "code",
   "execution_count": 15,
   "id": "8dc15178",
   "metadata": {},
   "outputs": [
    {
     "data": {
      "text/plain": [
       "dict_keys(['2012', '2013', '2014', '2015', '2016', '2017', '2018', '2019', '2020', '2021', '2022', '2023'])"
      ]
     },
     "execution_count": 15,
     "metadata": {},
     "output_type": "execute_result"
    }
   ],
   "source": [
    "jsb_wq['승촌보'].keys()"
   ]
  },
  {
   "cell_type": "code",
   "execution_count": 16,
   "id": "deb804a0",
   "metadata": {},
   "outputs": [
    {
     "data": {
      "text/plain": [
       "dict_keys(['2012', '2013', '2014', '2015', '2016', '2017', '2018', '2019', '2020', '2021', '2022', '2023'])"
      ]
     },
     "execution_count": 16,
     "metadata": {},
     "output_type": "execute_result"
    }
   ],
   "source": [
    "jsb_wq['죽산보'].keys()"
   ]
  },
  {
   "cell_type": "markdown",
   "id": "e54bf7de",
   "metadata": {},
   "source": [
    "- 예제: 죽산보 2012년 수질 데이터"
   ]
  },
  {
   "cell_type": "code",
   "execution_count": null,
   "id": "93694cff",
   "metadata": {},
   "outputs": [
    {
     "data": {
      "text/html": [
       "<div>\n",
       "<style scoped>\n",
       "    .dataframe tbody tr th:only-of-type {\n",
       "        vertical-align: middle;\n",
       "    }\n",
       "\n",
       "    .dataframe tbody tr th {\n",
       "        vertical-align: top;\n",
       "    }\n",
       "\n",
       "    .dataframe thead th {\n",
       "        text-align: right;\n",
       "    }\n",
       "</style>\n",
       "<table border=\"1\" class=\"dataframe\">\n",
       "  <thead>\n",
       "    <tr style=\"text-align: right;\">\n",
       "      <th></th>\n",
       "      <th>측정일(시)</th>\n",
       "      <th>수온 (℃)</th>\n",
       "      <th>수소이온농도</th>\n",
       "      <th>전기전도도 (μS/cm)</th>\n",
       "      <th>용존산소 (mg/L)</th>\n",
       "      <th>탁도 (NTU)</th>\n",
       "      <th>총유기탄소 (mg/L)</th>\n",
       "      <th>총질소 (mg/L)</th>\n",
       "      <th>총인 (mg/L)</th>\n",
       "      <th>클로로필-a (mg/㎥)</th>\n",
       "    </tr>\n",
       "  </thead>\n",
       "  <tbody>\n",
       "    <tr>\n",
       "      <th>0</th>\n",
       "      <td>2012-07-01 00h</td>\n",
       "      <td>NaN</td>\n",
       "      <td>NaN</td>\n",
       "      <td>NaN</td>\n",
       "      <td>NaN</td>\n",
       "      <td>NaN</td>\n",
       "      <td>NaN</td>\n",
       "      <td>NaN</td>\n",
       "      <td>NaN</td>\n",
       "      <td>NaN</td>\n",
       "    </tr>\n",
       "    <tr>\n",
       "      <th>1</th>\n",
       "      <td>2012-07-01 01h</td>\n",
       "      <td>NaN</td>\n",
       "      <td>NaN</td>\n",
       "      <td>NaN</td>\n",
       "      <td>NaN</td>\n",
       "      <td>NaN</td>\n",
       "      <td>NaN</td>\n",
       "      <td>NaN</td>\n",
       "      <td>NaN</td>\n",
       "      <td>NaN</td>\n",
       "    </tr>\n",
       "    <tr>\n",
       "      <th>2</th>\n",
       "      <td>2012-07-01 02h</td>\n",
       "      <td>NaN</td>\n",
       "      <td>NaN</td>\n",
       "      <td>NaN</td>\n",
       "      <td>NaN</td>\n",
       "      <td>NaN</td>\n",
       "      <td>NaN</td>\n",
       "      <td>NaN</td>\n",
       "      <td>NaN</td>\n",
       "      <td>NaN</td>\n",
       "    </tr>\n",
       "    <tr>\n",
       "      <th>3</th>\n",
       "      <td>2012-07-01 03h</td>\n",
       "      <td>NaN</td>\n",
       "      <td>NaN</td>\n",
       "      <td>NaN</td>\n",
       "      <td>NaN</td>\n",
       "      <td>NaN</td>\n",
       "      <td>NaN</td>\n",
       "      <td>NaN</td>\n",
       "      <td>NaN</td>\n",
       "      <td>NaN</td>\n",
       "    </tr>\n",
       "    <tr>\n",
       "      <th>4</th>\n",
       "      <td>2012-07-01 04h</td>\n",
       "      <td>NaN</td>\n",
       "      <td>NaN</td>\n",
       "      <td>NaN</td>\n",
       "      <td>NaN</td>\n",
       "      <td>NaN</td>\n",
       "      <td>NaN</td>\n",
       "      <td>NaN</td>\n",
       "      <td>NaN</td>\n",
       "      <td>NaN</td>\n",
       "    </tr>\n",
       "    <tr>\n",
       "      <th>...</th>\n",
       "      <td>...</td>\n",
       "      <td>...</td>\n",
       "      <td>...</td>\n",
       "      <td>...</td>\n",
       "      <td>...</td>\n",
       "      <td>...</td>\n",
       "      <td>...</td>\n",
       "      <td>...</td>\n",
       "      <td>...</td>\n",
       "      <td>...</td>\n",
       "    </tr>\n",
       "    <tr>\n",
       "      <th>4411</th>\n",
       "      <td>2012-12-31 19h</td>\n",
       "      <td>3.2</td>\n",
       "      <td>6.8</td>\n",
       "      <td>271.0</td>\n",
       "      <td>12.2</td>\n",
       "      <td>1.9</td>\n",
       "      <td>1.9</td>\n",
       "      <td>NaN</td>\n",
       "      <td>NaN</td>\n",
       "      <td>11.9</td>\n",
       "    </tr>\n",
       "    <tr>\n",
       "      <th>4412</th>\n",
       "      <td>2012-12-31 20h</td>\n",
       "      <td>3.0</td>\n",
       "      <td>6.8</td>\n",
       "      <td>272.0</td>\n",
       "      <td>12.2</td>\n",
       "      <td>1.7</td>\n",
       "      <td>1.9</td>\n",
       "      <td>NaN</td>\n",
       "      <td>NaN</td>\n",
       "      <td>11.6</td>\n",
       "    </tr>\n",
       "    <tr>\n",
       "      <th>4413</th>\n",
       "      <td>2012-12-31 21h</td>\n",
       "      <td>3.2</td>\n",
       "      <td>6.8</td>\n",
       "      <td>272.0</td>\n",
       "      <td>12.3</td>\n",
       "      <td>6.4</td>\n",
       "      <td>1.9</td>\n",
       "      <td>NaN</td>\n",
       "      <td>NaN</td>\n",
       "      <td>11.6</td>\n",
       "    </tr>\n",
       "    <tr>\n",
       "      <th>4414</th>\n",
       "      <td>2012-12-31 22h</td>\n",
       "      <td>3.1</td>\n",
       "      <td>6.8</td>\n",
       "      <td>272.0</td>\n",
       "      <td>12.2</td>\n",
       "      <td>2.1</td>\n",
       "      <td>1.9</td>\n",
       "      <td>NaN</td>\n",
       "      <td>NaN</td>\n",
       "      <td>11.7</td>\n",
       "    </tr>\n",
       "    <tr>\n",
       "      <th>4415</th>\n",
       "      <td>2012-12-31 23h</td>\n",
       "      <td>3.3</td>\n",
       "      <td>6.8</td>\n",
       "      <td>272.0</td>\n",
       "      <td>12.1</td>\n",
       "      <td>1.8</td>\n",
       "      <td>1.9</td>\n",
       "      <td>NaN</td>\n",
       "      <td>NaN</td>\n",
       "      <td>12.0</td>\n",
       "    </tr>\n",
       "  </tbody>\n",
       "</table>\n",
       "<p>4416 rows × 10 columns</p>\n",
       "</div>"
      ],
      "text/plain": [
       "              측정일(시)  수온 (℃)  수소이온농도  전기전도도 (μS/cm)  용존산소 (mg/L)  탁도 (NTU)  \\\n",
       "0     2012-07-01 00h     NaN     NaN            NaN          NaN       NaN   \n",
       "1     2012-07-01 01h     NaN     NaN            NaN          NaN       NaN   \n",
       "2     2012-07-01 02h     NaN     NaN            NaN          NaN       NaN   \n",
       "3     2012-07-01 03h     NaN     NaN            NaN          NaN       NaN   \n",
       "4     2012-07-01 04h     NaN     NaN            NaN          NaN       NaN   \n",
       "...              ...     ...     ...            ...          ...       ...   \n",
       "4411  2012-12-31 19h     3.2     6.8          271.0         12.2       1.9   \n",
       "4412  2012-12-31 20h     3.0     6.8          272.0         12.2       1.7   \n",
       "4413  2012-12-31 21h     3.2     6.8          272.0         12.3       6.4   \n",
       "4414  2012-12-31 22h     3.1     6.8          272.0         12.2       2.1   \n",
       "4415  2012-12-31 23h     3.3     6.8          272.0         12.1       1.8   \n",
       "\n",
       "      총유기탄소 (mg/L)  총질소 (mg/L)  총인 (mg/L)  클로로필-a (mg/㎥)  \n",
       "0              NaN         NaN        NaN            NaN  \n",
       "1              NaN         NaN        NaN            NaN  \n",
       "2              NaN         NaN        NaN            NaN  \n",
       "3              NaN         NaN        NaN            NaN  \n",
       "4              NaN         NaN        NaN            NaN  \n",
       "...            ...         ...        ...            ...  \n",
       "4411           1.9         NaN        NaN           11.9  \n",
       "4412           1.9         NaN        NaN           11.6  \n",
       "4413           1.9         NaN        NaN           11.6  \n",
       "4414           1.9         NaN        NaN           11.7  \n",
       "4415           1.9         NaN        NaN           12.0  \n",
       "\n",
       "[4416 rows x 10 columns]"
      ]
     },
     "execution_count": 17,
     "metadata": {},
     "output_type": "execute_result"
    }
   ],
   "source": [
    "jsb_wq['죽산보']['2012']"
   ]
  },
  {
   "cell_type": "markdown",
   "id": "eedc677a",
   "metadata": {},
   "source": [
    "- 예제: 승촌보 2012년 수질 데이터"
   ]
  },
  {
   "cell_type": "code",
   "execution_count": 18,
   "id": "c5c2c67e",
   "metadata": {},
   "outputs": [
    {
     "data": {
      "text/html": [
       "<div>\n",
       "<style scoped>\n",
       "    .dataframe tbody tr th:only-of-type {\n",
       "        vertical-align: middle;\n",
       "    }\n",
       "\n",
       "    .dataframe tbody tr th {\n",
       "        vertical-align: top;\n",
       "    }\n",
       "\n",
       "    .dataframe thead th {\n",
       "        text-align: right;\n",
       "    }\n",
       "</style>\n",
       "<table border=\"1\" class=\"dataframe\">\n",
       "  <thead>\n",
       "    <tr style=\"text-align: right;\">\n",
       "      <th></th>\n",
       "      <th>측정일(시)</th>\n",
       "      <th>수온 (℃)</th>\n",
       "      <th>수소이온농도</th>\n",
       "      <th>전기전도도 (μS/cm)</th>\n",
       "      <th>용존산소 (mg/L)</th>\n",
       "      <th>총유기탄소 (mg/L)</th>\n",
       "      <th>총질소 (mg/L)</th>\n",
       "      <th>총인 (mg/L)</th>\n",
       "      <th>클로로필-a (mg/㎥)</th>\n",
       "    </tr>\n",
       "  </thead>\n",
       "  <tbody>\n",
       "    <tr>\n",
       "      <th>0</th>\n",
       "      <td>2012-07-01 00h</td>\n",
       "      <td>NaN</td>\n",
       "      <td>NaN</td>\n",
       "      <td>NaN</td>\n",
       "      <td>NaN</td>\n",
       "      <td>NaN</td>\n",
       "      <td>NaN</td>\n",
       "      <td>NaN</td>\n",
       "      <td>NaN</td>\n",
       "    </tr>\n",
       "    <tr>\n",
       "      <th>1</th>\n",
       "      <td>2012-07-01 01h</td>\n",
       "      <td>NaN</td>\n",
       "      <td>NaN</td>\n",
       "      <td>NaN</td>\n",
       "      <td>NaN</td>\n",
       "      <td>NaN</td>\n",
       "      <td>NaN</td>\n",
       "      <td>NaN</td>\n",
       "      <td>NaN</td>\n",
       "    </tr>\n",
       "    <tr>\n",
       "      <th>2</th>\n",
       "      <td>2012-07-01 02h</td>\n",
       "      <td>NaN</td>\n",
       "      <td>NaN</td>\n",
       "      <td>NaN</td>\n",
       "      <td>NaN</td>\n",
       "      <td>NaN</td>\n",
       "      <td>NaN</td>\n",
       "      <td>NaN</td>\n",
       "      <td>NaN</td>\n",
       "    </tr>\n",
       "    <tr>\n",
       "      <th>3</th>\n",
       "      <td>2012-07-01 03h</td>\n",
       "      <td>NaN</td>\n",
       "      <td>NaN</td>\n",
       "      <td>NaN</td>\n",
       "      <td>NaN</td>\n",
       "      <td>NaN</td>\n",
       "      <td>NaN</td>\n",
       "      <td>NaN</td>\n",
       "      <td>NaN</td>\n",
       "    </tr>\n",
       "    <tr>\n",
       "      <th>4</th>\n",
       "      <td>2012-07-01 04h</td>\n",
       "      <td>NaN</td>\n",
       "      <td>NaN</td>\n",
       "      <td>NaN</td>\n",
       "      <td>NaN</td>\n",
       "      <td>NaN</td>\n",
       "      <td>NaN</td>\n",
       "      <td>NaN</td>\n",
       "      <td>NaN</td>\n",
       "    </tr>\n",
       "    <tr>\n",
       "      <th>...</th>\n",
       "      <td>...</td>\n",
       "      <td>...</td>\n",
       "      <td>...</td>\n",
       "      <td>...</td>\n",
       "      <td>...</td>\n",
       "      <td>...</td>\n",
       "      <td>...</td>\n",
       "      <td>...</td>\n",
       "      <td>...</td>\n",
       "    </tr>\n",
       "    <tr>\n",
       "      <th>4411</th>\n",
       "      <td>2012-12-31 19h</td>\n",
       "      <td>4.4</td>\n",
       "      <td>6.9</td>\n",
       "      <td>374.0</td>\n",
       "      <td>11.3</td>\n",
       "      <td>2.5</td>\n",
       "      <td>NaN</td>\n",
       "      <td>NaN</td>\n",
       "      <td>6.9</td>\n",
       "    </tr>\n",
       "    <tr>\n",
       "      <th>4412</th>\n",
       "      <td>2012-12-31 20h</td>\n",
       "      <td>4.3</td>\n",
       "      <td>6.9</td>\n",
       "      <td>374.0</td>\n",
       "      <td>11.4</td>\n",
       "      <td>2.5</td>\n",
       "      <td>NaN</td>\n",
       "      <td>NaN</td>\n",
       "      <td>7.2</td>\n",
       "    </tr>\n",
       "    <tr>\n",
       "      <th>4413</th>\n",
       "      <td>2012-12-31 21h</td>\n",
       "      <td>4.3</td>\n",
       "      <td>6.9</td>\n",
       "      <td>373.0</td>\n",
       "      <td>11.4</td>\n",
       "      <td>2.5</td>\n",
       "      <td>NaN</td>\n",
       "      <td>NaN</td>\n",
       "      <td>7.0</td>\n",
       "    </tr>\n",
       "    <tr>\n",
       "      <th>4414</th>\n",
       "      <td>2012-12-31 22h</td>\n",
       "      <td>4.3</td>\n",
       "      <td>6.9</td>\n",
       "      <td>375.0</td>\n",
       "      <td>11.4</td>\n",
       "      <td>2.5</td>\n",
       "      <td>NaN</td>\n",
       "      <td>NaN</td>\n",
       "      <td>7.1</td>\n",
       "    </tr>\n",
       "    <tr>\n",
       "      <th>4415</th>\n",
       "      <td>2012-12-31 23h</td>\n",
       "      <td>4.1</td>\n",
       "      <td>6.9</td>\n",
       "      <td>375.0</td>\n",
       "      <td>11.4</td>\n",
       "      <td>2.5</td>\n",
       "      <td>NaN</td>\n",
       "      <td>NaN</td>\n",
       "      <td>7.1</td>\n",
       "    </tr>\n",
       "  </tbody>\n",
       "</table>\n",
       "<p>4416 rows × 9 columns</p>\n",
       "</div>"
      ],
      "text/plain": [
       "              측정일(시)  수온 (℃)  수소이온농도  전기전도도 (μS/cm)  용존산소 (mg/L)  \\\n",
       "0     2012-07-01 00h     NaN     NaN            NaN          NaN   \n",
       "1     2012-07-01 01h     NaN     NaN            NaN          NaN   \n",
       "2     2012-07-01 02h     NaN     NaN            NaN          NaN   \n",
       "3     2012-07-01 03h     NaN     NaN            NaN          NaN   \n",
       "4     2012-07-01 04h     NaN     NaN            NaN          NaN   \n",
       "...              ...     ...     ...            ...          ...   \n",
       "4411  2012-12-31 19h     4.4     6.9          374.0         11.3   \n",
       "4412  2012-12-31 20h     4.3     6.9          374.0         11.4   \n",
       "4413  2012-12-31 21h     4.3     6.9          373.0         11.4   \n",
       "4414  2012-12-31 22h     4.3     6.9          375.0         11.4   \n",
       "4415  2012-12-31 23h     4.1     6.9          375.0         11.4   \n",
       "\n",
       "      총유기탄소 (mg/L)  총질소 (mg/L)  총인 (mg/L)  클로로필-a (mg/㎥)  \n",
       "0              NaN         NaN        NaN            NaN  \n",
       "1              NaN         NaN        NaN            NaN  \n",
       "2              NaN         NaN        NaN            NaN  \n",
       "3              NaN         NaN        NaN            NaN  \n",
       "4              NaN         NaN        NaN            NaN  \n",
       "...            ...         ...        ...            ...  \n",
       "4411           2.5         NaN        NaN            6.9  \n",
       "4412           2.5         NaN        NaN            7.2  \n",
       "4413           2.5         NaN        NaN            7.0  \n",
       "4414           2.5         NaN        NaN            7.1  \n",
       "4415           2.5         NaN        NaN            7.1  \n",
       "\n",
       "[4416 rows x 9 columns]"
      ]
     },
     "execution_count": 18,
     "metadata": {},
     "output_type": "execute_result"
    }
   ],
   "source": [
    "jsb_wq['승촌보']['2012']"
   ]
  },
  {
   "cell_type": "markdown",
   "id": "214f24bd",
   "metadata": {},
   "source": [
    "- 죽산보/승촌보 기상 데이터 불러오기"
   ]
  },
  {
   "cell_type": "code",
   "execution_count": 19,
   "id": "546f9476",
   "metadata": {},
   "outputs": [
    {
     "name": "stdout",
     "output_type": "stream",
     "text": [
      "===== 2012 시작 =====\n",
      "승촌보, 죽산보, \n",
      "===== 2013 시작 =====\n",
      "승촌보, 죽산보, \n",
      "===== 2014 시작 =====\n",
      "승촌보, 죽산보, \n",
      "===== 2015 시작 =====\n",
      "승촌보, 죽산보, \n",
      "===== 2016 시작 =====\n",
      "승촌보, 죽산보, \n",
      "===== 2017 시작 =====\n",
      "승촌보, 죽산보, \n",
      "===== 2018 시작 =====\n",
      "승촌보, 죽산보, \n",
      "===== 2019 시작 =====\n",
      "승촌보, 죽산보, \n",
      "===== 2020 시작 =====\n",
      "승촌보, 죽산보, \n",
      "===== 2021 시작 =====\n",
      "승촌보, 죽산보, \n",
      "===== 2022 시작 =====\n",
      "승촌보, 죽산보, \n",
      "===== 2023 시작 =====\n",
      "승촌보, 죽산보, \n"
     ]
    }
   ],
   "source": [
    "jsb_weather = data_merge('16개 보_기상 데이터')"
   ]
  },
  {
   "cell_type": "code",
   "execution_count": 20,
   "id": "ec4957af",
   "metadata": {},
   "outputs": [
    {
     "data": {
      "text/plain": [
       "dict_keys(['승촌보', '죽산보'])"
      ]
     },
     "execution_count": 20,
     "metadata": {},
     "output_type": "execute_result"
    }
   ],
   "source": [
    "jsb_weather.keys()"
   ]
  },
  {
   "cell_type": "code",
   "execution_count": 21,
   "id": "666c5d24",
   "metadata": {},
   "outputs": [
    {
     "data": {
      "text/plain": [
       "dict_keys(['2012', '2013', '2014', '2015', '2016', '2017', '2018', '2019', '2020', '2021', '2022', '2023'])"
      ]
     },
     "execution_count": 21,
     "metadata": {},
     "output_type": "execute_result"
    }
   ],
   "source": [
    "jsb_weather['죽산보'].keys()"
   ]
  },
  {
   "cell_type": "code",
   "execution_count": 22,
   "id": "7427ca35",
   "metadata": {},
   "outputs": [
    {
     "data": {
      "text/plain": [
       "dict_keys(['2012', '2013', '2014', '2015', '2016', '2017', '2018', '2019', '2020', '2021', '2022', '2023'])"
      ]
     },
     "execution_count": 22,
     "metadata": {},
     "output_type": "execute_result"
    }
   ],
   "source": [
    "jsb_weather['승촌보'].keys()"
   ]
  },
  {
   "cell_type": "markdown",
   "id": "f55f34c0",
   "metadata": {},
   "source": [
    "- 예제: 죽산보 2012년 기상 데이터"
   ]
  },
  {
   "cell_type": "code",
   "execution_count": 23,
   "id": "3b34c85d",
   "metadata": {},
   "outputs": [
    {
     "data": {
      "text/html": [
       "<div>\n",
       "<style scoped>\n",
       "    .dataframe tbody tr th:only-of-type {\n",
       "        vertical-align: middle;\n",
       "    }\n",
       "\n",
       "    .dataframe tbody tr th {\n",
       "        vertical-align: top;\n",
       "    }\n",
       "\n",
       "    .dataframe thead th {\n",
       "        text-align: right;\n",
       "    }\n",
       "</style>\n",
       "<table border=\"1\" class=\"dataframe\">\n",
       "  <thead>\n",
       "    <tr style=\"text-align: right;\">\n",
       "      <th></th>\n",
       "      <th>지점</th>\n",
       "      <th>지점명</th>\n",
       "      <th>일시</th>\n",
       "      <th>기온(°C)</th>\n",
       "      <th>강수량(mm)</th>\n",
       "      <th>풍속(m/s)</th>\n",
       "      <th>일조(hr)</th>\n",
       "      <th>일사(MJ/m2)</th>\n",
       "      <th>전운량(10분위)</th>\n",
       "      <th>중하층운량(10분위)</th>\n",
       "    </tr>\n",
       "  </thead>\n",
       "  <tbody>\n",
       "    <tr>\n",
       "      <th>0</th>\n",
       "      <td>156</td>\n",
       "      <td>광주</td>\n",
       "      <td>2012-07-01 00:00:00</td>\n",
       "      <td>21.6</td>\n",
       "      <td>NaN</td>\n",
       "      <td>2.1</td>\n",
       "      <td>NaN</td>\n",
       "      <td>NaN</td>\n",
       "      <td>8.0</td>\n",
       "      <td>8.0</td>\n",
       "    </tr>\n",
       "    <tr>\n",
       "      <th>1</th>\n",
       "      <td>156</td>\n",
       "      <td>광주</td>\n",
       "      <td>2012-07-01 01:00:00</td>\n",
       "      <td>21.3</td>\n",
       "      <td>NaN</td>\n",
       "      <td>1.6</td>\n",
       "      <td>NaN</td>\n",
       "      <td>NaN</td>\n",
       "      <td>NaN</td>\n",
       "      <td>NaN</td>\n",
       "    </tr>\n",
       "    <tr>\n",
       "      <th>2</th>\n",
       "      <td>156</td>\n",
       "      <td>광주</td>\n",
       "      <td>2012-07-01 02:00:00</td>\n",
       "      <td>21.1</td>\n",
       "      <td>NaN</td>\n",
       "      <td>0.8</td>\n",
       "      <td>NaN</td>\n",
       "      <td>NaN</td>\n",
       "      <td>NaN</td>\n",
       "      <td>NaN</td>\n",
       "    </tr>\n",
       "    <tr>\n",
       "      <th>3</th>\n",
       "      <td>156</td>\n",
       "      <td>광주</td>\n",
       "      <td>2012-07-01 03:00:00</td>\n",
       "      <td>21.1</td>\n",
       "      <td>NaN</td>\n",
       "      <td>1.3</td>\n",
       "      <td>NaN</td>\n",
       "      <td>NaN</td>\n",
       "      <td>9.0</td>\n",
       "      <td>9.0</td>\n",
       "    </tr>\n",
       "    <tr>\n",
       "      <th>4</th>\n",
       "      <td>156</td>\n",
       "      <td>광주</td>\n",
       "      <td>2012-07-01 04:00:00</td>\n",
       "      <td>21.0</td>\n",
       "      <td>NaN</td>\n",
       "      <td>0.4</td>\n",
       "      <td>NaN</td>\n",
       "      <td>NaN</td>\n",
       "      <td>8.0</td>\n",
       "      <td>8.0</td>\n",
       "    </tr>\n",
       "    <tr>\n",
       "      <th>...</th>\n",
       "      <td>...</td>\n",
       "      <td>...</td>\n",
       "      <td>...</td>\n",
       "      <td>...</td>\n",
       "      <td>...</td>\n",
       "      <td>...</td>\n",
       "      <td>...</td>\n",
       "      <td>...</td>\n",
       "      <td>...</td>\n",
       "      <td>...</td>\n",
       "    </tr>\n",
       "    <tr>\n",
       "      <th>4411</th>\n",
       "      <td>156</td>\n",
       "      <td>광주</td>\n",
       "      <td>2012-12-31 19:00:00</td>\n",
       "      <td>-2.3</td>\n",
       "      <td>NaN</td>\n",
       "      <td>2.5</td>\n",
       "      <td>NaN</td>\n",
       "      <td>NaN</td>\n",
       "      <td>6.0</td>\n",
       "      <td>6.0</td>\n",
       "    </tr>\n",
       "    <tr>\n",
       "      <th>4412</th>\n",
       "      <td>156</td>\n",
       "      <td>광주</td>\n",
       "      <td>2012-12-31 20:00:00</td>\n",
       "      <td>-2.7</td>\n",
       "      <td>NaN</td>\n",
       "      <td>1.8</td>\n",
       "      <td>NaN</td>\n",
       "      <td>NaN</td>\n",
       "      <td>7.0</td>\n",
       "      <td>7.0</td>\n",
       "    </tr>\n",
       "    <tr>\n",
       "      <th>4413</th>\n",
       "      <td>156</td>\n",
       "      <td>광주</td>\n",
       "      <td>2012-12-31 21:00:00</td>\n",
       "      <td>-2.9</td>\n",
       "      <td>0.2</td>\n",
       "      <td>0.6</td>\n",
       "      <td>NaN</td>\n",
       "      <td>NaN</td>\n",
       "      <td>6.0</td>\n",
       "      <td>6.0</td>\n",
       "    </tr>\n",
       "    <tr>\n",
       "      <th>4414</th>\n",
       "      <td>156</td>\n",
       "      <td>광주</td>\n",
       "      <td>2012-12-31 22:00:00</td>\n",
       "      <td>-3.4</td>\n",
       "      <td>NaN</td>\n",
       "      <td>0.1</td>\n",
       "      <td>NaN</td>\n",
       "      <td>NaN</td>\n",
       "      <td>NaN</td>\n",
       "      <td>NaN</td>\n",
       "    </tr>\n",
       "    <tr>\n",
       "      <th>4415</th>\n",
       "      <td>156</td>\n",
       "      <td>광주</td>\n",
       "      <td>2012-12-31 23:00:00</td>\n",
       "      <td>-3.7</td>\n",
       "      <td>NaN</td>\n",
       "      <td>0.3</td>\n",
       "      <td>NaN</td>\n",
       "      <td>NaN</td>\n",
       "      <td>NaN</td>\n",
       "      <td>NaN</td>\n",
       "    </tr>\n",
       "  </tbody>\n",
       "</table>\n",
       "<p>4416 rows × 10 columns</p>\n",
       "</div>"
      ],
      "text/plain": [
       "       지점 지점명                  일시  기온(°C)  강수량(mm)  풍속(m/s)  일조(hr)  \\\n",
       "0     156  광주 2012-07-01 00:00:00    21.6      NaN      2.1     NaN   \n",
       "1     156  광주 2012-07-01 01:00:00    21.3      NaN      1.6     NaN   \n",
       "2     156  광주 2012-07-01 02:00:00    21.1      NaN      0.8     NaN   \n",
       "3     156  광주 2012-07-01 03:00:00    21.1      NaN      1.3     NaN   \n",
       "4     156  광주 2012-07-01 04:00:00    21.0      NaN      0.4     NaN   \n",
       "...   ...  ..                 ...     ...      ...      ...     ...   \n",
       "4411  156  광주 2012-12-31 19:00:00    -2.3      NaN      2.5     NaN   \n",
       "4412  156  광주 2012-12-31 20:00:00    -2.7      NaN      1.8     NaN   \n",
       "4413  156  광주 2012-12-31 21:00:00    -2.9      0.2      0.6     NaN   \n",
       "4414  156  광주 2012-12-31 22:00:00    -3.4      NaN      0.1     NaN   \n",
       "4415  156  광주 2012-12-31 23:00:00    -3.7      NaN      0.3     NaN   \n",
       "\n",
       "      일사(MJ/m2)  전운량(10분위)  중하층운량(10분위)  \n",
       "0           NaN        8.0          8.0  \n",
       "1           NaN        NaN          NaN  \n",
       "2           NaN        NaN          NaN  \n",
       "3           NaN        9.0          9.0  \n",
       "4           NaN        8.0          8.0  \n",
       "...         ...        ...          ...  \n",
       "4411        NaN        6.0          6.0  \n",
       "4412        NaN        7.0          7.0  \n",
       "4413        NaN        6.0          6.0  \n",
       "4414        NaN        NaN          NaN  \n",
       "4415        NaN        NaN          NaN  \n",
       "\n",
       "[4416 rows x 10 columns]"
      ]
     },
     "execution_count": 23,
     "metadata": {},
     "output_type": "execute_result"
    }
   ],
   "source": [
    "jsb_weather['죽산보']['2012']"
   ]
  },
  {
   "cell_type": "markdown",
   "id": "3c66a200",
   "metadata": {},
   "source": [
    "- 예제: 승촌보 2012년 기상 데이터"
   ]
  },
  {
   "cell_type": "code",
   "execution_count": 24,
   "id": "a650ca7b",
   "metadata": {},
   "outputs": [
    {
     "data": {
      "text/html": [
       "<div>\n",
       "<style scoped>\n",
       "    .dataframe tbody tr th:only-of-type {\n",
       "        vertical-align: middle;\n",
       "    }\n",
       "\n",
       "    .dataframe tbody tr th {\n",
       "        vertical-align: top;\n",
       "    }\n",
       "\n",
       "    .dataframe thead th {\n",
       "        text-align: right;\n",
       "    }\n",
       "</style>\n",
       "<table border=\"1\" class=\"dataframe\">\n",
       "  <thead>\n",
       "    <tr style=\"text-align: right;\">\n",
       "      <th></th>\n",
       "      <th>지점</th>\n",
       "      <th>지점명</th>\n",
       "      <th>일시</th>\n",
       "      <th>기온(°C)</th>\n",
       "      <th>강수량(mm)</th>\n",
       "      <th>풍속(m/s)</th>\n",
       "      <th>일조(hr)</th>\n",
       "      <th>일사(MJ/m2)</th>\n",
       "      <th>전운량(10분위)</th>\n",
       "      <th>중하층운량(10분위)</th>\n",
       "    </tr>\n",
       "  </thead>\n",
       "  <tbody>\n",
       "    <tr>\n",
       "      <th>0</th>\n",
       "      <td>156</td>\n",
       "      <td>광주</td>\n",
       "      <td>2012-07-01 00:00:00</td>\n",
       "      <td>21.6</td>\n",
       "      <td>NaN</td>\n",
       "      <td>2.1</td>\n",
       "      <td>NaN</td>\n",
       "      <td>NaN</td>\n",
       "      <td>8.0</td>\n",
       "      <td>8.0</td>\n",
       "    </tr>\n",
       "    <tr>\n",
       "      <th>1</th>\n",
       "      <td>156</td>\n",
       "      <td>광주</td>\n",
       "      <td>2012-07-01 01:00:00</td>\n",
       "      <td>21.3</td>\n",
       "      <td>NaN</td>\n",
       "      <td>1.6</td>\n",
       "      <td>NaN</td>\n",
       "      <td>NaN</td>\n",
       "      <td>NaN</td>\n",
       "      <td>NaN</td>\n",
       "    </tr>\n",
       "    <tr>\n",
       "      <th>2</th>\n",
       "      <td>156</td>\n",
       "      <td>광주</td>\n",
       "      <td>2012-07-01 02:00:00</td>\n",
       "      <td>21.1</td>\n",
       "      <td>NaN</td>\n",
       "      <td>0.8</td>\n",
       "      <td>NaN</td>\n",
       "      <td>NaN</td>\n",
       "      <td>NaN</td>\n",
       "      <td>NaN</td>\n",
       "    </tr>\n",
       "    <tr>\n",
       "      <th>3</th>\n",
       "      <td>156</td>\n",
       "      <td>광주</td>\n",
       "      <td>2012-07-01 03:00:00</td>\n",
       "      <td>21.1</td>\n",
       "      <td>NaN</td>\n",
       "      <td>1.3</td>\n",
       "      <td>NaN</td>\n",
       "      <td>NaN</td>\n",
       "      <td>9.0</td>\n",
       "      <td>9.0</td>\n",
       "    </tr>\n",
       "    <tr>\n",
       "      <th>4</th>\n",
       "      <td>156</td>\n",
       "      <td>광주</td>\n",
       "      <td>2012-07-01 04:00:00</td>\n",
       "      <td>21.0</td>\n",
       "      <td>NaN</td>\n",
       "      <td>0.4</td>\n",
       "      <td>NaN</td>\n",
       "      <td>NaN</td>\n",
       "      <td>8.0</td>\n",
       "      <td>8.0</td>\n",
       "    </tr>\n",
       "    <tr>\n",
       "      <th>...</th>\n",
       "      <td>...</td>\n",
       "      <td>...</td>\n",
       "      <td>...</td>\n",
       "      <td>...</td>\n",
       "      <td>...</td>\n",
       "      <td>...</td>\n",
       "      <td>...</td>\n",
       "      <td>...</td>\n",
       "      <td>...</td>\n",
       "      <td>...</td>\n",
       "    </tr>\n",
       "    <tr>\n",
       "      <th>4411</th>\n",
       "      <td>156</td>\n",
       "      <td>광주</td>\n",
       "      <td>2012-12-31 19:00:00</td>\n",
       "      <td>-2.3</td>\n",
       "      <td>NaN</td>\n",
       "      <td>2.5</td>\n",
       "      <td>NaN</td>\n",
       "      <td>NaN</td>\n",
       "      <td>6.0</td>\n",
       "      <td>6.0</td>\n",
       "    </tr>\n",
       "    <tr>\n",
       "      <th>4412</th>\n",
       "      <td>156</td>\n",
       "      <td>광주</td>\n",
       "      <td>2012-12-31 20:00:00</td>\n",
       "      <td>-2.7</td>\n",
       "      <td>NaN</td>\n",
       "      <td>1.8</td>\n",
       "      <td>NaN</td>\n",
       "      <td>NaN</td>\n",
       "      <td>7.0</td>\n",
       "      <td>7.0</td>\n",
       "    </tr>\n",
       "    <tr>\n",
       "      <th>4413</th>\n",
       "      <td>156</td>\n",
       "      <td>광주</td>\n",
       "      <td>2012-12-31 21:00:00</td>\n",
       "      <td>-2.9</td>\n",
       "      <td>0.2</td>\n",
       "      <td>0.6</td>\n",
       "      <td>NaN</td>\n",
       "      <td>NaN</td>\n",
       "      <td>6.0</td>\n",
       "      <td>6.0</td>\n",
       "    </tr>\n",
       "    <tr>\n",
       "      <th>4414</th>\n",
       "      <td>156</td>\n",
       "      <td>광주</td>\n",
       "      <td>2012-12-31 22:00:00</td>\n",
       "      <td>-3.4</td>\n",
       "      <td>NaN</td>\n",
       "      <td>0.1</td>\n",
       "      <td>NaN</td>\n",
       "      <td>NaN</td>\n",
       "      <td>NaN</td>\n",
       "      <td>NaN</td>\n",
       "    </tr>\n",
       "    <tr>\n",
       "      <th>4415</th>\n",
       "      <td>156</td>\n",
       "      <td>광주</td>\n",
       "      <td>2012-12-31 23:00:00</td>\n",
       "      <td>-3.7</td>\n",
       "      <td>NaN</td>\n",
       "      <td>0.3</td>\n",
       "      <td>NaN</td>\n",
       "      <td>NaN</td>\n",
       "      <td>NaN</td>\n",
       "      <td>NaN</td>\n",
       "    </tr>\n",
       "  </tbody>\n",
       "</table>\n",
       "<p>4416 rows × 10 columns</p>\n",
       "</div>"
      ],
      "text/plain": [
       "       지점 지점명                  일시  기온(°C)  강수량(mm)  풍속(m/s)  일조(hr)  \\\n",
       "0     156  광주 2012-07-01 00:00:00    21.6      NaN      2.1     NaN   \n",
       "1     156  광주 2012-07-01 01:00:00    21.3      NaN      1.6     NaN   \n",
       "2     156  광주 2012-07-01 02:00:00    21.1      NaN      0.8     NaN   \n",
       "3     156  광주 2012-07-01 03:00:00    21.1      NaN      1.3     NaN   \n",
       "4     156  광주 2012-07-01 04:00:00    21.0      NaN      0.4     NaN   \n",
       "...   ...  ..                 ...     ...      ...      ...     ...   \n",
       "4411  156  광주 2012-12-31 19:00:00    -2.3      NaN      2.5     NaN   \n",
       "4412  156  광주 2012-12-31 20:00:00    -2.7      NaN      1.8     NaN   \n",
       "4413  156  광주 2012-12-31 21:00:00    -2.9      0.2      0.6     NaN   \n",
       "4414  156  광주 2012-12-31 22:00:00    -3.4      NaN      0.1     NaN   \n",
       "4415  156  광주 2012-12-31 23:00:00    -3.7      NaN      0.3     NaN   \n",
       "\n",
       "      일사(MJ/m2)  전운량(10분위)  중하층운량(10분위)  \n",
       "0           NaN        8.0          8.0  \n",
       "1           NaN        NaN          NaN  \n",
       "2           NaN        NaN          NaN  \n",
       "3           NaN        9.0          9.0  \n",
       "4           NaN        8.0          8.0  \n",
       "...         ...        ...          ...  \n",
       "4411        NaN        6.0          6.0  \n",
       "4412        NaN        7.0          7.0  \n",
       "4413        NaN        6.0          6.0  \n",
       "4414        NaN        NaN          NaN  \n",
       "4415        NaN        NaN          NaN  \n",
       "\n",
       "[4416 rows x 10 columns]"
      ]
     },
     "execution_count": 24,
     "metadata": {},
     "output_type": "execute_result"
    }
   ],
   "source": [
    "jsb_weather['승촌보']['2012']"
   ]
  },
  {
   "cell_type": "markdown",
   "id": "d53511b4",
   "metadata": {},
   "source": [
    "**수질/기상 데이터 통합**"
   ]
  },
  {
   "cell_type": "code",
   "execution_count": 25,
   "id": "6c0a3837",
   "metadata": {},
   "outputs": [],
   "source": [
    "def merge_weir_df(weir):\n",
    "    df_concat = pd.DataFrame()\n",
    "    \n",
    "    for year in years:\n",
    "        df1 = jsb_wq[weir][str(year)]\n",
    "        df2 = jsb_weather[weir][str(year)]\n",
    "#         df3 = jsb_dflow[weir][str(year)]\n",
    "        \n",
    "        df1 = df1.astype({'측정일(시)': 'datetime64[ns]'})\n",
    "        df2 = df2.astype({'일시': 'datetime64[ns]'}) \n",
    "#         df3 = df3.astype({'측정일(시)': 'datetime64[ns]'})\n",
    "                                  \n",
    "        df = pd.merge(df1, df2, left_on = '측정일(시)', right_on = '일시', how = 'left').drop(columns = '일시')\n",
    "#         df = pd.merge(df, df3, how = 'left')\n",
    "                                  \n",
    "        df_concat = pd.concat([df_concat, df]).reset_index(drop = True)\n",
    "\n",
    "    df_concat = df_concat.set_index('측정일(시)')\n",
    "    return df_concat"
   ]
  },
  {
   "cell_type": "code",
   "execution_count": 26,
   "id": "bb310cdd",
   "metadata": {},
   "outputs": [
    {
     "data": {
      "text/html": [
       "<div>\n",
       "<style scoped>\n",
       "    .dataframe tbody tr th:only-of-type {\n",
       "        vertical-align: middle;\n",
       "    }\n",
       "\n",
       "    .dataframe tbody tr th {\n",
       "        vertical-align: top;\n",
       "    }\n",
       "\n",
       "    .dataframe thead th {\n",
       "        text-align: right;\n",
       "    }\n",
       "</style>\n",
       "<table border=\"1\" class=\"dataframe\">\n",
       "  <thead>\n",
       "    <tr style=\"text-align: right;\">\n",
       "      <th></th>\n",
       "      <th>수온 (℃)</th>\n",
       "      <th>수소이온농도</th>\n",
       "      <th>전기전도도 (μS/cm)</th>\n",
       "      <th>용존산소 (mg/L)</th>\n",
       "      <th>탁도 (NTU)</th>\n",
       "      <th>총유기탄소 (mg/L)</th>\n",
       "      <th>총질소 (mg/L)</th>\n",
       "      <th>총인 (mg/L)</th>\n",
       "      <th>클로로필-a (mg/㎥)</th>\n",
       "      <th>지점</th>\n",
       "      <th>지점명</th>\n",
       "      <th>기온(°C)</th>\n",
       "      <th>강수량(mm)</th>\n",
       "      <th>풍속(m/s)</th>\n",
       "      <th>일조(hr)</th>\n",
       "      <th>일사(MJ/m2)</th>\n",
       "      <th>전운량(10분위)</th>\n",
       "      <th>중하층운량(10분위)</th>\n",
       "    </tr>\n",
       "    <tr>\n",
       "      <th>측정일(시)</th>\n",
       "      <th></th>\n",
       "      <th></th>\n",
       "      <th></th>\n",
       "      <th></th>\n",
       "      <th></th>\n",
       "      <th></th>\n",
       "      <th></th>\n",
       "      <th></th>\n",
       "      <th></th>\n",
       "      <th></th>\n",
       "      <th></th>\n",
       "      <th></th>\n",
       "      <th></th>\n",
       "      <th></th>\n",
       "      <th></th>\n",
       "      <th></th>\n",
       "      <th></th>\n",
       "      <th></th>\n",
       "    </tr>\n",
       "  </thead>\n",
       "  <tbody>\n",
       "    <tr>\n",
       "      <th>2012-07-01 00:00:00</th>\n",
       "      <td>NaN</td>\n",
       "      <td>NaN</td>\n",
       "      <td>NaN</td>\n",
       "      <td>NaN</td>\n",
       "      <td>NaN</td>\n",
       "      <td>NaN</td>\n",
       "      <td>NaN</td>\n",
       "      <td>NaN</td>\n",
       "      <td>NaN</td>\n",
       "      <td>156</td>\n",
       "      <td>광주</td>\n",
       "      <td>21.6</td>\n",
       "      <td>NaN</td>\n",
       "      <td>2.1</td>\n",
       "      <td>NaN</td>\n",
       "      <td>NaN</td>\n",
       "      <td>8.0</td>\n",
       "      <td>8.0</td>\n",
       "    </tr>\n",
       "    <tr>\n",
       "      <th>2012-07-01 01:00:00</th>\n",
       "      <td>NaN</td>\n",
       "      <td>NaN</td>\n",
       "      <td>NaN</td>\n",
       "      <td>NaN</td>\n",
       "      <td>NaN</td>\n",
       "      <td>NaN</td>\n",
       "      <td>NaN</td>\n",
       "      <td>NaN</td>\n",
       "      <td>NaN</td>\n",
       "      <td>156</td>\n",
       "      <td>광주</td>\n",
       "      <td>21.3</td>\n",
       "      <td>NaN</td>\n",
       "      <td>1.6</td>\n",
       "      <td>NaN</td>\n",
       "      <td>NaN</td>\n",
       "      <td>NaN</td>\n",
       "      <td>NaN</td>\n",
       "    </tr>\n",
       "    <tr>\n",
       "      <th>2012-07-01 02:00:00</th>\n",
       "      <td>NaN</td>\n",
       "      <td>NaN</td>\n",
       "      <td>NaN</td>\n",
       "      <td>NaN</td>\n",
       "      <td>NaN</td>\n",
       "      <td>NaN</td>\n",
       "      <td>NaN</td>\n",
       "      <td>NaN</td>\n",
       "      <td>NaN</td>\n",
       "      <td>156</td>\n",
       "      <td>광주</td>\n",
       "      <td>21.1</td>\n",
       "      <td>NaN</td>\n",
       "      <td>0.8</td>\n",
       "      <td>NaN</td>\n",
       "      <td>NaN</td>\n",
       "      <td>NaN</td>\n",
       "      <td>NaN</td>\n",
       "    </tr>\n",
       "    <tr>\n",
       "      <th>2012-07-01 03:00:00</th>\n",
       "      <td>NaN</td>\n",
       "      <td>NaN</td>\n",
       "      <td>NaN</td>\n",
       "      <td>NaN</td>\n",
       "      <td>NaN</td>\n",
       "      <td>NaN</td>\n",
       "      <td>NaN</td>\n",
       "      <td>NaN</td>\n",
       "      <td>NaN</td>\n",
       "      <td>156</td>\n",
       "      <td>광주</td>\n",
       "      <td>21.1</td>\n",
       "      <td>NaN</td>\n",
       "      <td>1.3</td>\n",
       "      <td>NaN</td>\n",
       "      <td>NaN</td>\n",
       "      <td>9.0</td>\n",
       "      <td>9.0</td>\n",
       "    </tr>\n",
       "    <tr>\n",
       "      <th>2012-07-01 04:00:00</th>\n",
       "      <td>NaN</td>\n",
       "      <td>NaN</td>\n",
       "      <td>NaN</td>\n",
       "      <td>NaN</td>\n",
       "      <td>NaN</td>\n",
       "      <td>NaN</td>\n",
       "      <td>NaN</td>\n",
       "      <td>NaN</td>\n",
       "      <td>NaN</td>\n",
       "      <td>156</td>\n",
       "      <td>광주</td>\n",
       "      <td>21.0</td>\n",
       "      <td>NaN</td>\n",
       "      <td>0.4</td>\n",
       "      <td>NaN</td>\n",
       "      <td>NaN</td>\n",
       "      <td>8.0</td>\n",
       "      <td>8.0</td>\n",
       "    </tr>\n",
       "    <tr>\n",
       "      <th>...</th>\n",
       "      <td>...</td>\n",
       "      <td>...</td>\n",
       "      <td>...</td>\n",
       "      <td>...</td>\n",
       "      <td>...</td>\n",
       "      <td>...</td>\n",
       "      <td>...</td>\n",
       "      <td>...</td>\n",
       "      <td>...</td>\n",
       "      <td>...</td>\n",
       "      <td>...</td>\n",
       "      <td>...</td>\n",
       "      <td>...</td>\n",
       "      <td>...</td>\n",
       "      <td>...</td>\n",
       "      <td>...</td>\n",
       "      <td>...</td>\n",
       "      <td>...</td>\n",
       "    </tr>\n",
       "    <tr>\n",
       "      <th>2023-08-31 19:00:00</th>\n",
       "      <td>25.1</td>\n",
       "      <td>6.5</td>\n",
       "      <td>115.0</td>\n",
       "      <td>6.8</td>\n",
       "      <td>33.1</td>\n",
       "      <td>3.2</td>\n",
       "      <td>1.790</td>\n",
       "      <td>NaN</td>\n",
       "      <td>5.0</td>\n",
       "      <td>156</td>\n",
       "      <td>광주</td>\n",
       "      <td>25.2</td>\n",
       "      <td>NaN</td>\n",
       "      <td>0.7</td>\n",
       "      <td>0.4</td>\n",
       "      <td>0.24</td>\n",
       "      <td>7.0</td>\n",
       "      <td>0.0</td>\n",
       "    </tr>\n",
       "    <tr>\n",
       "      <th>2023-08-31 20:00:00</th>\n",
       "      <td>24.9</td>\n",
       "      <td>6.5</td>\n",
       "      <td>117.0</td>\n",
       "      <td>6.9</td>\n",
       "      <td>33.1</td>\n",
       "      <td>3.1</td>\n",
       "      <td>1.786</td>\n",
       "      <td>NaN</td>\n",
       "      <td>5.0</td>\n",
       "      <td>156</td>\n",
       "      <td>광주</td>\n",
       "      <td>24.0</td>\n",
       "      <td>NaN</td>\n",
       "      <td>0.6</td>\n",
       "      <td>0.0</td>\n",
       "      <td>0.05</td>\n",
       "      <td>7.0</td>\n",
       "      <td>0.0</td>\n",
       "    </tr>\n",
       "    <tr>\n",
       "      <th>2023-08-31 21:00:00</th>\n",
       "      <td>24.8</td>\n",
       "      <td>6.4</td>\n",
       "      <td>119.0</td>\n",
       "      <td>6.8</td>\n",
       "      <td>31.8</td>\n",
       "      <td>3.2</td>\n",
       "      <td>1.753</td>\n",
       "      <td>NaN</td>\n",
       "      <td>5.1</td>\n",
       "      <td>156</td>\n",
       "      <td>광주</td>\n",
       "      <td>22.9</td>\n",
       "      <td>NaN</td>\n",
       "      <td>1.9</td>\n",
       "      <td>NaN</td>\n",
       "      <td>NaN</td>\n",
       "      <td>0.0</td>\n",
       "      <td>0.0</td>\n",
       "    </tr>\n",
       "    <tr>\n",
       "      <th>2023-08-31 22:00:00</th>\n",
       "      <td>24.7</td>\n",
       "      <td>6.4</td>\n",
       "      <td>121.0</td>\n",
       "      <td>6.3</td>\n",
       "      <td>30.6</td>\n",
       "      <td>3.1</td>\n",
       "      <td>1.765</td>\n",
       "      <td>NaN</td>\n",
       "      <td>5.2</td>\n",
       "      <td>156</td>\n",
       "      <td>광주</td>\n",
       "      <td>22.5</td>\n",
       "      <td>NaN</td>\n",
       "      <td>2.0</td>\n",
       "      <td>NaN</td>\n",
       "      <td>NaN</td>\n",
       "      <td>5.0</td>\n",
       "      <td>0.0</td>\n",
       "    </tr>\n",
       "    <tr>\n",
       "      <th>2023-08-31 23:00:00</th>\n",
       "      <td>24.6</td>\n",
       "      <td>6.4</td>\n",
       "      <td>124.0</td>\n",
       "      <td>6.1</td>\n",
       "      <td>28.8</td>\n",
       "      <td>3.0</td>\n",
       "      <td>1.817</td>\n",
       "      <td>NaN</td>\n",
       "      <td>5.0</td>\n",
       "      <td>156</td>\n",
       "      <td>광주</td>\n",
       "      <td>22.8</td>\n",
       "      <td>NaN</td>\n",
       "      <td>1.2</td>\n",
       "      <td>NaN</td>\n",
       "      <td>NaN</td>\n",
       "      <td>7.0</td>\n",
       "      <td>0.0</td>\n",
       "    </tr>\n",
       "  </tbody>\n",
       "</table>\n",
       "<p>97896 rows × 18 columns</p>\n",
       "</div>"
      ],
      "text/plain": [
       "                     수온 (℃)  수소이온농도  전기전도도 (μS/cm) 용존산소 (mg/L)  탁도 (NTU)  \\\n",
       "측정일(시)                                                                     \n",
       "2012-07-01 00:00:00     NaN     NaN            NaN         NaN       NaN   \n",
       "2012-07-01 01:00:00     NaN     NaN            NaN         NaN       NaN   \n",
       "2012-07-01 02:00:00     NaN     NaN            NaN         NaN       NaN   \n",
       "2012-07-01 03:00:00     NaN     NaN            NaN         NaN       NaN   \n",
       "2012-07-01 04:00:00     NaN     NaN            NaN         NaN       NaN   \n",
       "...                     ...     ...            ...         ...       ...   \n",
       "2023-08-31 19:00:00    25.1     6.5          115.0         6.8      33.1   \n",
       "2023-08-31 20:00:00    24.9     6.5          117.0         6.9      33.1   \n",
       "2023-08-31 21:00:00    24.8     6.4          119.0         6.8      31.8   \n",
       "2023-08-31 22:00:00    24.7     6.4          121.0         6.3      30.6   \n",
       "2023-08-31 23:00:00    24.6     6.4          124.0         6.1      28.8   \n",
       "\n",
       "                     총유기탄소 (mg/L)  총질소 (mg/L)  총인 (mg/L)  클로로필-a (mg/㎥)   지점  \\\n",
       "측정일(시)                                                                         \n",
       "2012-07-01 00:00:00           NaN         NaN        NaN            NaN  156   \n",
       "2012-07-01 01:00:00           NaN         NaN        NaN            NaN  156   \n",
       "2012-07-01 02:00:00           NaN         NaN        NaN            NaN  156   \n",
       "2012-07-01 03:00:00           NaN         NaN        NaN            NaN  156   \n",
       "2012-07-01 04:00:00           NaN         NaN        NaN            NaN  156   \n",
       "...                           ...         ...        ...            ...  ...   \n",
       "2023-08-31 19:00:00           3.2       1.790        NaN            5.0  156   \n",
       "2023-08-31 20:00:00           3.1       1.786        NaN            5.0  156   \n",
       "2023-08-31 21:00:00           3.2       1.753        NaN            5.1  156   \n",
       "2023-08-31 22:00:00           3.1       1.765        NaN            5.2  156   \n",
       "2023-08-31 23:00:00           3.0       1.817        NaN            5.0  156   \n",
       "\n",
       "                    지점명  기온(°C)  강수량(mm)  풍속(m/s)  일조(hr)  일사(MJ/m2)  \\\n",
       "측정일(시)                                                                 \n",
       "2012-07-01 00:00:00  광주    21.6      NaN      2.1     NaN        NaN   \n",
       "2012-07-01 01:00:00  광주    21.3      NaN      1.6     NaN        NaN   \n",
       "2012-07-01 02:00:00  광주    21.1      NaN      0.8     NaN        NaN   \n",
       "2012-07-01 03:00:00  광주    21.1      NaN      1.3     NaN        NaN   \n",
       "2012-07-01 04:00:00  광주    21.0      NaN      0.4     NaN        NaN   \n",
       "...                  ..     ...      ...      ...     ...        ...   \n",
       "2023-08-31 19:00:00  광주    25.2      NaN      0.7     0.4       0.24   \n",
       "2023-08-31 20:00:00  광주    24.0      NaN      0.6     0.0       0.05   \n",
       "2023-08-31 21:00:00  광주    22.9      NaN      1.9     NaN        NaN   \n",
       "2023-08-31 22:00:00  광주    22.5      NaN      2.0     NaN        NaN   \n",
       "2023-08-31 23:00:00  광주    22.8      NaN      1.2     NaN        NaN   \n",
       "\n",
       "                     전운량(10분위)  중하층운량(10분위)  \n",
       "측정일(시)                                       \n",
       "2012-07-01 00:00:00        8.0          8.0  \n",
       "2012-07-01 01:00:00        NaN          NaN  \n",
       "2012-07-01 02:00:00        NaN          NaN  \n",
       "2012-07-01 03:00:00        9.0          9.0  \n",
       "2012-07-01 04:00:00        8.0          8.0  \n",
       "...                        ...          ...  \n",
       "2023-08-31 19:00:00        7.0          0.0  \n",
       "2023-08-31 20:00:00        7.0          0.0  \n",
       "2023-08-31 21:00:00        0.0          0.0  \n",
       "2023-08-31 22:00:00        5.0          0.0  \n",
       "2023-08-31 23:00:00        7.0          0.0  \n",
       "\n",
       "[97896 rows x 18 columns]"
      ]
     },
     "execution_count": 26,
     "metadata": {},
     "output_type": "execute_result"
    }
   ],
   "source": [
    "jsb_df = merge_weir_df('죽산보')\n",
    "\n",
    "jsb_df"
   ]
  },
  {
   "cell_type": "code",
   "execution_count": 27,
   "id": "c7639c63",
   "metadata": {},
   "outputs": [
    {
     "data": {
      "text/html": [
       "<div>\n",
       "<style scoped>\n",
       "    .dataframe tbody tr th:only-of-type {\n",
       "        vertical-align: middle;\n",
       "    }\n",
       "\n",
       "    .dataframe tbody tr th {\n",
       "        vertical-align: top;\n",
       "    }\n",
       "\n",
       "    .dataframe thead th {\n",
       "        text-align: right;\n",
       "    }\n",
       "</style>\n",
       "<table border=\"1\" class=\"dataframe\">\n",
       "  <thead>\n",
       "    <tr style=\"text-align: right;\">\n",
       "      <th></th>\n",
       "      <th>수온 (℃)</th>\n",
       "      <th>수소이온농도</th>\n",
       "      <th>전기전도도 (μS/cm)</th>\n",
       "      <th>용존산소 (mg/L)</th>\n",
       "      <th>총유기탄소 (mg/L)</th>\n",
       "      <th>총질소 (mg/L)</th>\n",
       "      <th>총인 (mg/L)</th>\n",
       "      <th>클로로필-a (mg/㎥)</th>\n",
       "      <th>지점</th>\n",
       "      <th>지점명</th>\n",
       "      <th>기온(°C)</th>\n",
       "      <th>강수량(mm)</th>\n",
       "      <th>풍속(m/s)</th>\n",
       "      <th>일조(hr)</th>\n",
       "      <th>일사(MJ/m2)</th>\n",
       "      <th>전운량(10분위)</th>\n",
       "      <th>중하층운량(10분위)</th>\n",
       "    </tr>\n",
       "    <tr>\n",
       "      <th>측정일(시)</th>\n",
       "      <th></th>\n",
       "      <th></th>\n",
       "      <th></th>\n",
       "      <th></th>\n",
       "      <th></th>\n",
       "      <th></th>\n",
       "      <th></th>\n",
       "      <th></th>\n",
       "      <th></th>\n",
       "      <th></th>\n",
       "      <th></th>\n",
       "      <th></th>\n",
       "      <th></th>\n",
       "      <th></th>\n",
       "      <th></th>\n",
       "      <th></th>\n",
       "      <th></th>\n",
       "    </tr>\n",
       "  </thead>\n",
       "  <tbody>\n",
       "    <tr>\n",
       "      <th>2012-07-01 00:00:00</th>\n",
       "      <td>NaN</td>\n",
       "      <td>NaN</td>\n",
       "      <td>NaN</td>\n",
       "      <td>NaN</td>\n",
       "      <td>NaN</td>\n",
       "      <td>NaN</td>\n",
       "      <td>NaN</td>\n",
       "      <td>NaN</td>\n",
       "      <td>156</td>\n",
       "      <td>광주</td>\n",
       "      <td>21.6</td>\n",
       "      <td>NaN</td>\n",
       "      <td>2.1</td>\n",
       "      <td>NaN</td>\n",
       "      <td>NaN</td>\n",
       "      <td>8.0</td>\n",
       "      <td>8.0</td>\n",
       "    </tr>\n",
       "    <tr>\n",
       "      <th>2012-07-01 01:00:00</th>\n",
       "      <td>NaN</td>\n",
       "      <td>NaN</td>\n",
       "      <td>NaN</td>\n",
       "      <td>NaN</td>\n",
       "      <td>NaN</td>\n",
       "      <td>NaN</td>\n",
       "      <td>NaN</td>\n",
       "      <td>NaN</td>\n",
       "      <td>156</td>\n",
       "      <td>광주</td>\n",
       "      <td>21.3</td>\n",
       "      <td>NaN</td>\n",
       "      <td>1.6</td>\n",
       "      <td>NaN</td>\n",
       "      <td>NaN</td>\n",
       "      <td>NaN</td>\n",
       "      <td>NaN</td>\n",
       "    </tr>\n",
       "    <tr>\n",
       "      <th>2012-07-01 02:00:00</th>\n",
       "      <td>NaN</td>\n",
       "      <td>NaN</td>\n",
       "      <td>NaN</td>\n",
       "      <td>NaN</td>\n",
       "      <td>NaN</td>\n",
       "      <td>NaN</td>\n",
       "      <td>NaN</td>\n",
       "      <td>NaN</td>\n",
       "      <td>156</td>\n",
       "      <td>광주</td>\n",
       "      <td>21.1</td>\n",
       "      <td>NaN</td>\n",
       "      <td>0.8</td>\n",
       "      <td>NaN</td>\n",
       "      <td>NaN</td>\n",
       "      <td>NaN</td>\n",
       "      <td>NaN</td>\n",
       "    </tr>\n",
       "    <tr>\n",
       "      <th>2012-07-01 03:00:00</th>\n",
       "      <td>NaN</td>\n",
       "      <td>NaN</td>\n",
       "      <td>NaN</td>\n",
       "      <td>NaN</td>\n",
       "      <td>NaN</td>\n",
       "      <td>NaN</td>\n",
       "      <td>NaN</td>\n",
       "      <td>NaN</td>\n",
       "      <td>156</td>\n",
       "      <td>광주</td>\n",
       "      <td>21.1</td>\n",
       "      <td>NaN</td>\n",
       "      <td>1.3</td>\n",
       "      <td>NaN</td>\n",
       "      <td>NaN</td>\n",
       "      <td>9.0</td>\n",
       "      <td>9.0</td>\n",
       "    </tr>\n",
       "    <tr>\n",
       "      <th>2012-07-01 04:00:00</th>\n",
       "      <td>NaN</td>\n",
       "      <td>NaN</td>\n",
       "      <td>NaN</td>\n",
       "      <td>NaN</td>\n",
       "      <td>NaN</td>\n",
       "      <td>NaN</td>\n",
       "      <td>NaN</td>\n",
       "      <td>NaN</td>\n",
       "      <td>156</td>\n",
       "      <td>광주</td>\n",
       "      <td>21.0</td>\n",
       "      <td>NaN</td>\n",
       "      <td>0.4</td>\n",
       "      <td>NaN</td>\n",
       "      <td>NaN</td>\n",
       "      <td>8.0</td>\n",
       "      <td>8.0</td>\n",
       "    </tr>\n",
       "    <tr>\n",
       "      <th>...</th>\n",
       "      <td>...</td>\n",
       "      <td>...</td>\n",
       "      <td>...</td>\n",
       "      <td>...</td>\n",
       "      <td>...</td>\n",
       "      <td>...</td>\n",
       "      <td>...</td>\n",
       "      <td>...</td>\n",
       "      <td>...</td>\n",
       "      <td>...</td>\n",
       "      <td>...</td>\n",
       "      <td>...</td>\n",
       "      <td>...</td>\n",
       "      <td>...</td>\n",
       "      <td>...</td>\n",
       "      <td>...</td>\n",
       "      <td>...</td>\n",
       "    </tr>\n",
       "    <tr>\n",
       "      <th>2023-08-31 19:00:00</th>\n",
       "      <td>25.9</td>\n",
       "      <td>7.0</td>\n",
       "      <td>161.0</td>\n",
       "      <td>6.2</td>\n",
       "      <td>NaN</td>\n",
       "      <td>1.549</td>\n",
       "      <td>0.169</td>\n",
       "      <td>11.2</td>\n",
       "      <td>156</td>\n",
       "      <td>광주</td>\n",
       "      <td>25.2</td>\n",
       "      <td>NaN</td>\n",
       "      <td>0.7</td>\n",
       "      <td>0.4</td>\n",
       "      <td>0.24</td>\n",
       "      <td>7.0</td>\n",
       "      <td>0.0</td>\n",
       "    </tr>\n",
       "    <tr>\n",
       "      <th>2023-08-31 20:00:00</th>\n",
       "      <td>26.0</td>\n",
       "      <td>7.1</td>\n",
       "      <td>162.0</td>\n",
       "      <td>6.2</td>\n",
       "      <td>NaN</td>\n",
       "      <td>1.561</td>\n",
       "      <td>0.17</td>\n",
       "      <td>11.5</td>\n",
       "      <td>156</td>\n",
       "      <td>광주</td>\n",
       "      <td>24.0</td>\n",
       "      <td>NaN</td>\n",
       "      <td>0.6</td>\n",
       "      <td>0.0</td>\n",
       "      <td>0.05</td>\n",
       "      <td>7.0</td>\n",
       "      <td>0.0</td>\n",
       "    </tr>\n",
       "    <tr>\n",
       "      <th>2023-08-31 21:00:00</th>\n",
       "      <td>26.1</td>\n",
       "      <td>7.0</td>\n",
       "      <td>166.0</td>\n",
       "      <td>6</td>\n",
       "      <td>NaN</td>\n",
       "      <td>1.544</td>\n",
       "      <td>0.171</td>\n",
       "      <td>11.5</td>\n",
       "      <td>156</td>\n",
       "      <td>광주</td>\n",
       "      <td>22.9</td>\n",
       "      <td>NaN</td>\n",
       "      <td>1.9</td>\n",
       "      <td>NaN</td>\n",
       "      <td>NaN</td>\n",
       "      <td>0.0</td>\n",
       "      <td>0.0</td>\n",
       "    </tr>\n",
       "    <tr>\n",
       "      <th>2023-08-31 22:00:00</th>\n",
       "      <td>26.2</td>\n",
       "      <td>7.0</td>\n",
       "      <td>171.0</td>\n",
       "      <td>5.5</td>\n",
       "      <td>NaN</td>\n",
       "      <td>1.519</td>\n",
       "      <td>0.169</td>\n",
       "      <td>11.7</td>\n",
       "      <td>156</td>\n",
       "      <td>광주</td>\n",
       "      <td>22.5</td>\n",
       "      <td>NaN</td>\n",
       "      <td>2.0</td>\n",
       "      <td>NaN</td>\n",
       "      <td>NaN</td>\n",
       "      <td>5.0</td>\n",
       "      <td>0.0</td>\n",
       "    </tr>\n",
       "    <tr>\n",
       "      <th>2023-08-31 23:00:00</th>\n",
       "      <td>26.2</td>\n",
       "      <td>7.0</td>\n",
       "      <td>172.0</td>\n",
       "      <td>5.3</td>\n",
       "      <td>NaN</td>\n",
       "      <td>1.609</td>\n",
       "      <td>0.17</td>\n",
       "      <td>11.8</td>\n",
       "      <td>156</td>\n",
       "      <td>광주</td>\n",
       "      <td>22.8</td>\n",
       "      <td>NaN</td>\n",
       "      <td>1.2</td>\n",
       "      <td>NaN</td>\n",
       "      <td>NaN</td>\n",
       "      <td>7.0</td>\n",
       "      <td>0.0</td>\n",
       "    </tr>\n",
       "  </tbody>\n",
       "</table>\n",
       "<p>97896 rows × 17 columns</p>\n",
       "</div>"
      ],
      "text/plain": [
       "                     수온 (℃)  수소이온농도  전기전도도 (μS/cm) 용존산소 (mg/L)  총유기탄소 (mg/L)  \\\n",
       "측정일(시)                                                                         \n",
       "2012-07-01 00:00:00     NaN     NaN            NaN         NaN           NaN   \n",
       "2012-07-01 01:00:00     NaN     NaN            NaN         NaN           NaN   \n",
       "2012-07-01 02:00:00     NaN     NaN            NaN         NaN           NaN   \n",
       "2012-07-01 03:00:00     NaN     NaN            NaN         NaN           NaN   \n",
       "2012-07-01 04:00:00     NaN     NaN            NaN         NaN           NaN   \n",
       "...                     ...     ...            ...         ...           ...   \n",
       "2023-08-31 19:00:00    25.9     7.0          161.0         6.2           NaN   \n",
       "2023-08-31 20:00:00    26.0     7.1          162.0         6.2           NaN   \n",
       "2023-08-31 21:00:00    26.1     7.0          166.0           6           NaN   \n",
       "2023-08-31 22:00:00    26.2     7.0          171.0         5.5           NaN   \n",
       "2023-08-31 23:00:00    26.2     7.0          172.0         5.3           NaN   \n",
       "\n",
       "                     총질소 (mg/L) 총인 (mg/L)  클로로필-a (mg/㎥)   지점 지점명  기온(°C)  \\\n",
       "측정일(시)                                                                      \n",
       "2012-07-01 00:00:00         NaN       NaN            NaN  156  광주    21.6   \n",
       "2012-07-01 01:00:00         NaN       NaN            NaN  156  광주    21.3   \n",
       "2012-07-01 02:00:00         NaN       NaN            NaN  156  광주    21.1   \n",
       "2012-07-01 03:00:00         NaN       NaN            NaN  156  광주    21.1   \n",
       "2012-07-01 04:00:00         NaN       NaN            NaN  156  광주    21.0   \n",
       "...                         ...       ...            ...  ...  ..     ...   \n",
       "2023-08-31 19:00:00       1.549     0.169           11.2  156  광주    25.2   \n",
       "2023-08-31 20:00:00       1.561      0.17           11.5  156  광주    24.0   \n",
       "2023-08-31 21:00:00       1.544     0.171           11.5  156  광주    22.9   \n",
       "2023-08-31 22:00:00       1.519     0.169           11.7  156  광주    22.5   \n",
       "2023-08-31 23:00:00       1.609      0.17           11.8  156  광주    22.8   \n",
       "\n",
       "                     강수량(mm)  풍속(m/s)  일조(hr)  일사(MJ/m2)  전운량(10분위)  \\\n",
       "측정일(시)                                                                \n",
       "2012-07-01 00:00:00      NaN      2.1     NaN        NaN        8.0   \n",
       "2012-07-01 01:00:00      NaN      1.6     NaN        NaN        NaN   \n",
       "2012-07-01 02:00:00      NaN      0.8     NaN        NaN        NaN   \n",
       "2012-07-01 03:00:00      NaN      1.3     NaN        NaN        9.0   \n",
       "2012-07-01 04:00:00      NaN      0.4     NaN        NaN        8.0   \n",
       "...                      ...      ...     ...        ...        ...   \n",
       "2023-08-31 19:00:00      NaN      0.7     0.4       0.24        7.0   \n",
       "2023-08-31 20:00:00      NaN      0.6     0.0       0.05        7.0   \n",
       "2023-08-31 21:00:00      NaN      1.9     NaN        NaN        0.0   \n",
       "2023-08-31 22:00:00      NaN      2.0     NaN        NaN        5.0   \n",
       "2023-08-31 23:00:00      NaN      1.2     NaN        NaN        7.0   \n",
       "\n",
       "                     중하층운량(10분위)  \n",
       "측정일(시)                            \n",
       "2012-07-01 00:00:00          8.0  \n",
       "2012-07-01 01:00:00          NaN  \n",
       "2012-07-01 02:00:00          NaN  \n",
       "2012-07-01 03:00:00          9.0  \n",
       "2012-07-01 04:00:00          8.0  \n",
       "...                          ...  \n",
       "2023-08-31 19:00:00          0.0  \n",
       "2023-08-31 20:00:00          0.0  \n",
       "2023-08-31 21:00:00          0.0  \n",
       "2023-08-31 22:00:00          0.0  \n",
       "2023-08-31 23:00:00          0.0  \n",
       "\n",
       "[97896 rows x 17 columns]"
      ]
     },
     "execution_count": 27,
     "metadata": {},
     "output_type": "execute_result"
    }
   ],
   "source": [
    "scb_df = merge_weir_df('승촌보')\n",
    "\n",
    "scb_df"
   ]
  },
  {
   "cell_type": "markdown",
   "id": "531ba43f",
   "metadata": {},
   "source": [
    "**탁도 특성이 승촌보 데이터에 없음**"
   ]
  },
  {
   "cell_type": "code",
   "execution_count": 28,
   "id": "73c4e163",
   "metadata": {},
   "outputs": [
    {
     "name": "stdout",
     "output_type": "stream",
     "text": [
      "<class 'pandas.core.frame.DataFrame'>\n",
      "DatetimeIndex: 97896 entries, 2012-07-01 00:00:00 to 2023-08-31 23:00:00\n",
      "Data columns (total 18 columns):\n",
      " #   Column         Non-Null Count  Dtype  \n",
      "---  ------         --------------  -----  \n",
      " 0   수온 (℃)         83510 non-null  float64\n",
      " 1   수소이온농도         83602 non-null  float64\n",
      " 2   전기전도도 (μS/cm)  83518 non-null  float64\n",
      " 3   용존산소 (mg/L)    82326 non-null  object \n",
      " 4   탁도 (NTU)       82651 non-null  float64\n",
      " 5   총유기탄소 (mg/L)   77093 non-null  float64\n",
      " 6   총질소 (mg/L)     75725 non-null  float64\n",
      " 7   총인 (mg/L)      76715 non-null  float64\n",
      " 8   클로로필-a (mg/㎥)  81256 non-null  float64\n",
      " 9   지점             97896 non-null  int64  \n",
      " 10  지점명            97896 non-null  object \n",
      " 11  기온(°C)         97884 non-null  float64\n",
      " 12  강수량(mm)        10444 non-null  float64\n",
      " 13  풍속(m/s)        97862 non-null  float64\n",
      " 14  일조(hr)         53272 non-null  float64\n",
      " 15  일사(MJ/m2)      53521 non-null  float64\n",
      " 16  전운량(10분위)      86142 non-null  float64\n",
      " 17  중하층운량(10분위)    90178 non-null  float64\n",
      "dtypes: float64(15), int64(1), object(2)\n",
      "memory usage: 14.2+ MB\n"
     ]
    }
   ],
   "source": [
    "jsb_df.info()"
   ]
  },
  {
   "cell_type": "code",
   "execution_count": 29,
   "id": "321fb686",
   "metadata": {},
   "outputs": [
    {
     "name": "stdout",
     "output_type": "stream",
     "text": [
      "<class 'pandas.core.frame.DataFrame'>\n",
      "DatetimeIndex: 97896 entries, 2012-07-01 00:00:00 to 2023-08-31 23:00:00\n",
      "Data columns (total 17 columns):\n",
      " #   Column         Non-Null Count  Dtype  \n",
      "---  ------         --------------  -----  \n",
      " 0   수온 (℃)         75932 non-null  float64\n",
      " 1   수소이온농도         75912 non-null  float64\n",
      " 2   전기전도도 (μS/cm)  75843 non-null  float64\n",
      " 3   용존산소 (mg/L)    74677 non-null  object \n",
      " 4   총유기탄소 (mg/L)   69665 non-null  float64\n",
      " 5   총질소 (mg/L)     68592 non-null  float64\n",
      " 6   총인 (mg/L)      67585 non-null  object \n",
      " 7   클로로필-a (mg/㎥)  74470 non-null  float64\n",
      " 8   지점             97896 non-null  int64  \n",
      " 9   지점명            97896 non-null  object \n",
      " 10  기온(°C)         97884 non-null  float64\n",
      " 11  강수량(mm)        10444 non-null  float64\n",
      " 12  풍속(m/s)        97862 non-null  float64\n",
      " 13  일조(hr)         53272 non-null  float64\n",
      " 14  일사(MJ/m2)      53521 non-null  float64\n",
      " 15  전운량(10분위)      86142 non-null  float64\n",
      " 16  중하층운량(10분위)    90178 non-null  float64\n",
      "dtypes: float64(13), int64(1), object(3)\n",
      "memory usage: 13.4+ MB\n"
     ]
    }
   ],
   "source": [
    "scb_df.info()"
   ]
  },
  {
   "cell_type": "markdown",
   "id": "15c2afb9",
   "metadata": {},
   "source": [
    "**참고**\n",
    "\n",
    "- 2012년 7월 1일부터 2023년 8월 31일까지의 시간 데이터 수"
   ]
  },
  {
   "cell_type": "code",
   "execution_count": 30,
   "id": "23191ac1",
   "metadata": {},
   "outputs": [
    {
     "data": {
      "text/plain": [
       "97896"
      ]
     },
     "execution_count": 30,
     "metadata": {},
     "output_type": "execute_result"
    }
   ],
   "source": [
    "len(pd.date_range('2012-07-01 00:00:00', '2023-08-31 23:00:00', freq = 'h'))"
   ]
  },
  {
   "cell_type": "markdown",
   "id": "686ec2d6",
   "metadata": {},
   "source": [
    "### 수량 데이터 불러오기"
   ]
  },
  {
   "cell_type": "markdown",
   "id": "8f8d93ca",
   "metadata": {},
   "source": [
    "- 죽산보/승촌보 수량 데이터는 `'yeongsanriver_weir_dflow'` 디렉토리에 있음.\n",
    "- 연도별 데이터는 시트(sheet)로 구분됨.\n",
    "- 수질/기상 데이터와는 달리 **10분 단위**의 데이터로 구성됨."
   ]
  },
  {
   "cell_type": "code",
   "execution_count": 31,
   "id": "39d24d93",
   "metadata": {},
   "outputs": [],
   "source": [
    "dflow_file = base_path / \"yeongsanriver_weir_dflow\""
   ]
  },
  {
   "cell_type": "code",
   "execution_count": 32,
   "id": "be3c5afb",
   "metadata": {},
   "outputs": [],
   "source": [
    "files = [\"Jugsanbo_dflow.xlsx\", \"Seungchonbo_dflow.xlsx\"]"
   ]
  },
  {
   "cell_type": "code",
   "execution_count": 33,
   "id": "3e788bc0",
   "metadata": {},
   "outputs": [],
   "source": [
    "jsb_dflow_yearly = pd.read_excel(dflow_file / files[0], \n",
    "#                                  skiprows=0, \n",
    "                                 header=0, \n",
    "                                 sheet_name=None,\n",
    "                                 na_values='ND',\n",
    "#                                  parse_dates=[0]  # 시간 특성을 date time으로 파싱\n",
    "                                )"
   ]
  },
  {
   "cell_type": "code",
   "execution_count": 34,
   "id": "99653572",
   "metadata": {},
   "outputs": [],
   "source": [
    "scb_dflow_yearly = pd.read_excel(dflow_file / files[1], \n",
    "#                                  skiprows=0, \n",
    "                                 header=0, \n",
    "                                 sheet_name=None,\n",
    "                                 na_values='ND',\n",
    "#                                  parse_dates=[0]  # 시간 특성을 date time으로 파싱\n",
    "                                )"
   ]
  },
  {
   "cell_type": "code",
   "execution_count": 35,
   "id": "d7aefff0",
   "metadata": {},
   "outputs": [
    {
     "data": {
      "text/plain": [
       "dict_keys(['2012(7~12월)', '2013', '2014', '2015', '2016', '2017', '2018', '2019', '2020', '2021', '2022', '2023(1~8월)'])"
      ]
     },
     "execution_count": 35,
     "metadata": {},
     "output_type": "execute_result"
    }
   ],
   "source": [
    "jsb_dflow_yearly.keys()"
   ]
  },
  {
   "cell_type": "code",
   "execution_count": 36,
   "id": "e9826645",
   "metadata": {},
   "outputs": [
    {
     "data": {
      "text/plain": [
       "dict_keys(['2012(7~12월)', '2013', '2014', '2015', '2016', '2017', '2018', '2019', '2020', '2021', '2022', '2023(1~8월)'])"
      ]
     },
     "execution_count": 36,
     "metadata": {},
     "output_type": "execute_result"
    }
   ],
   "source": [
    "scb_dflow_yearly.keys()"
   ]
  },
  {
   "cell_type": "markdown",
   "id": "063acb03",
   "metadata": {},
   "source": [
    "- 2012 수량 데이터"
   ]
  },
  {
   "cell_type": "code",
   "execution_count": 37,
   "id": "afd8e417",
   "metadata": {},
   "outputs": [
    {
     "data": {
      "text/html": [
       "<div>\n",
       "<style scoped>\n",
       "    .dataframe tbody tr th:only-of-type {\n",
       "        vertical-align: middle;\n",
       "    }\n",
       "\n",
       "    .dataframe tbody tr th {\n",
       "        vertical-align: top;\n",
       "    }\n",
       "\n",
       "    .dataframe thead th {\n",
       "        text-align: right;\n",
       "    }\n",
       "</style>\n",
       "<table border=\"1\" class=\"dataframe\">\n",
       "  <thead>\n",
       "    <tr style=\"text-align: right;\">\n",
       "      <th></th>\n",
       "      <th>시간</th>\n",
       "      <th>상류수위(EL.m)</th>\n",
       "      <th>하류수위(EL.m)</th>\n",
       "      <th>유입량(㎥/s)</th>\n",
       "      <th>방류량(㎥/s)</th>\n",
       "    </tr>\n",
       "  </thead>\n",
       "  <tbody>\n",
       "    <tr>\n",
       "      <th>0</th>\n",
       "      <td>2012.07.01 00:00</td>\n",
       "      <td>3.69</td>\n",
       "      <td>0.00</td>\n",
       "      <td>0.0</td>\n",
       "      <td>0.0</td>\n",
       "    </tr>\n",
       "    <tr>\n",
       "      <th>1</th>\n",
       "      <td>2012.07.01 00:10</td>\n",
       "      <td>3.70</td>\n",
       "      <td>0.00</td>\n",
       "      <td>0.0</td>\n",
       "      <td>0.0</td>\n",
       "    </tr>\n",
       "    <tr>\n",
       "      <th>2</th>\n",
       "      <td>2012.07.01 00:20</td>\n",
       "      <td>3.71</td>\n",
       "      <td>0.00</td>\n",
       "      <td>0.0</td>\n",
       "      <td>0.0</td>\n",
       "    </tr>\n",
       "    <tr>\n",
       "      <th>3</th>\n",
       "      <td>2012.07.01 00:30</td>\n",
       "      <td>3.70</td>\n",
       "      <td>0.00</td>\n",
       "      <td>0.0</td>\n",
       "      <td>0.0</td>\n",
       "    </tr>\n",
       "    <tr>\n",
       "      <th>4</th>\n",
       "      <td>2012.07.01 00:40</td>\n",
       "      <td>3.70</td>\n",
       "      <td>0.00</td>\n",
       "      <td>0.0</td>\n",
       "      <td>0.0</td>\n",
       "    </tr>\n",
       "    <tr>\n",
       "      <th>...</th>\n",
       "      <td>...</td>\n",
       "      <td>...</td>\n",
       "      <td>...</td>\n",
       "      <td>...</td>\n",
       "      <td>...</td>\n",
       "    </tr>\n",
       "    <tr>\n",
       "      <th>26491</th>\n",
       "      <td>2012.12.31 23:10</td>\n",
       "      <td>3.74</td>\n",
       "      <td>-1.68</td>\n",
       "      <td>42.0</td>\n",
       "      <td>42.0</td>\n",
       "    </tr>\n",
       "    <tr>\n",
       "      <th>26492</th>\n",
       "      <td>2012.12.31 23:20</td>\n",
       "      <td>3.74</td>\n",
       "      <td>-1.68</td>\n",
       "      <td>42.0</td>\n",
       "      <td>42.0</td>\n",
       "    </tr>\n",
       "    <tr>\n",
       "      <th>26493</th>\n",
       "      <td>2012.12.31 23:30</td>\n",
       "      <td>3.74</td>\n",
       "      <td>-1.68</td>\n",
       "      <td>42.0</td>\n",
       "      <td>42.0</td>\n",
       "    </tr>\n",
       "    <tr>\n",
       "      <th>26494</th>\n",
       "      <td>2012.12.31 23:40</td>\n",
       "      <td>3.74</td>\n",
       "      <td>-1.68</td>\n",
       "      <td>42.0</td>\n",
       "      <td>42.0</td>\n",
       "    </tr>\n",
       "    <tr>\n",
       "      <th>26495</th>\n",
       "      <td>2012.12.31 23:50</td>\n",
       "      <td>3.74</td>\n",
       "      <td>-1.69</td>\n",
       "      <td>42.0</td>\n",
       "      <td>42.0</td>\n",
       "    </tr>\n",
       "  </tbody>\n",
       "</table>\n",
       "<p>26496 rows × 5 columns</p>\n",
       "</div>"
      ],
      "text/plain": [
       "                     시간   상류수위(EL.m)   하류수위(EL.m)   유입량(㎥/s)   방류량(㎥/s)\n",
       "0      2012.07.01 00:00         3.69         0.00        0.0        0.0\n",
       "1      2012.07.01 00:10         3.70         0.00        0.0        0.0\n",
       "2      2012.07.01 00:20         3.71         0.00        0.0        0.0\n",
       "3      2012.07.01 00:30         3.70         0.00        0.0        0.0\n",
       "4      2012.07.01 00:40         3.70         0.00        0.0        0.0\n",
       "...                 ...          ...          ...        ...        ...\n",
       "26491  2012.12.31 23:10         3.74        -1.68       42.0       42.0\n",
       "26492  2012.12.31 23:20         3.74        -1.68       42.0       42.0\n",
       "26493  2012.12.31 23:30         3.74        -1.68       42.0       42.0\n",
       "26494  2012.12.31 23:40         3.74        -1.68       42.0       42.0\n",
       "26495  2012.12.31 23:50         3.74        -1.69       42.0       42.0\n",
       "\n",
       "[26496 rows x 5 columns]"
      ]
     },
     "execution_count": 37,
     "metadata": {},
     "output_type": "execute_result"
    }
   ],
   "source": [
    "jsb_dflow_yearly['2012(7~12월)']"
   ]
  },
  {
   "cell_type": "code",
   "execution_count": 38,
   "id": "15814335",
   "metadata": {},
   "outputs": [
    {
     "data": {
      "text/html": [
       "<div>\n",
       "<style scoped>\n",
       "    .dataframe tbody tr th:only-of-type {\n",
       "        vertical-align: middle;\n",
       "    }\n",
       "\n",
       "    .dataframe tbody tr th {\n",
       "        vertical-align: top;\n",
       "    }\n",
       "\n",
       "    .dataframe thead th {\n",
       "        text-align: right;\n",
       "    }\n",
       "</style>\n",
       "<table border=\"1\" class=\"dataframe\">\n",
       "  <thead>\n",
       "    <tr style=\"text-align: right;\">\n",
       "      <th></th>\n",
       "      <th>시간</th>\n",
       "      <th>상류수위(EL.m)</th>\n",
       "      <th>하류수위(EL.m)</th>\n",
       "      <th>유입량(㎥/s)</th>\n",
       "      <th>방류량(㎥/s)</th>\n",
       "    </tr>\n",
       "  </thead>\n",
       "  <tbody>\n",
       "    <tr>\n",
       "      <th>0</th>\n",
       "      <td>2012.07.01 00:00</td>\n",
       "      <td>7.67</td>\n",
       "      <td>0.00</td>\n",
       "      <td>0.00</td>\n",
       "      <td>0.00</td>\n",
       "    </tr>\n",
       "    <tr>\n",
       "      <th>1</th>\n",
       "      <td>2012.07.01 00:10</td>\n",
       "      <td>7.67</td>\n",
       "      <td>0.00</td>\n",
       "      <td>0.00</td>\n",
       "      <td>0.00</td>\n",
       "    </tr>\n",
       "    <tr>\n",
       "      <th>2</th>\n",
       "      <td>2012.07.01 00:20</td>\n",
       "      <td>7.67</td>\n",
       "      <td>0.00</td>\n",
       "      <td>0.00</td>\n",
       "      <td>0.00</td>\n",
       "    </tr>\n",
       "    <tr>\n",
       "      <th>3</th>\n",
       "      <td>2012.07.01 00:30</td>\n",
       "      <td>7.67</td>\n",
       "      <td>0.00</td>\n",
       "      <td>0.00</td>\n",
       "      <td>0.00</td>\n",
       "    </tr>\n",
       "    <tr>\n",
       "      <th>4</th>\n",
       "      <td>2012.07.01 00:40</td>\n",
       "      <td>7.67</td>\n",
       "      <td>0.00</td>\n",
       "      <td>0.00</td>\n",
       "      <td>0.00</td>\n",
       "    </tr>\n",
       "    <tr>\n",
       "      <th>...</th>\n",
       "      <td>...</td>\n",
       "      <td>...</td>\n",
       "      <td>...</td>\n",
       "      <td>...</td>\n",
       "      <td>...</td>\n",
       "    </tr>\n",
       "    <tr>\n",
       "      <th>26491</th>\n",
       "      <td>2012.12.31 23:10</td>\n",
       "      <td>7.50</td>\n",
       "      <td>3.77</td>\n",
       "      <td>19.73</td>\n",
       "      <td>19.71</td>\n",
       "    </tr>\n",
       "    <tr>\n",
       "      <th>26492</th>\n",
       "      <td>2012.12.31 23:20</td>\n",
       "      <td>7.50</td>\n",
       "      <td>3.77</td>\n",
       "      <td>19.76</td>\n",
       "      <td>19.82</td>\n",
       "    </tr>\n",
       "    <tr>\n",
       "      <th>26493</th>\n",
       "      <td>2012.12.31 23:30</td>\n",
       "      <td>7.50</td>\n",
       "      <td>3.77</td>\n",
       "      <td>19.79</td>\n",
       "      <td>19.83</td>\n",
       "    </tr>\n",
       "    <tr>\n",
       "      <th>26494</th>\n",
       "      <td>2012.12.31 23:40</td>\n",
       "      <td>7.50</td>\n",
       "      <td>3.77</td>\n",
       "      <td>19.84</td>\n",
       "      <td>19.86</td>\n",
       "    </tr>\n",
       "    <tr>\n",
       "      <th>26495</th>\n",
       "      <td>2012.12.31 23:50</td>\n",
       "      <td>7.50</td>\n",
       "      <td>3.77</td>\n",
       "      <td>19.85</td>\n",
       "      <td>19.85</td>\n",
       "    </tr>\n",
       "  </tbody>\n",
       "</table>\n",
       "<p>26496 rows × 5 columns</p>\n",
       "</div>"
      ],
      "text/plain": [
       "                     시간   상류수위(EL.m)   하류수위(EL.m)   유입량(㎥/s)   방류량(㎥/s)\n",
       "0      2012.07.01 00:00         7.67         0.00       0.00       0.00\n",
       "1      2012.07.01 00:10         7.67         0.00       0.00       0.00\n",
       "2      2012.07.01 00:20         7.67         0.00       0.00       0.00\n",
       "3      2012.07.01 00:30         7.67         0.00       0.00       0.00\n",
       "4      2012.07.01 00:40         7.67         0.00       0.00       0.00\n",
       "...                 ...          ...          ...        ...        ...\n",
       "26491  2012.12.31 23:10         7.50         3.77      19.73      19.71\n",
       "26492  2012.12.31 23:20         7.50         3.77      19.76      19.82\n",
       "26493  2012.12.31 23:30         7.50         3.77      19.79      19.83\n",
       "26494  2012.12.31 23:40         7.50         3.77      19.84      19.86\n",
       "26495  2012.12.31 23:50         7.50         3.77      19.85      19.85\n",
       "\n",
       "[26496 rows x 5 columns]"
      ]
     },
     "execution_count": 38,
     "metadata": {},
     "output_type": "execute_result"
    }
   ],
   "source": [
    "scb_dflow_yearly['2012(7~12월)']"
   ]
  },
  {
   "cell_type": "markdown",
   "id": "a119d66f",
   "metadata": {},
   "source": [
    "- 2013 수량 데이터"
   ]
  },
  {
   "cell_type": "code",
   "execution_count": 39,
   "id": "ca3dba22",
   "metadata": {},
   "outputs": [
    {
     "data": {
      "text/html": [
       "<div>\n",
       "<style scoped>\n",
       "    .dataframe tbody tr th:only-of-type {\n",
       "        vertical-align: middle;\n",
       "    }\n",
       "\n",
       "    .dataframe tbody tr th {\n",
       "        vertical-align: top;\n",
       "    }\n",
       "\n",
       "    .dataframe thead th {\n",
       "        text-align: right;\n",
       "    }\n",
       "</style>\n",
       "<table border=\"1\" class=\"dataframe\">\n",
       "  <thead>\n",
       "    <tr style=\"text-align: right;\">\n",
       "      <th></th>\n",
       "      <th>시간</th>\n",
       "      <th>상류수위(EL.m)</th>\n",
       "      <th>하류수위(EL.m)</th>\n",
       "      <th>유입량(㎥/s)</th>\n",
       "      <th>방류량(㎥/s)</th>\n",
       "    </tr>\n",
       "  </thead>\n",
       "  <tbody>\n",
       "    <tr>\n",
       "      <th>0</th>\n",
       "      <td>2013.01.01 00:00</td>\n",
       "      <td>3.74</td>\n",
       "      <td>-1.70</td>\n",
       "      <td>42.00</td>\n",
       "      <td>42.00</td>\n",
       "    </tr>\n",
       "    <tr>\n",
       "      <th>1</th>\n",
       "      <td>2013.01.01 00:10</td>\n",
       "      <td>3.74</td>\n",
       "      <td>-1.71</td>\n",
       "      <td>42.00</td>\n",
       "      <td>42.00</td>\n",
       "    </tr>\n",
       "    <tr>\n",
       "      <th>2</th>\n",
       "      <td>2013.01.01 00:20</td>\n",
       "      <td>3.74</td>\n",
       "      <td>-1.71</td>\n",
       "      <td>42.00</td>\n",
       "      <td>42.00</td>\n",
       "    </tr>\n",
       "    <tr>\n",
       "      <th>3</th>\n",
       "      <td>2013.01.01 00:30</td>\n",
       "      <td>3.74</td>\n",
       "      <td>-1.71</td>\n",
       "      <td>42.00</td>\n",
       "      <td>42.00</td>\n",
       "    </tr>\n",
       "    <tr>\n",
       "      <th>4</th>\n",
       "      <td>2013.01.01 00:40</td>\n",
       "      <td>3.74</td>\n",
       "      <td>-1.71</td>\n",
       "      <td>42.00</td>\n",
       "      <td>42.00</td>\n",
       "    </tr>\n",
       "    <tr>\n",
       "      <th>...</th>\n",
       "      <td>...</td>\n",
       "      <td>...</td>\n",
       "      <td>...</td>\n",
       "      <td>...</td>\n",
       "      <td>...</td>\n",
       "    </tr>\n",
       "    <tr>\n",
       "      <th>52555</th>\n",
       "      <td>2013.12.31 23:10</td>\n",
       "      <td>3.53</td>\n",
       "      <td>-1.18</td>\n",
       "      <td>17.33</td>\n",
       "      <td>17.30</td>\n",
       "    </tr>\n",
       "    <tr>\n",
       "      <th>52556</th>\n",
       "      <td>2013.12.31 23:20</td>\n",
       "      <td>3.53</td>\n",
       "      <td>-1.17</td>\n",
       "      <td>17.30</td>\n",
       "      <td>17.28</td>\n",
       "    </tr>\n",
       "    <tr>\n",
       "      <th>52557</th>\n",
       "      <td>2013.12.31 23:30</td>\n",
       "      <td>3.53</td>\n",
       "      <td>-1.17</td>\n",
       "      <td>17.29</td>\n",
       "      <td>17.29</td>\n",
       "    </tr>\n",
       "    <tr>\n",
       "      <th>52558</th>\n",
       "      <td>2013.12.31 23:40</td>\n",
       "      <td>3.53</td>\n",
       "      <td>-1.18</td>\n",
       "      <td>17.28</td>\n",
       "      <td>17.27</td>\n",
       "    </tr>\n",
       "    <tr>\n",
       "      <th>52559</th>\n",
       "      <td>2013.12.31 23:50</td>\n",
       "      <td>3.53</td>\n",
       "      <td>-1.17</td>\n",
       "      <td>17.29</td>\n",
       "      <td>17.32</td>\n",
       "    </tr>\n",
       "  </tbody>\n",
       "</table>\n",
       "<p>52560 rows × 5 columns</p>\n",
       "</div>"
      ],
      "text/plain": [
       "                     시간   상류수위(EL.m)   하류수위(EL.m)   유입량(㎥/s)   방류량(㎥/s)\n",
       "0      2013.01.01 00:00         3.74        -1.70      42.00      42.00\n",
       "1      2013.01.01 00:10         3.74        -1.71      42.00      42.00\n",
       "2      2013.01.01 00:20         3.74        -1.71      42.00      42.00\n",
       "3      2013.01.01 00:30         3.74        -1.71      42.00      42.00\n",
       "4      2013.01.01 00:40         3.74        -1.71      42.00      42.00\n",
       "...                 ...          ...          ...        ...        ...\n",
       "52555  2013.12.31 23:10         3.53        -1.18      17.33      17.30\n",
       "52556  2013.12.31 23:20         3.53        -1.17      17.30      17.28\n",
       "52557  2013.12.31 23:30         3.53        -1.17      17.29      17.29\n",
       "52558  2013.12.31 23:40         3.53        -1.18      17.28      17.27\n",
       "52559  2013.12.31 23:50         3.53        -1.17      17.29      17.32\n",
       "\n",
       "[52560 rows x 5 columns]"
      ]
     },
     "execution_count": 39,
     "metadata": {},
     "output_type": "execute_result"
    }
   ],
   "source": [
    "jsb_dflow_yearly['2013']"
   ]
  },
  {
   "cell_type": "code",
   "execution_count": 40,
   "id": "16b9d7da",
   "metadata": {},
   "outputs": [
    {
     "data": {
      "text/html": [
       "<div>\n",
       "<style scoped>\n",
       "    .dataframe tbody tr th:only-of-type {\n",
       "        vertical-align: middle;\n",
       "    }\n",
       "\n",
       "    .dataframe tbody tr th {\n",
       "        vertical-align: top;\n",
       "    }\n",
       "\n",
       "    .dataframe thead th {\n",
       "        text-align: right;\n",
       "    }\n",
       "</style>\n",
       "<table border=\"1\" class=\"dataframe\">\n",
       "  <thead>\n",
       "    <tr style=\"text-align: right;\">\n",
       "      <th></th>\n",
       "      <th>시간</th>\n",
       "      <th>상류수위(EL.m)</th>\n",
       "      <th>하류수위(EL.m)</th>\n",
       "      <th>유입량(㎥/s)</th>\n",
       "      <th>방류량(㎥/s)</th>\n",
       "    </tr>\n",
       "  </thead>\n",
       "  <tbody>\n",
       "    <tr>\n",
       "      <th>0</th>\n",
       "      <td>2013.01.01 00:00</td>\n",
       "      <td>7.50</td>\n",
       "      <td>3.77</td>\n",
       "      <td>19.82</td>\n",
       "      <td>19.74</td>\n",
       "    </tr>\n",
       "    <tr>\n",
       "      <th>1</th>\n",
       "      <td>2013.01.01 00:10</td>\n",
       "      <td>7.50</td>\n",
       "      <td>3.77</td>\n",
       "      <td>19.78</td>\n",
       "      <td>19.76</td>\n",
       "    </tr>\n",
       "    <tr>\n",
       "      <th>2</th>\n",
       "      <td>2013.01.01 00:20</td>\n",
       "      <td>7.50</td>\n",
       "      <td>3.77</td>\n",
       "      <td>19.77</td>\n",
       "      <td>19.82</td>\n",
       "    </tr>\n",
       "    <tr>\n",
       "      <th>3</th>\n",
       "      <td>2013.01.01 00:30</td>\n",
       "      <td>7.50</td>\n",
       "      <td>3.77</td>\n",
       "      <td>19.77</td>\n",
       "      <td>19.73</td>\n",
       "    </tr>\n",
       "    <tr>\n",
       "      <th>4</th>\n",
       "      <td>2013.01.01 00:40</td>\n",
       "      <td>7.50</td>\n",
       "      <td>3.77</td>\n",
       "      <td>19.78</td>\n",
       "      <td>19.79</td>\n",
       "    </tr>\n",
       "    <tr>\n",
       "      <th>...</th>\n",
       "      <td>...</td>\n",
       "      <td>...</td>\n",
       "      <td>...</td>\n",
       "      <td>...</td>\n",
       "      <td>...</td>\n",
       "    </tr>\n",
       "    <tr>\n",
       "      <th>52555</th>\n",
       "      <td>2013.12.31 23:10</td>\n",
       "      <td>7.52</td>\n",
       "      <td>3.55</td>\n",
       "      <td>10.87</td>\n",
       "      <td>10.86</td>\n",
       "    </tr>\n",
       "    <tr>\n",
       "      <th>52556</th>\n",
       "      <td>2013.12.31 23:20</td>\n",
       "      <td>7.52</td>\n",
       "      <td>3.55</td>\n",
       "      <td>10.87</td>\n",
       "      <td>10.87</td>\n",
       "    </tr>\n",
       "    <tr>\n",
       "      <th>52557</th>\n",
       "      <td>2013.12.31 23:30</td>\n",
       "      <td>7.52</td>\n",
       "      <td>3.55</td>\n",
       "      <td>10.86</td>\n",
       "      <td>10.85</td>\n",
       "    </tr>\n",
       "    <tr>\n",
       "      <th>52558</th>\n",
       "      <td>2013.12.31 23:40</td>\n",
       "      <td>7.52</td>\n",
       "      <td>3.55</td>\n",
       "      <td>10.86</td>\n",
       "      <td>10.85</td>\n",
       "    </tr>\n",
       "    <tr>\n",
       "      <th>52559</th>\n",
       "      <td>2013.12.31 23:50</td>\n",
       "      <td>7.52</td>\n",
       "      <td>3.55</td>\n",
       "      <td>10.86</td>\n",
       "      <td>10.87</td>\n",
       "    </tr>\n",
       "  </tbody>\n",
       "</table>\n",
       "<p>52560 rows × 5 columns</p>\n",
       "</div>"
      ],
      "text/plain": [
       "                     시간   상류수위(EL.m)   하류수위(EL.m)   유입량(㎥/s)   방류량(㎥/s)\n",
       "0      2013.01.01 00:00         7.50         3.77      19.82      19.74\n",
       "1      2013.01.01 00:10         7.50         3.77      19.78      19.76\n",
       "2      2013.01.01 00:20         7.50         3.77      19.77      19.82\n",
       "3      2013.01.01 00:30         7.50         3.77      19.77      19.73\n",
       "4      2013.01.01 00:40         7.50         3.77      19.78      19.79\n",
       "...                 ...          ...          ...        ...        ...\n",
       "52555  2013.12.31 23:10         7.52         3.55      10.87      10.86\n",
       "52556  2013.12.31 23:20         7.52         3.55      10.87      10.87\n",
       "52557  2013.12.31 23:30         7.52         3.55      10.86      10.85\n",
       "52558  2013.12.31 23:40         7.52         3.55      10.86      10.85\n",
       "52559  2013.12.31 23:50         7.52         3.55      10.86      10.87\n",
       "\n",
       "[52560 rows x 5 columns]"
      ]
     },
     "execution_count": 40,
     "metadata": {},
     "output_type": "execute_result"
    }
   ],
   "source": [
    "scb_dflow_yearly['2013']"
   ]
  },
  {
   "cell_type": "markdown",
   "id": "f96959c1",
   "metadata": {},
   "source": [
    "- 2023 수량 데이터"
   ]
  },
  {
   "cell_type": "code",
   "execution_count": 41,
   "id": "e64539e0",
   "metadata": {},
   "outputs": [
    {
     "data": {
      "text/html": [
       "<div>\n",
       "<style scoped>\n",
       "    .dataframe tbody tr th:only-of-type {\n",
       "        vertical-align: middle;\n",
       "    }\n",
       "\n",
       "    .dataframe tbody tr th {\n",
       "        vertical-align: top;\n",
       "    }\n",
       "\n",
       "    .dataframe thead th {\n",
       "        text-align: right;\n",
       "    }\n",
       "</style>\n",
       "<table border=\"1\" class=\"dataframe\">\n",
       "  <thead>\n",
       "    <tr style=\"text-align: right;\">\n",
       "      <th></th>\n",
       "      <th>시간</th>\n",
       "      <th>상류수위(EL.m)</th>\n",
       "      <th>하류수위(EL.m)</th>\n",
       "      <th>유입량(㎥/s)</th>\n",
       "      <th>방류량(㎥/s)</th>\n",
       "    </tr>\n",
       "  </thead>\n",
       "  <tbody>\n",
       "    <tr>\n",
       "      <th>0</th>\n",
       "      <td>2023.01.01 00:00</td>\n",
       "      <td>1.52</td>\n",
       "      <td>-1.48</td>\n",
       "      <td>10.35</td>\n",
       "      <td>10.34</td>\n",
       "    </tr>\n",
       "    <tr>\n",
       "      <th>1</th>\n",
       "      <td>2023.01.01 00:10</td>\n",
       "      <td>1.52</td>\n",
       "      <td>-1.48</td>\n",
       "      <td>10.38</td>\n",
       "      <td>10.37</td>\n",
       "    </tr>\n",
       "    <tr>\n",
       "      <th>2</th>\n",
       "      <td>2023.01.01 00:20</td>\n",
       "      <td>1.52</td>\n",
       "      <td>-1.47</td>\n",
       "      <td>10.38</td>\n",
       "      <td>10.42</td>\n",
       "    </tr>\n",
       "    <tr>\n",
       "      <th>3</th>\n",
       "      <td>2023.01.01 00:30</td>\n",
       "      <td>1.52</td>\n",
       "      <td>-1.47</td>\n",
       "      <td>10.41</td>\n",
       "      <td>10.44</td>\n",
       "    </tr>\n",
       "    <tr>\n",
       "      <th>4</th>\n",
       "      <td>2023.01.01 00:40</td>\n",
       "      <td>1.52</td>\n",
       "      <td>-1.47</td>\n",
       "      <td>10.42</td>\n",
       "      <td>10.39</td>\n",
       "    </tr>\n",
       "    <tr>\n",
       "      <th>...</th>\n",
       "      <td>...</td>\n",
       "      <td>...</td>\n",
       "      <td>...</td>\n",
       "      <td>...</td>\n",
       "      <td>...</td>\n",
       "    </tr>\n",
       "    <tr>\n",
       "      <th>34950</th>\n",
       "      <td>2023.08.31 23:10</td>\n",
       "      <td>1.52</td>\n",
       "      <td>-1.66</td>\n",
       "      <td>200.77</td>\n",
       "      <td>205.06</td>\n",
       "    </tr>\n",
       "    <tr>\n",
       "      <th>34951</th>\n",
       "      <td>2023.08.31 23:20</td>\n",
       "      <td>1.52</td>\n",
       "      <td>-1.61</td>\n",
       "      <td>202.82</td>\n",
       "      <td>205.03</td>\n",
       "    </tr>\n",
       "    <tr>\n",
       "      <th>34952</th>\n",
       "      <td>2023.08.31 23:30</td>\n",
       "      <td>1.52</td>\n",
       "      <td>-1.56</td>\n",
       "      <td>218.66</td>\n",
       "      <td>204.88</td>\n",
       "    </tr>\n",
       "    <tr>\n",
       "      <th>34953</th>\n",
       "      <td>2023.08.31 23:40</td>\n",
       "      <td>1.51</td>\n",
       "      <td>-1.55</td>\n",
       "      <td>193.46</td>\n",
       "      <td>204.63</td>\n",
       "    </tr>\n",
       "    <tr>\n",
       "      <th>34954</th>\n",
       "      <td>2023.08.31 23:50</td>\n",
       "      <td>1.51</td>\n",
       "      <td>-1.55</td>\n",
       "      <td>188.72</td>\n",
       "      <td>204.48</td>\n",
       "    </tr>\n",
       "  </tbody>\n",
       "</table>\n",
       "<p>34955 rows × 5 columns</p>\n",
       "</div>"
      ],
      "text/plain": [
       "                     시간   상류수위(EL.m)   하류수위(EL.m)   유입량(㎥/s)   방류량(㎥/s)\n",
       "0      2023.01.01 00:00         1.52        -1.48      10.35      10.34\n",
       "1      2023.01.01 00:10         1.52        -1.48      10.38      10.37\n",
       "2      2023.01.01 00:20         1.52        -1.47      10.38      10.42\n",
       "3      2023.01.01 00:30         1.52        -1.47      10.41      10.44\n",
       "4      2023.01.01 00:40         1.52        -1.47      10.42      10.39\n",
       "...                 ...          ...          ...        ...        ...\n",
       "34950  2023.08.31 23:10         1.52        -1.66     200.77     205.06\n",
       "34951  2023.08.31 23:20         1.52        -1.61     202.82     205.03\n",
       "34952  2023.08.31 23:30         1.52        -1.56     218.66     204.88\n",
       "34953  2023.08.31 23:40         1.51        -1.55     193.46     204.63\n",
       "34954  2023.08.31 23:50         1.51        -1.55     188.72     204.48\n",
       "\n",
       "[34955 rows x 5 columns]"
      ]
     },
     "execution_count": 41,
     "metadata": {},
     "output_type": "execute_result"
    }
   ],
   "source": [
    "jsb_dflow_yearly['2023(1~8월)']"
   ]
  },
  {
   "cell_type": "code",
   "execution_count": 42,
   "id": "897d26df",
   "metadata": {},
   "outputs": [
    {
     "data": {
      "text/html": [
       "<div>\n",
       "<style scoped>\n",
       "    .dataframe tbody tr th:only-of-type {\n",
       "        vertical-align: middle;\n",
       "    }\n",
       "\n",
       "    .dataframe tbody tr th {\n",
       "        vertical-align: top;\n",
       "    }\n",
       "\n",
       "    .dataframe thead th {\n",
       "        text-align: right;\n",
       "    }\n",
       "</style>\n",
       "<table border=\"1\" class=\"dataframe\">\n",
       "  <thead>\n",
       "    <tr style=\"text-align: right;\">\n",
       "      <th></th>\n",
       "      <th>시간</th>\n",
       "      <th>상류수위(EL.m)</th>\n",
       "      <th>하류수위(EL.m)</th>\n",
       "      <th>유입량(㎥/s)</th>\n",
       "      <th>방류량(㎥/s)</th>\n",
       "    </tr>\n",
       "  </thead>\n",
       "  <tbody>\n",
       "    <tr>\n",
       "      <th>0</th>\n",
       "      <td>2023.01.01 00:00</td>\n",
       "      <td>5.96</td>\n",
       "      <td>1.59</td>\n",
       "      <td>10.79</td>\n",
       "      <td>10.78</td>\n",
       "    </tr>\n",
       "    <tr>\n",
       "      <th>1</th>\n",
       "      <td>2023.01.01 00:10</td>\n",
       "      <td>5.96</td>\n",
       "      <td>1.59</td>\n",
       "      <td>10.78</td>\n",
       "      <td>10.78</td>\n",
       "    </tr>\n",
       "    <tr>\n",
       "      <th>2</th>\n",
       "      <td>2023.01.01 00:20</td>\n",
       "      <td>5.96</td>\n",
       "      <td>1.59</td>\n",
       "      <td>10.78</td>\n",
       "      <td>10.78</td>\n",
       "    </tr>\n",
       "    <tr>\n",
       "      <th>3</th>\n",
       "      <td>2023.01.01 00:30</td>\n",
       "      <td>5.96</td>\n",
       "      <td>1.59</td>\n",
       "      <td>10.79</td>\n",
       "      <td>10.80</td>\n",
       "    </tr>\n",
       "    <tr>\n",
       "      <th>4</th>\n",
       "      <td>2023.01.01 00:40</td>\n",
       "      <td>5.96</td>\n",
       "      <td>1.59</td>\n",
       "      <td>10.79</td>\n",
       "      <td>10.80</td>\n",
       "    </tr>\n",
       "    <tr>\n",
       "      <th>...</th>\n",
       "      <td>...</td>\n",
       "      <td>...</td>\n",
       "      <td>...</td>\n",
       "      <td>...</td>\n",
       "      <td>...</td>\n",
       "    </tr>\n",
       "    <tr>\n",
       "      <th>34962</th>\n",
       "      <td>2023.08.31 23:10</td>\n",
       "      <td>6.06</td>\n",
       "      <td>1.81</td>\n",
       "      <td>77.20</td>\n",
       "      <td>63.38</td>\n",
       "    </tr>\n",
       "    <tr>\n",
       "      <th>34963</th>\n",
       "      <td>2023.08.31 23:20</td>\n",
       "      <td>6.06</td>\n",
       "      <td>1.81</td>\n",
       "      <td>76.51</td>\n",
       "      <td>63.46</td>\n",
       "    </tr>\n",
       "    <tr>\n",
       "      <th>34964</th>\n",
       "      <td>2023.08.31 23:30</td>\n",
       "      <td>6.07</td>\n",
       "      <td>1.81</td>\n",
       "      <td>79.94</td>\n",
       "      <td>63.49</td>\n",
       "    </tr>\n",
       "    <tr>\n",
       "      <th>34965</th>\n",
       "      <td>2023.08.31 23:40</td>\n",
       "      <td>6.08</td>\n",
       "      <td>1.80</td>\n",
       "      <td>79.17</td>\n",
       "      <td>63.55</td>\n",
       "    </tr>\n",
       "    <tr>\n",
       "      <th>34966</th>\n",
       "      <td>2023.08.31 23:50</td>\n",
       "      <td>6.08</td>\n",
       "      <td>1.80</td>\n",
       "      <td>78.42</td>\n",
       "      <td>63.71</td>\n",
       "    </tr>\n",
       "  </tbody>\n",
       "</table>\n",
       "<p>34967 rows × 5 columns</p>\n",
       "</div>"
      ],
      "text/plain": [
       "                     시간   상류수위(EL.m)   하류수위(EL.m)   유입량(㎥/s)   방류량(㎥/s)\n",
       "0      2023.01.01 00:00         5.96         1.59      10.79      10.78\n",
       "1      2023.01.01 00:10         5.96         1.59      10.78      10.78\n",
       "2      2023.01.01 00:20         5.96         1.59      10.78      10.78\n",
       "3      2023.01.01 00:30         5.96         1.59      10.79      10.80\n",
       "4      2023.01.01 00:40         5.96         1.59      10.79      10.80\n",
       "...                 ...          ...          ...        ...        ...\n",
       "34962  2023.08.31 23:10         6.06         1.81      77.20      63.38\n",
       "34963  2023.08.31 23:20         6.06         1.81      76.51      63.46\n",
       "34964  2023.08.31 23:30         6.07         1.81      79.94      63.49\n",
       "34965  2023.08.31 23:40         6.08         1.80      79.17      63.55\n",
       "34966  2023.08.31 23:50         6.08         1.80      78.42      63.71\n",
       "\n",
       "[34967 rows x 5 columns]"
      ]
     },
     "execution_count": 42,
     "metadata": {},
     "output_type": "execute_result"
    }
   ],
   "source": [
    "scb_dflow_yearly['2023(1~8월)']"
   ]
  },
  {
   "cell_type": "markdown",
   "id": "8d4a62fe",
   "metadata": {},
   "source": [
    "**년도별 수량 데이터 통합**"
   ]
  },
  {
   "cell_type": "markdown",
   "id": "400ca410",
   "metadata": {},
   "source": [
    "년도별 데이터를 통합해서 하나의 데이터프레임으로 만드는 함수"
   ]
  },
  {
   "cell_type": "code",
   "execution_count": 43,
   "id": "c2152943",
   "metadata": {},
   "outputs": [],
   "source": [
    "def concat_yearly_data(yearly_df_dict):\n",
    "    df_concat = pd.DataFrame()\n",
    "\n",
    "    for year in list(yearly_df_dict.keys()):\n",
    "        df_concat = pd.concat([df_concat, yearly_df_dict[year]])\n",
    "\n",
    "    return df_concat"
   ]
  },
  {
   "cell_type": "code",
   "execution_count": 44,
   "id": "85dc9afe",
   "metadata": {},
   "outputs": [
    {
     "data": {
      "text/html": [
       "<div>\n",
       "<style scoped>\n",
       "    .dataframe tbody tr th:only-of-type {\n",
       "        vertical-align: middle;\n",
       "    }\n",
       "\n",
       "    .dataframe tbody tr th {\n",
       "        vertical-align: top;\n",
       "    }\n",
       "\n",
       "    .dataframe thead th {\n",
       "        text-align: right;\n",
       "    }\n",
       "</style>\n",
       "<table border=\"1\" class=\"dataframe\">\n",
       "  <thead>\n",
       "    <tr style=\"text-align: right;\">\n",
       "      <th></th>\n",
       "      <th>시간</th>\n",
       "      <th>상류수위(EL.m)</th>\n",
       "      <th>하류수위(EL.m)</th>\n",
       "      <th>유입량(㎥/s)</th>\n",
       "      <th>방류량(㎥/s)</th>\n",
       "    </tr>\n",
       "  </thead>\n",
       "  <tbody>\n",
       "    <tr>\n",
       "      <th>0</th>\n",
       "      <td>2012.07.01 00:00</td>\n",
       "      <td>3.69</td>\n",
       "      <td>0.00</td>\n",
       "      <td>0.00</td>\n",
       "      <td>0.00</td>\n",
       "    </tr>\n",
       "    <tr>\n",
       "      <th>1</th>\n",
       "      <td>2012.07.01 00:10</td>\n",
       "      <td>3.70</td>\n",
       "      <td>0.00</td>\n",
       "      <td>0.00</td>\n",
       "      <td>0.00</td>\n",
       "    </tr>\n",
       "    <tr>\n",
       "      <th>2</th>\n",
       "      <td>2012.07.01 00:20</td>\n",
       "      <td>3.71</td>\n",
       "      <td>0.00</td>\n",
       "      <td>0.00</td>\n",
       "      <td>0.00</td>\n",
       "    </tr>\n",
       "    <tr>\n",
       "      <th>3</th>\n",
       "      <td>2012.07.01 00:30</td>\n",
       "      <td>3.70</td>\n",
       "      <td>0.00</td>\n",
       "      <td>0.00</td>\n",
       "      <td>0.00</td>\n",
       "    </tr>\n",
       "    <tr>\n",
       "      <th>4</th>\n",
       "      <td>2012.07.01 00:40</td>\n",
       "      <td>3.70</td>\n",
       "      <td>0.00</td>\n",
       "      <td>0.00</td>\n",
       "      <td>0.00</td>\n",
       "    </tr>\n",
       "    <tr>\n",
       "      <th>...</th>\n",
       "      <td>...</td>\n",
       "      <td>...</td>\n",
       "      <td>...</td>\n",
       "      <td>...</td>\n",
       "      <td>...</td>\n",
       "    </tr>\n",
       "    <tr>\n",
       "      <th>34950</th>\n",
       "      <td>2023.08.31 23:10</td>\n",
       "      <td>1.52</td>\n",
       "      <td>-1.66</td>\n",
       "      <td>200.77</td>\n",
       "      <td>205.06</td>\n",
       "    </tr>\n",
       "    <tr>\n",
       "      <th>34951</th>\n",
       "      <td>2023.08.31 23:20</td>\n",
       "      <td>1.52</td>\n",
       "      <td>-1.61</td>\n",
       "      <td>202.82</td>\n",
       "      <td>205.03</td>\n",
       "    </tr>\n",
       "    <tr>\n",
       "      <th>34952</th>\n",
       "      <td>2023.08.31 23:30</td>\n",
       "      <td>1.52</td>\n",
       "      <td>-1.56</td>\n",
       "      <td>218.66</td>\n",
       "      <td>204.88</td>\n",
       "    </tr>\n",
       "    <tr>\n",
       "      <th>34953</th>\n",
       "      <td>2023.08.31 23:40</td>\n",
       "      <td>1.51</td>\n",
       "      <td>-1.55</td>\n",
       "      <td>193.46</td>\n",
       "      <td>204.63</td>\n",
       "    </tr>\n",
       "    <tr>\n",
       "      <th>34954</th>\n",
       "      <td>2023.08.31 23:50</td>\n",
       "      <td>1.51</td>\n",
       "      <td>-1.55</td>\n",
       "      <td>188.72</td>\n",
       "      <td>204.48</td>\n",
       "    </tr>\n",
       "  </tbody>\n",
       "</table>\n",
       "<p>587146 rows × 5 columns</p>\n",
       "</div>"
      ],
      "text/plain": [
       "                     시간   상류수위(EL.m)   하류수위(EL.m)   유입량(㎥/s)   방류량(㎥/s)\n",
       "0      2012.07.01 00:00         3.69         0.00       0.00       0.00\n",
       "1      2012.07.01 00:10         3.70         0.00       0.00       0.00\n",
       "2      2012.07.01 00:20         3.71         0.00       0.00       0.00\n",
       "3      2012.07.01 00:30         3.70         0.00       0.00       0.00\n",
       "4      2012.07.01 00:40         3.70         0.00       0.00       0.00\n",
       "...                 ...          ...          ...        ...        ...\n",
       "34950  2023.08.31 23:10         1.52        -1.66     200.77     205.06\n",
       "34951  2023.08.31 23:20         1.52        -1.61     202.82     205.03\n",
       "34952  2023.08.31 23:30         1.52        -1.56     218.66     204.88\n",
       "34953  2023.08.31 23:40         1.51        -1.55     193.46     204.63\n",
       "34954  2023.08.31 23:50         1.51        -1.55     188.72     204.48\n",
       "\n",
       "[587146 rows x 5 columns]"
      ]
     },
     "execution_count": 44,
     "metadata": {},
     "output_type": "execute_result"
    }
   ],
   "source": [
    "jsb_dflow_10 = concat_yearly_data(jsb_dflow_yearly)\n",
    "jsb_dflow_10"
   ]
  },
  {
   "cell_type": "code",
   "execution_count": 45,
   "id": "0793211d",
   "metadata": {},
   "outputs": [
    {
     "data": {
      "text/html": [
       "<div>\n",
       "<style scoped>\n",
       "    .dataframe tbody tr th:only-of-type {\n",
       "        vertical-align: middle;\n",
       "    }\n",
       "\n",
       "    .dataframe tbody tr th {\n",
       "        vertical-align: top;\n",
       "    }\n",
       "\n",
       "    .dataframe thead th {\n",
       "        text-align: right;\n",
       "    }\n",
       "</style>\n",
       "<table border=\"1\" class=\"dataframe\">\n",
       "  <thead>\n",
       "    <tr style=\"text-align: right;\">\n",
       "      <th></th>\n",
       "      <th>시간</th>\n",
       "      <th>상류수위(EL.m)</th>\n",
       "      <th>하류수위(EL.m)</th>\n",
       "      <th>유입량(㎥/s)</th>\n",
       "      <th>방류량(㎥/s)</th>\n",
       "    </tr>\n",
       "  </thead>\n",
       "  <tbody>\n",
       "    <tr>\n",
       "      <th>0</th>\n",
       "      <td>2012.07.01 00:00</td>\n",
       "      <td>7.67</td>\n",
       "      <td>0.00</td>\n",
       "      <td>0.00</td>\n",
       "      <td>0.00</td>\n",
       "    </tr>\n",
       "    <tr>\n",
       "      <th>1</th>\n",
       "      <td>2012.07.01 00:10</td>\n",
       "      <td>7.67</td>\n",
       "      <td>0.00</td>\n",
       "      <td>0.00</td>\n",
       "      <td>0.00</td>\n",
       "    </tr>\n",
       "    <tr>\n",
       "      <th>2</th>\n",
       "      <td>2012.07.01 00:20</td>\n",
       "      <td>7.67</td>\n",
       "      <td>0.00</td>\n",
       "      <td>0.00</td>\n",
       "      <td>0.00</td>\n",
       "    </tr>\n",
       "    <tr>\n",
       "      <th>3</th>\n",
       "      <td>2012.07.01 00:30</td>\n",
       "      <td>7.67</td>\n",
       "      <td>0.00</td>\n",
       "      <td>0.00</td>\n",
       "      <td>0.00</td>\n",
       "    </tr>\n",
       "    <tr>\n",
       "      <th>4</th>\n",
       "      <td>2012.07.01 00:40</td>\n",
       "      <td>7.67</td>\n",
       "      <td>0.00</td>\n",
       "      <td>0.00</td>\n",
       "      <td>0.00</td>\n",
       "    </tr>\n",
       "    <tr>\n",
       "      <th>...</th>\n",
       "      <td>...</td>\n",
       "      <td>...</td>\n",
       "      <td>...</td>\n",
       "      <td>...</td>\n",
       "      <td>...</td>\n",
       "    </tr>\n",
       "    <tr>\n",
       "      <th>34962</th>\n",
       "      <td>2023.08.31 23:10</td>\n",
       "      <td>6.06</td>\n",
       "      <td>1.81</td>\n",
       "      <td>77.20</td>\n",
       "      <td>63.38</td>\n",
       "    </tr>\n",
       "    <tr>\n",
       "      <th>34963</th>\n",
       "      <td>2023.08.31 23:20</td>\n",
       "      <td>6.06</td>\n",
       "      <td>1.81</td>\n",
       "      <td>76.51</td>\n",
       "      <td>63.46</td>\n",
       "    </tr>\n",
       "    <tr>\n",
       "      <th>34964</th>\n",
       "      <td>2023.08.31 23:30</td>\n",
       "      <td>6.07</td>\n",
       "      <td>1.81</td>\n",
       "      <td>79.94</td>\n",
       "      <td>63.49</td>\n",
       "    </tr>\n",
       "    <tr>\n",
       "      <th>34965</th>\n",
       "      <td>2023.08.31 23:40</td>\n",
       "      <td>6.08</td>\n",
       "      <td>1.80</td>\n",
       "      <td>79.17</td>\n",
       "      <td>63.55</td>\n",
       "    </tr>\n",
       "    <tr>\n",
       "      <th>34966</th>\n",
       "      <td>2023.08.31 23:50</td>\n",
       "      <td>6.08</td>\n",
       "      <td>1.80</td>\n",
       "      <td>78.42</td>\n",
       "      <td>63.71</td>\n",
       "    </tr>\n",
       "  </tbody>\n",
       "</table>\n",
       "<p>587072 rows × 5 columns</p>\n",
       "</div>"
      ],
      "text/plain": [
       "                     시간   상류수위(EL.m)   하류수위(EL.m)   유입량(㎥/s)   방류량(㎥/s)\n",
       "0      2012.07.01 00:00         7.67         0.00       0.00       0.00\n",
       "1      2012.07.01 00:10         7.67         0.00       0.00       0.00\n",
       "2      2012.07.01 00:20         7.67         0.00       0.00       0.00\n",
       "3      2012.07.01 00:30         7.67         0.00       0.00       0.00\n",
       "4      2012.07.01 00:40         7.67         0.00       0.00       0.00\n",
       "...                 ...          ...          ...        ...        ...\n",
       "34962  2023.08.31 23:10         6.06         1.81      77.20      63.38\n",
       "34963  2023.08.31 23:20         6.06         1.81      76.51      63.46\n",
       "34964  2023.08.31 23:30         6.07         1.81      79.94      63.49\n",
       "34965  2023.08.31 23:40         6.08         1.80      79.17      63.55\n",
       "34966  2023.08.31 23:50         6.08         1.80      78.42      63.71\n",
       "\n",
       "[587072 rows x 5 columns]"
      ]
     },
     "execution_count": 45,
     "metadata": {},
     "output_type": "execute_result"
    }
   ],
   "source": [
    "scb_dflow_10 = concat_yearly_data(scb_dflow_yearly)\n",
    "scb_dflow_10"
   ]
  },
  {
   "cell_type": "code",
   "execution_count": 46,
   "id": "323a75bd",
   "metadata": {},
   "outputs": [
    {
     "name": "stdout",
     "output_type": "stream",
     "text": [
      "<class 'pandas.core.frame.DataFrame'>\n",
      "Index: 587146 entries, 0 to 34954\n",
      "Data columns (total 5 columns):\n",
      " #   Column       Non-Null Count   Dtype  \n",
      "---  ------       --------------   -----  \n",
      " 0   시간           587146 non-null  object \n",
      " 1    상류수위(EL.m)  587146 non-null  float64\n",
      " 2    하류수위(EL.m)  587146 non-null  float64\n",
      " 3    유입량(㎥/s)    587146 non-null  float64\n",
      " 4    방류량(㎥/s)    587146 non-null  float64\n",
      "dtypes: float64(4), object(1)\n",
      "memory usage: 26.9+ MB\n"
     ]
    }
   ],
   "source": [
    "jsb_dflow_10.info()"
   ]
  },
  {
   "cell_type": "code",
   "execution_count": 47,
   "id": "3e8036fd",
   "metadata": {},
   "outputs": [
    {
     "name": "stdout",
     "output_type": "stream",
     "text": [
      "<class 'pandas.core.frame.DataFrame'>\n",
      "Index: 587072 entries, 0 to 34966\n",
      "Data columns (total 5 columns):\n",
      " #   Column       Non-Null Count   Dtype  \n",
      "---  ------       --------------   -----  \n",
      " 0   시간           587072 non-null  object \n",
      " 1    상류수위(EL.m)  587072 non-null  float64\n",
      " 2    하류수위(EL.m)  587072 non-null  float64\n",
      " 3    유입량(㎥/s)    587072 non-null  float64\n",
      " 4    방류량(㎥/s)    587072 non-null  float64\n",
      "dtypes: float64(4), object(1)\n",
      "memory usage: 26.9+ MB\n"
     ]
    }
   ],
   "source": [
    "scb_dflow_10.info()"
   ]
  },
  {
   "cell_type": "markdown",
   "id": "0da0f3a0",
   "metadata": {},
   "source": [
    "**시간 특성 전처리**\n",
    "\n",
    "- 2019년도 이후의 데이터에 시간이 `24:00`가 `00:00`과 함께 동시에 사용된 경우가 있음.\n",
    "- 따라서 이런 데이터를 삭제해야 함."
   ]
  },
  {
   "cell_type": "code",
   "execution_count": 48,
   "id": "4eccbd88",
   "metadata": {},
   "outputs": [
    {
     "data": {
      "text/plain": [
       "103"
      ]
     },
     "execution_count": 48,
     "metadata": {},
     "output_type": "execute_result"
    }
   ],
   "source": [
    "mask = jsb_dflow_10['시간'].map(lambda x: '24:00' in x)\n",
    "mask.sum()"
   ]
  },
  {
   "cell_type": "code",
   "execution_count": 49,
   "id": "48a41d2f",
   "metadata": {},
   "outputs": [
    {
     "name": "stdout",
     "output_type": "stream",
     "text": [
      "<class 'pandas.core.frame.DataFrame'>\n",
      "Index: 587043 entries, 0 to 34954\n",
      "Data columns (total 5 columns):\n",
      " #   Column       Non-Null Count   Dtype  \n",
      "---  ------       --------------   -----  \n",
      " 0   시간           587043 non-null  object \n",
      " 1    상류수위(EL.m)  587043 non-null  float64\n",
      " 2    하류수위(EL.m)  587043 non-null  float64\n",
      " 3    유입량(㎥/s)    587043 non-null  float64\n",
      " 4    방류량(㎥/s)    587043 non-null  float64\n",
      "dtypes: float64(4), object(1)\n",
      "memory usage: 26.9+ MB\n"
     ]
    }
   ],
   "source": [
    "jsb_dflow_10 = jsb_dflow_10.loc[~mask]\n",
    "jsb_dflow_10.info()"
   ]
  },
  {
   "cell_type": "code",
   "execution_count": 50,
   "id": "8b3a2ed4",
   "metadata": {},
   "outputs": [
    {
     "data": {
      "text/plain": [
       "135"
      ]
     },
     "execution_count": 50,
     "metadata": {},
     "output_type": "execute_result"
    }
   ],
   "source": [
    "mask = scb_dflow_10['시간'].map(lambda x: '24:00' in x)\n",
    "mask.sum()"
   ]
  },
  {
   "cell_type": "code",
   "execution_count": 51,
   "id": "45974d30",
   "metadata": {},
   "outputs": [
    {
     "name": "stdout",
     "output_type": "stream",
     "text": [
      "<class 'pandas.core.frame.DataFrame'>\n",
      "Index: 586937 entries, 0 to 34966\n",
      "Data columns (total 5 columns):\n",
      " #   Column       Non-Null Count   Dtype  \n",
      "---  ------       --------------   -----  \n",
      " 0   시간           586937 non-null  object \n",
      " 1    상류수위(EL.m)  586937 non-null  float64\n",
      " 2    하류수위(EL.m)  586937 non-null  float64\n",
      " 3    유입량(㎥/s)    586937 non-null  float64\n",
      " 4    방류량(㎥/s)    586937 non-null  float64\n",
      "dtypes: float64(4), object(1)\n",
      "memory usage: 26.9+ MB\n"
     ]
    }
   ],
   "source": [
    "scb_dflow_10 = scb_dflow_10.loc[~mask]\n",
    "scb_dflow_10.info()"
   ]
  },
  {
   "cell_type": "markdown",
   "id": "97f5b7b2",
   "metadata": {},
   "source": [
    "`'시간'` 특성을 `datatime` 자료형으로 변환한다."
   ]
  },
  {
   "cell_type": "code",
   "execution_count": 52,
   "id": "f88212c4",
   "metadata": {},
   "outputs": [
    {
     "name": "stdout",
     "output_type": "stream",
     "text": [
      "<class 'pandas.core.frame.DataFrame'>\n",
      "Index: 587043 entries, 0 to 34954\n",
      "Data columns (total 5 columns):\n",
      " #   Column       Non-Null Count   Dtype         \n",
      "---  ------       --------------   -----         \n",
      " 0   시간           587043 non-null  datetime64[ns]\n",
      " 1    상류수위(EL.m)  587043 non-null  float64       \n",
      " 2    하류수위(EL.m)  587043 non-null  float64       \n",
      " 3    유입량(㎥/s)    587043 non-null  float64       \n",
      " 4    방류량(㎥/s)    587043 non-null  float64       \n",
      "dtypes: datetime64[ns](1), float64(4)\n",
      "memory usage: 26.9 MB\n"
     ]
    }
   ],
   "source": [
    "jsb_dflow_10 = jsb_dflow_10.astype({'시간': 'datetime64[ns]'})\n",
    "jsb_dflow_10.info()"
   ]
  },
  {
   "cell_type": "code",
   "execution_count": 53,
   "id": "054db53c",
   "metadata": {},
   "outputs": [
    {
     "name": "stdout",
     "output_type": "stream",
     "text": [
      "<class 'pandas.core.frame.DataFrame'>\n",
      "Index: 586937 entries, 0 to 34966\n",
      "Data columns (total 5 columns):\n",
      " #   Column       Non-Null Count   Dtype         \n",
      "---  ------       --------------   -----         \n",
      " 0   시간           586937 non-null  datetime64[ns]\n",
      " 1    상류수위(EL.m)  586937 non-null  float64       \n",
      " 2    하류수위(EL.m)  586937 non-null  float64       \n",
      " 3    유입량(㎥/s)    586937 non-null  float64       \n",
      " 4    방류량(㎥/s)    586937 non-null  float64       \n",
      "dtypes: datetime64[ns](1), float64(4)\n",
      "memory usage: 26.9 MB\n"
     ]
    }
   ],
   "source": [
    "scb_dflow_10 = scb_dflow_10.astype({'시간': 'datetime64[ns]'})\n",
    "scb_dflow_10.info()"
   ]
  },
  {
   "cell_type": "markdown",
   "id": "42487062",
   "metadata": {},
   "source": [
    "인덱스를 `'시간'` 특성으로 변경한 후에 정렬한다."
   ]
  },
  {
   "cell_type": "code",
   "execution_count": 54,
   "id": "0f74606b",
   "metadata": {},
   "outputs": [
    {
     "data": {
      "text/html": [
       "<div>\n",
       "<style scoped>\n",
       "    .dataframe tbody tr th:only-of-type {\n",
       "        vertical-align: middle;\n",
       "    }\n",
       "\n",
       "    .dataframe tbody tr th {\n",
       "        vertical-align: top;\n",
       "    }\n",
       "\n",
       "    .dataframe thead th {\n",
       "        text-align: right;\n",
       "    }\n",
       "</style>\n",
       "<table border=\"1\" class=\"dataframe\">\n",
       "  <thead>\n",
       "    <tr style=\"text-align: right;\">\n",
       "      <th></th>\n",
       "      <th>상류수위(EL.m)</th>\n",
       "      <th>하류수위(EL.m)</th>\n",
       "      <th>유입량(㎥/s)</th>\n",
       "      <th>방류량(㎥/s)</th>\n",
       "    </tr>\n",
       "    <tr>\n",
       "      <th>시간</th>\n",
       "      <th></th>\n",
       "      <th></th>\n",
       "      <th></th>\n",
       "      <th></th>\n",
       "    </tr>\n",
       "  </thead>\n",
       "  <tbody>\n",
       "    <tr>\n",
       "      <th>2012-07-01 00:00:00</th>\n",
       "      <td>3.69</td>\n",
       "      <td>0.00</td>\n",
       "      <td>0.00</td>\n",
       "      <td>0.00</td>\n",
       "    </tr>\n",
       "    <tr>\n",
       "      <th>2012-07-01 00:10:00</th>\n",
       "      <td>3.70</td>\n",
       "      <td>0.00</td>\n",
       "      <td>0.00</td>\n",
       "      <td>0.00</td>\n",
       "    </tr>\n",
       "    <tr>\n",
       "      <th>2012-07-01 00:20:00</th>\n",
       "      <td>3.71</td>\n",
       "      <td>0.00</td>\n",
       "      <td>0.00</td>\n",
       "      <td>0.00</td>\n",
       "    </tr>\n",
       "    <tr>\n",
       "      <th>2012-07-01 00:30:00</th>\n",
       "      <td>3.70</td>\n",
       "      <td>0.00</td>\n",
       "      <td>0.00</td>\n",
       "      <td>0.00</td>\n",
       "    </tr>\n",
       "    <tr>\n",
       "      <th>2012-07-01 00:40:00</th>\n",
       "      <td>3.70</td>\n",
       "      <td>0.00</td>\n",
       "      <td>0.00</td>\n",
       "      <td>0.00</td>\n",
       "    </tr>\n",
       "    <tr>\n",
       "      <th>...</th>\n",
       "      <td>...</td>\n",
       "      <td>...</td>\n",
       "      <td>...</td>\n",
       "      <td>...</td>\n",
       "    </tr>\n",
       "    <tr>\n",
       "      <th>2023-08-31 23:10:00</th>\n",
       "      <td>1.52</td>\n",
       "      <td>-1.66</td>\n",
       "      <td>200.77</td>\n",
       "      <td>205.06</td>\n",
       "    </tr>\n",
       "    <tr>\n",
       "      <th>2023-08-31 23:20:00</th>\n",
       "      <td>1.52</td>\n",
       "      <td>-1.61</td>\n",
       "      <td>202.82</td>\n",
       "      <td>205.03</td>\n",
       "    </tr>\n",
       "    <tr>\n",
       "      <th>2023-08-31 23:30:00</th>\n",
       "      <td>1.52</td>\n",
       "      <td>-1.56</td>\n",
       "      <td>218.66</td>\n",
       "      <td>204.88</td>\n",
       "    </tr>\n",
       "    <tr>\n",
       "      <th>2023-08-31 23:40:00</th>\n",
       "      <td>1.51</td>\n",
       "      <td>-1.55</td>\n",
       "      <td>193.46</td>\n",
       "      <td>204.63</td>\n",
       "    </tr>\n",
       "    <tr>\n",
       "      <th>2023-08-31 23:50:00</th>\n",
       "      <td>1.51</td>\n",
       "      <td>-1.55</td>\n",
       "      <td>188.72</td>\n",
       "      <td>204.48</td>\n",
       "    </tr>\n",
       "  </tbody>\n",
       "</table>\n",
       "<p>587043 rows × 4 columns</p>\n",
       "</div>"
      ],
      "text/plain": [
       "                      상류수위(EL.m)   하류수위(EL.m)   유입량(㎥/s)   방류량(㎥/s)\n",
       "시간                                                                 \n",
       "2012-07-01 00:00:00         3.69         0.00       0.00       0.00\n",
       "2012-07-01 00:10:00         3.70         0.00       0.00       0.00\n",
       "2012-07-01 00:20:00         3.71         0.00       0.00       0.00\n",
       "2012-07-01 00:30:00         3.70         0.00       0.00       0.00\n",
       "2012-07-01 00:40:00         3.70         0.00       0.00       0.00\n",
       "...                          ...          ...        ...        ...\n",
       "2023-08-31 23:10:00         1.52        -1.66     200.77     205.06\n",
       "2023-08-31 23:20:00         1.52        -1.61     202.82     205.03\n",
       "2023-08-31 23:30:00         1.52        -1.56     218.66     204.88\n",
       "2023-08-31 23:40:00         1.51        -1.55     193.46     204.63\n",
       "2023-08-31 23:50:00         1.51        -1.55     188.72     204.48\n",
       "\n",
       "[587043 rows x 4 columns]"
      ]
     },
     "execution_count": 54,
     "metadata": {},
     "output_type": "execute_result"
    }
   ],
   "source": [
    "jsb_dflow_10 = jsb_dflow_10.set_index('시간')\n",
    "jsb_dflow_10 = jsb_dflow_10.sort_index()\n",
    "jsb_dflow_10"
   ]
  },
  {
   "cell_type": "code",
   "execution_count": 55,
   "id": "8a2dfac9",
   "metadata": {},
   "outputs": [
    {
     "data": {
      "text/html": [
       "<div>\n",
       "<style scoped>\n",
       "    .dataframe tbody tr th:only-of-type {\n",
       "        vertical-align: middle;\n",
       "    }\n",
       "\n",
       "    .dataframe tbody tr th {\n",
       "        vertical-align: top;\n",
       "    }\n",
       "\n",
       "    .dataframe thead th {\n",
       "        text-align: right;\n",
       "    }\n",
       "</style>\n",
       "<table border=\"1\" class=\"dataframe\">\n",
       "  <thead>\n",
       "    <tr style=\"text-align: right;\">\n",
       "      <th></th>\n",
       "      <th>상류수위(EL.m)</th>\n",
       "      <th>하류수위(EL.m)</th>\n",
       "      <th>유입량(㎥/s)</th>\n",
       "      <th>방류량(㎥/s)</th>\n",
       "    </tr>\n",
       "    <tr>\n",
       "      <th>시간</th>\n",
       "      <th></th>\n",
       "      <th></th>\n",
       "      <th></th>\n",
       "      <th></th>\n",
       "    </tr>\n",
       "  </thead>\n",
       "  <tbody>\n",
       "    <tr>\n",
       "      <th>2012-07-01 00:00:00</th>\n",
       "      <td>7.67</td>\n",
       "      <td>0.00</td>\n",
       "      <td>0.00</td>\n",
       "      <td>0.00</td>\n",
       "    </tr>\n",
       "    <tr>\n",
       "      <th>2012-07-01 00:10:00</th>\n",
       "      <td>7.67</td>\n",
       "      <td>0.00</td>\n",
       "      <td>0.00</td>\n",
       "      <td>0.00</td>\n",
       "    </tr>\n",
       "    <tr>\n",
       "      <th>2012-07-01 00:20:00</th>\n",
       "      <td>7.67</td>\n",
       "      <td>0.00</td>\n",
       "      <td>0.00</td>\n",
       "      <td>0.00</td>\n",
       "    </tr>\n",
       "    <tr>\n",
       "      <th>2012-07-01 00:30:00</th>\n",
       "      <td>7.67</td>\n",
       "      <td>0.00</td>\n",
       "      <td>0.00</td>\n",
       "      <td>0.00</td>\n",
       "    </tr>\n",
       "    <tr>\n",
       "      <th>2012-07-01 00:40:00</th>\n",
       "      <td>7.67</td>\n",
       "      <td>0.00</td>\n",
       "      <td>0.00</td>\n",
       "      <td>0.00</td>\n",
       "    </tr>\n",
       "    <tr>\n",
       "      <th>...</th>\n",
       "      <td>...</td>\n",
       "      <td>...</td>\n",
       "      <td>...</td>\n",
       "      <td>...</td>\n",
       "    </tr>\n",
       "    <tr>\n",
       "      <th>2023-08-31 23:10:00</th>\n",
       "      <td>6.06</td>\n",
       "      <td>1.81</td>\n",
       "      <td>77.20</td>\n",
       "      <td>63.38</td>\n",
       "    </tr>\n",
       "    <tr>\n",
       "      <th>2023-08-31 23:20:00</th>\n",
       "      <td>6.06</td>\n",
       "      <td>1.81</td>\n",
       "      <td>76.51</td>\n",
       "      <td>63.46</td>\n",
       "    </tr>\n",
       "    <tr>\n",
       "      <th>2023-08-31 23:30:00</th>\n",
       "      <td>6.07</td>\n",
       "      <td>1.81</td>\n",
       "      <td>79.94</td>\n",
       "      <td>63.49</td>\n",
       "    </tr>\n",
       "    <tr>\n",
       "      <th>2023-08-31 23:40:00</th>\n",
       "      <td>6.08</td>\n",
       "      <td>1.80</td>\n",
       "      <td>79.17</td>\n",
       "      <td>63.55</td>\n",
       "    </tr>\n",
       "    <tr>\n",
       "      <th>2023-08-31 23:50:00</th>\n",
       "      <td>6.08</td>\n",
       "      <td>1.80</td>\n",
       "      <td>78.42</td>\n",
       "      <td>63.71</td>\n",
       "    </tr>\n",
       "  </tbody>\n",
       "</table>\n",
       "<p>586937 rows × 4 columns</p>\n",
       "</div>"
      ],
      "text/plain": [
       "                      상류수위(EL.m)   하류수위(EL.m)   유입량(㎥/s)   방류량(㎥/s)\n",
       "시간                                                                 \n",
       "2012-07-01 00:00:00         7.67         0.00       0.00       0.00\n",
       "2012-07-01 00:10:00         7.67         0.00       0.00       0.00\n",
       "2012-07-01 00:20:00         7.67         0.00       0.00       0.00\n",
       "2012-07-01 00:30:00         7.67         0.00       0.00       0.00\n",
       "2012-07-01 00:40:00         7.67         0.00       0.00       0.00\n",
       "...                          ...          ...        ...        ...\n",
       "2023-08-31 23:10:00         6.06         1.81      77.20      63.38\n",
       "2023-08-31 23:20:00         6.06         1.81      76.51      63.46\n",
       "2023-08-31 23:30:00         6.07         1.81      79.94      63.49\n",
       "2023-08-31 23:40:00         6.08         1.80      79.17      63.55\n",
       "2023-08-31 23:50:00         6.08         1.80      78.42      63.71\n",
       "\n",
       "[586937 rows x 4 columns]"
      ]
     },
     "execution_count": 55,
     "metadata": {},
     "output_type": "execute_result"
    }
   ],
   "source": [
    "scb_dflow_10 = scb_dflow_10.set_index('시간')\n",
    "scb_dflow_10 = scb_dflow_10.sort_index()\n",
    "scb_dflow_10"
   ]
  },
  {
   "cell_type": "markdown",
   "id": "02b097a1",
   "metadata": {},
   "source": [
    "### 수량 데이터 통합"
   ]
  },
  {
   "cell_type": "markdown",
   "id": "a6531983",
   "metadata": {},
   "source": [
    "**10분 단위를 1시간 단위로 변경**  "
   ]
  },
  {
   "cell_type": "markdown",
   "id": "3f777725",
   "metadata": {},
   "source": [
    "먼저 시간별 평균값을 활용하여 1시간 단위 데이터로 변환한다."
   ]
  },
  {
   "cell_type": "code",
   "execution_count": 56,
   "id": "3b4b60cc",
   "metadata": {},
   "outputs": [
    {
     "data": {
      "text/html": [
       "<div>\n",
       "<style scoped>\n",
       "    .dataframe tbody tr th:only-of-type {\n",
       "        vertical-align: middle;\n",
       "    }\n",
       "\n",
       "    .dataframe tbody tr th {\n",
       "        vertical-align: top;\n",
       "    }\n",
       "\n",
       "    .dataframe thead th {\n",
       "        text-align: right;\n",
       "    }\n",
       "</style>\n",
       "<table border=\"1\" class=\"dataframe\">\n",
       "  <thead>\n",
       "    <tr style=\"text-align: right;\">\n",
       "      <th></th>\n",
       "      <th>상류수위(EL.m)</th>\n",
       "      <th>하류수위(EL.m)</th>\n",
       "      <th>유입량(㎥/s)</th>\n",
       "      <th>방류량(㎥/s)</th>\n",
       "    </tr>\n",
       "    <tr>\n",
       "      <th>시간</th>\n",
       "      <th></th>\n",
       "      <th></th>\n",
       "      <th></th>\n",
       "      <th></th>\n",
       "    </tr>\n",
       "  </thead>\n",
       "  <tbody>\n",
       "    <tr>\n",
       "      <th>2012-07-01 00:00:00</th>\n",
       "      <td>3.700000</td>\n",
       "      <td>0.000000</td>\n",
       "      <td>0.000000</td>\n",
       "      <td>0.000000</td>\n",
       "    </tr>\n",
       "    <tr>\n",
       "      <th>2012-07-01 01:00:00</th>\n",
       "      <td>3.706667</td>\n",
       "      <td>0.000000</td>\n",
       "      <td>0.000000</td>\n",
       "      <td>0.000000</td>\n",
       "    </tr>\n",
       "    <tr>\n",
       "      <th>2012-07-01 02:00:00</th>\n",
       "      <td>3.718333</td>\n",
       "      <td>0.000000</td>\n",
       "      <td>0.000000</td>\n",
       "      <td>0.000000</td>\n",
       "    </tr>\n",
       "    <tr>\n",
       "      <th>2012-07-01 03:00:00</th>\n",
       "      <td>3.723333</td>\n",
       "      <td>0.000000</td>\n",
       "      <td>0.000000</td>\n",
       "      <td>0.000000</td>\n",
       "    </tr>\n",
       "    <tr>\n",
       "      <th>2012-07-01 04:00:00</th>\n",
       "      <td>3.728333</td>\n",
       "      <td>0.000000</td>\n",
       "      <td>0.000000</td>\n",
       "      <td>0.000000</td>\n",
       "    </tr>\n",
       "    <tr>\n",
       "      <th>...</th>\n",
       "      <td>...</td>\n",
       "      <td>...</td>\n",
       "      <td>...</td>\n",
       "      <td>...</td>\n",
       "    </tr>\n",
       "    <tr>\n",
       "      <th>2023-08-31 19:00:00</th>\n",
       "      <td>1.520000</td>\n",
       "      <td>-0.758333</td>\n",
       "      <td>229.176667</td>\n",
       "      <td>202.258333</td>\n",
       "    </tr>\n",
       "    <tr>\n",
       "      <th>2023-08-31 20:00:00</th>\n",
       "      <td>1.530000</td>\n",
       "      <td>-0.990000</td>\n",
       "      <td>214.316667</td>\n",
       "      <td>206.406667</td>\n",
       "    </tr>\n",
       "    <tr>\n",
       "      <th>2023-08-31 21:00:00</th>\n",
       "      <td>1.530000</td>\n",
       "      <td>-1.431667</td>\n",
       "      <td>206.468333</td>\n",
       "      <td>206.518333</td>\n",
       "    </tr>\n",
       "    <tr>\n",
       "      <th>2023-08-31 22:00:00</th>\n",
       "      <td>1.523333</td>\n",
       "      <td>-1.733333</td>\n",
       "      <td>194.193333</td>\n",
       "      <td>206.163333</td>\n",
       "    </tr>\n",
       "    <tr>\n",
       "      <th>2023-08-31 23:00:00</th>\n",
       "      <td>1.515000</td>\n",
       "      <td>-1.611667</td>\n",
       "      <td>197.878333</td>\n",
       "      <td>204.880000</td>\n",
       "    </tr>\n",
       "  </tbody>\n",
       "</table>\n",
       "<p>97896 rows × 4 columns</p>\n",
       "</div>"
      ],
      "text/plain": [
       "                      상류수위(EL.m)   하류수위(EL.m)    유입량(㎥/s)    방류량(㎥/s)\n",
       "시간                                                                   \n",
       "2012-07-01 00:00:00     3.700000     0.000000    0.000000    0.000000\n",
       "2012-07-01 01:00:00     3.706667     0.000000    0.000000    0.000000\n",
       "2012-07-01 02:00:00     3.718333     0.000000    0.000000    0.000000\n",
       "2012-07-01 03:00:00     3.723333     0.000000    0.000000    0.000000\n",
       "2012-07-01 04:00:00     3.728333     0.000000    0.000000    0.000000\n",
       "...                          ...          ...         ...         ...\n",
       "2023-08-31 19:00:00     1.520000    -0.758333  229.176667  202.258333\n",
       "2023-08-31 20:00:00     1.530000    -0.990000  214.316667  206.406667\n",
       "2023-08-31 21:00:00     1.530000    -1.431667  206.468333  206.518333\n",
       "2023-08-31 22:00:00     1.523333    -1.733333  194.193333  206.163333\n",
       "2023-08-31 23:00:00     1.515000    -1.611667  197.878333  204.880000\n",
       "\n",
       "[97896 rows x 4 columns]"
      ]
     },
     "execution_count": 56,
     "metadata": {},
     "output_type": "execute_result"
    }
   ],
   "source": [
    "jsb_dflow = jsb_dflow_10.resample(\"h\").mean()\n",
    "jsb_dflow"
   ]
  },
  {
   "cell_type": "code",
   "execution_count": 57,
   "id": "57df5bd5",
   "metadata": {},
   "outputs": [
    {
     "data": {
      "text/html": [
       "<div>\n",
       "<style scoped>\n",
       "    .dataframe tbody tr th:only-of-type {\n",
       "        vertical-align: middle;\n",
       "    }\n",
       "\n",
       "    .dataframe tbody tr th {\n",
       "        vertical-align: top;\n",
       "    }\n",
       "\n",
       "    .dataframe thead th {\n",
       "        text-align: right;\n",
       "    }\n",
       "</style>\n",
       "<table border=\"1\" class=\"dataframe\">\n",
       "  <thead>\n",
       "    <tr style=\"text-align: right;\">\n",
       "      <th></th>\n",
       "      <th>상류수위(EL.m)</th>\n",
       "      <th>하류수위(EL.m)</th>\n",
       "      <th>유입량(㎥/s)</th>\n",
       "      <th>방류량(㎥/s)</th>\n",
       "    </tr>\n",
       "    <tr>\n",
       "      <th>시간</th>\n",
       "      <th></th>\n",
       "      <th></th>\n",
       "      <th></th>\n",
       "      <th></th>\n",
       "    </tr>\n",
       "  </thead>\n",
       "  <tbody>\n",
       "    <tr>\n",
       "      <th>2012-07-01 00:00:00</th>\n",
       "      <td>7.670000</td>\n",
       "      <td>0.000000</td>\n",
       "      <td>0.000000</td>\n",
       "      <td>0.000000</td>\n",
       "    </tr>\n",
       "    <tr>\n",
       "      <th>2012-07-01 01:00:00</th>\n",
       "      <td>7.666667</td>\n",
       "      <td>0.000000</td>\n",
       "      <td>0.000000</td>\n",
       "      <td>0.000000</td>\n",
       "    </tr>\n",
       "    <tr>\n",
       "      <th>2012-07-01 02:00:00</th>\n",
       "      <td>7.660000</td>\n",
       "      <td>0.000000</td>\n",
       "      <td>0.000000</td>\n",
       "      <td>0.000000</td>\n",
       "    </tr>\n",
       "    <tr>\n",
       "      <th>2012-07-01 03:00:00</th>\n",
       "      <td>7.653333</td>\n",
       "      <td>0.000000</td>\n",
       "      <td>0.000000</td>\n",
       "      <td>0.000000</td>\n",
       "    </tr>\n",
       "    <tr>\n",
       "      <th>2012-07-01 04:00:00</th>\n",
       "      <td>7.650000</td>\n",
       "      <td>0.000000</td>\n",
       "      <td>0.000000</td>\n",
       "      <td>0.000000</td>\n",
       "    </tr>\n",
       "    <tr>\n",
       "      <th>...</th>\n",
       "      <td>...</td>\n",
       "      <td>...</td>\n",
       "      <td>...</td>\n",
       "      <td>...</td>\n",
       "    </tr>\n",
       "    <tr>\n",
       "      <th>2023-08-31 19:00:00</th>\n",
       "      <td>5.998333</td>\n",
       "      <td>1.791667</td>\n",
       "      <td>62.318333</td>\n",
       "      <td>62.178333</td>\n",
       "    </tr>\n",
       "    <tr>\n",
       "      <th>2023-08-31 20:00:00</th>\n",
       "      <td>6.000000</td>\n",
       "      <td>1.806667</td>\n",
       "      <td>63.395000</td>\n",
       "      <td>62.163333</td>\n",
       "    </tr>\n",
       "    <tr>\n",
       "      <th>2023-08-31 21:00:00</th>\n",
       "      <td>6.011667</td>\n",
       "      <td>1.818333</td>\n",
       "      <td>68.998333</td>\n",
       "      <td>62.310000</td>\n",
       "    </tr>\n",
       "    <tr>\n",
       "      <th>2023-08-31 22:00:00</th>\n",
       "      <td>6.035000</td>\n",
       "      <td>1.816667</td>\n",
       "      <td>73.113333</td>\n",
       "      <td>62.756667</td>\n",
       "    </tr>\n",
       "    <tr>\n",
       "      <th>2023-08-31 23:00:00</th>\n",
       "      <td>6.066667</td>\n",
       "      <td>1.806667</td>\n",
       "      <td>77.365000</td>\n",
       "      <td>63.465000</td>\n",
       "    </tr>\n",
       "  </tbody>\n",
       "</table>\n",
       "<p>97896 rows × 4 columns</p>\n",
       "</div>"
      ],
      "text/plain": [
       "                      상류수위(EL.m)   하류수위(EL.m)   유입량(㎥/s)   방류량(㎥/s)\n",
       "시간                                                                 \n",
       "2012-07-01 00:00:00     7.670000     0.000000   0.000000   0.000000\n",
       "2012-07-01 01:00:00     7.666667     0.000000   0.000000   0.000000\n",
       "2012-07-01 02:00:00     7.660000     0.000000   0.000000   0.000000\n",
       "2012-07-01 03:00:00     7.653333     0.000000   0.000000   0.000000\n",
       "2012-07-01 04:00:00     7.650000     0.000000   0.000000   0.000000\n",
       "...                          ...          ...        ...        ...\n",
       "2023-08-31 19:00:00     5.998333     1.791667  62.318333  62.178333\n",
       "2023-08-31 20:00:00     6.000000     1.806667  63.395000  62.163333\n",
       "2023-08-31 21:00:00     6.011667     1.818333  68.998333  62.310000\n",
       "2023-08-31 22:00:00     6.035000     1.816667  73.113333  62.756667\n",
       "2023-08-31 23:00:00     6.066667     1.806667  77.365000  63.465000\n",
       "\n",
       "[97896 rows x 4 columns]"
      ]
     },
     "execution_count": 57,
     "metadata": {},
     "output_type": "execute_result"
    }
   ],
   "source": [
    "scb_dflow = scb_dflow_10.resample(\"h\").mean()\n",
    "scb_dflow"
   ]
  },
  {
   "cell_type": "markdown",
   "id": "745f1076",
   "metadata": {},
   "source": [
    "수질/기상 데이터와 날짜를 기준으로 통합한다."
   ]
  },
  {
   "cell_type": "code",
   "execution_count": 58,
   "id": "e1e8b498",
   "metadata": {},
   "outputs": [],
   "source": [
    "jsb_data = jsb_df.join(jsb_dflow, how = 'left')"
   ]
  },
  {
   "cell_type": "code",
   "execution_count": 59,
   "id": "53ef9c39",
   "metadata": {},
   "outputs": [],
   "source": [
    "scb_data = scb_df.join(scb_dflow, how = 'left')"
   ]
  },
  {
   "cell_type": "markdown",
   "id": "5c896b45",
   "metadata": {},
   "source": [
    "날짜를 기준으로 정렬한다."
   ]
  },
  {
   "cell_type": "code",
   "execution_count": 60,
   "id": "55bc9a6d",
   "metadata": {},
   "outputs": [
    {
     "name": "stdout",
     "output_type": "stream",
     "text": [
      "<class 'pandas.core.frame.DataFrame'>\n",
      "DatetimeIndex: 97896 entries, 2012-07-01 00:00:00 to 2023-08-31 23:00:00\n",
      "Data columns (total 22 columns):\n",
      " #   Column         Non-Null Count  Dtype  \n",
      "---  ------         --------------  -----  \n",
      " 0   수온 (℃)         83510 non-null  float64\n",
      " 1   수소이온농도         83602 non-null  float64\n",
      " 2   전기전도도 (μS/cm)  83518 non-null  float64\n",
      " 3   용존산소 (mg/L)    82326 non-null  object \n",
      " 4   탁도 (NTU)       82651 non-null  float64\n",
      " 5   총유기탄소 (mg/L)   77093 non-null  float64\n",
      " 6   총질소 (mg/L)     75725 non-null  float64\n",
      " 7   총인 (mg/L)      76715 non-null  float64\n",
      " 8   클로로필-a (mg/㎥)  81256 non-null  float64\n",
      " 9   지점             97896 non-null  int64  \n",
      " 10  지점명            97896 non-null  object \n",
      " 11  기온(°C)         97884 non-null  float64\n",
      " 12  강수량(mm)        10444 non-null  float64\n",
      " 13  풍속(m/s)        97862 non-null  float64\n",
      " 14  일조(hr)         53272 non-null  float64\n",
      " 15  일사(MJ/m2)      53521 non-null  float64\n",
      " 16  전운량(10분위)      86142 non-null  float64\n",
      " 17  중하층운량(10분위)    90178 non-null  float64\n",
      " 18   상류수위(EL.m)    97863 non-null  float64\n",
      " 19   하류수위(EL.m)    97863 non-null  float64\n",
      " 20   유입량(㎥/s)      97863 non-null  float64\n",
      " 21   방류량(㎥/s)      97863 non-null  float64\n",
      "dtypes: float64(19), int64(1), object(2)\n",
      "memory usage: 19.2+ MB\n"
     ]
    }
   ],
   "source": [
    "jsb_data = jsb_data.sort_index()\n",
    "jsb_data.info()"
   ]
  },
  {
   "cell_type": "code",
   "execution_count": null,
   "id": "84bb11f7",
   "metadata": {},
   "outputs": [
    {
     "name": "stdout",
     "output_type": "stream",
     "text": [
      "<class 'pandas.core.frame.DataFrame'>\n",
      "DatetimeIndex: 97896 entries, 2012-07-01 00:00:00 to 2023-08-31 23:00:00\n",
      "Data columns (total 21 columns):\n",
      " #   Column         Non-Null Count  Dtype  \n",
      "---  ------         --------------  -----  \n",
      " 0   수온 (℃)         75932 non-null  float64\n",
      " 1   수소이온농도         75912 non-null  float64\n",
      " 2   전기전도도 (μS/cm)  75843 non-null  float64\n",
      " 3   용존산소 (mg/L)    74677 non-null  object \n",
      " 4   총유기탄소 (mg/L)   69665 non-null  float64\n",
      " 5   총질소 (mg/L)     68592 non-null  float64\n",
      " 6   총인 (mg/L)      67585 non-null  object \n",
      " 7   클로로필-a (mg/㎥)  74470 non-null  float64\n",
      " 8   지점             97896 non-null  int64  \n",
      " 9   지점명            97896 non-null  object \n",
      " 10  기온(°C)         97884 non-null  float64\n",
      " 11  강수량(mm)        10444 non-null  float64\n",
      " 12  풍속(m/s)        97862 non-null  float64\n",
      " 13  일조(hr)         53272 non-null  float64\n",
      " 14  일사(MJ/m2)      53521 non-null  float64\n",
      " 15  전운량(10분위)      86142 non-null  float64\n",
      " 16  중하층운량(10분위)    90178 non-null  float64\n",
      " 17   상류수위(EL.m)    97850 non-null  float64\n",
      " 18   하류수위(EL.m)    97850 non-null  float64\n",
      " 19   유입량(㎥/s)      97850 non-null  float64\n",
      " 20   방류량(㎥/s)      97850 non-null  float64\n",
      "dtypes: float64(17), int64(1), object(3)\n",
      "memory usage: 18.4+ MB\n"
     ]
    }
   ],
   "source": [
    "scb_data = scb_data.sort_index()\n",
    "scb_data.info()"
   ]
  },
  {
   "cell_type": "code",
   "execution_count": 62,
   "id": "fab6159e",
   "metadata": {},
   "outputs": [
    {
     "data": {
      "text/plain": [
       "Index(['수온 (℃)', '수소이온농도', '전기전도도 (μS/cm)', '용존산소 (mg/L)', '탁도 (NTU)',\n",
       "       '총유기탄소 (mg/L)', '총질소 (mg/L)', '총인 (mg/L)', '클로로필-a (mg/㎥)', '지점', '지점명',\n",
       "       '기온(°C)', '강수량(mm)', '풍속(m/s)', '일조(hr)', '일사(MJ/m2)', '전운량(10분위)',\n",
       "       '중하층운량(10분위)', ' 상류수위(EL.m)', ' 하류수위(EL.m)', ' 유입량(㎥/s)', ' 방류량(㎥/s)'],\n",
       "      dtype='object')"
      ]
     },
     "execution_count": 62,
     "metadata": {},
     "output_type": "execute_result"
    }
   ],
   "source": [
    "jsb_data.columns"
   ]
  },
  {
   "cell_type": "code",
   "execution_count": 63,
   "id": "44959999",
   "metadata": {},
   "outputs": [
    {
     "data": {
      "text/plain": [
       "Index(['수온 (℃)', '수소이온농도', '전기전도도 (μS/cm)', '용존산소 (mg/L)', '총유기탄소 (mg/L)',\n",
       "       '총질소 (mg/L)', '총인 (mg/L)', '클로로필-a (mg/㎥)', '지점', '지점명', '기온(°C)',\n",
       "       '강수량(mm)', '풍속(m/s)', '일조(hr)', '일사(MJ/m2)', '전운량(10분위)', '중하층운량(10분위)',\n",
       "       ' 상류수위(EL.m)', ' 하류수위(EL.m)', ' 유입량(㎥/s)', ' 방류량(㎥/s)'],\n",
       "      dtype='object')"
      ]
     },
     "execution_count": 63,
     "metadata": {},
     "output_type": "execute_result"
    }
   ],
   "source": [
    "scb_data.columns"
   ]
  },
  {
   "cell_type": "markdown",
   "id": "d552265d",
   "metadata": {},
   "source": [
    "수량 특성 이름의 처음에 포함된 공백을 제거한다."
   ]
  },
  {
   "cell_type": "code",
   "execution_count": 64,
   "id": "78f87404",
   "metadata": {},
   "outputs": [
    {
     "data": {
      "text/plain": [
       "Index(['수온 (℃)', '수소이온농도', '전기전도도 (μS/cm)', '용존산소 (mg/L)', '탁도 (NTU)',\n",
       "       '총유기탄소 (mg/L)', '총질소 (mg/L)', '총인 (mg/L)', '클로로필-a (mg/㎥)', '지점', '지점명',\n",
       "       '기온(°C)', '강수량(mm)', '풍속(m/s)', '일조(hr)', '일사(MJ/m2)', '전운량(10분위)',\n",
       "       '중하층운량(10분위)', '상류수위(EL.m)', '하류수위(EL.m)', '유입량(㎥/s)', '방류량(㎥/s)'],\n",
       "      dtype='object')"
      ]
     },
     "execution_count": 64,
     "metadata": {},
     "output_type": "execute_result"
    }
   ],
   "source": [
    "jsb_data.columns = [x.strip() for x in list(jsb_data.columns)]\n",
    "\n",
    "jsb_data.columns"
   ]
  },
  {
   "cell_type": "code",
   "execution_count": 65,
   "id": "40c831dd",
   "metadata": {},
   "outputs": [
    {
     "data": {
      "text/plain": [
       "Index(['수온 (℃)', '수소이온농도', '전기전도도 (μS/cm)', '용존산소 (mg/L)', '총유기탄소 (mg/L)',\n",
       "       '총질소 (mg/L)', '총인 (mg/L)', '클로로필-a (mg/㎥)', '지점', '지점명', '기온(°C)',\n",
       "       '강수량(mm)', '풍속(m/s)', '일조(hr)', '일사(MJ/m2)', '전운량(10분위)', '중하층운량(10분위)',\n",
       "       '상류수위(EL.m)', '하류수위(EL.m)', '유입량(㎥/s)', '방류량(㎥/s)'],\n",
       "      dtype='object')"
      ]
     },
     "execution_count": 65,
     "metadata": {},
     "output_type": "execute_result"
    }
   ],
   "source": [
    "scb_data.columns = [x.strip() for x in list(scb_data.columns)]\n",
    "\n",
    "scb_data.columns"
   ]
  },
  {
   "cell_type": "markdown",
   "id": "e9243b91",
   "metadata": {},
   "source": [
    "인덱스의 이름을 `'DateTime'`으로 변경한다."
   ]
  },
  {
   "cell_type": "code",
   "execution_count": 66,
   "id": "f864faec",
   "metadata": {},
   "outputs": [],
   "source": [
    "jsb_data.index.name = 'DateTime'"
   ]
  },
  {
   "cell_type": "code",
   "execution_count": 67,
   "id": "2f840afd",
   "metadata": {},
   "outputs": [],
   "source": [
    "scb_data.index.name = 'DateTime'"
   ]
  },
  {
   "cell_type": "markdown",
   "id": "2a21ac69",
   "metadata": {},
   "source": [
    "## 데이터 전처리"
   ]
  },
  {
   "cell_type": "markdown",
   "id": "b063bf45",
   "metadata": {},
   "source": [
    "### 결측치 처리"
   ]
  },
  {
   "cell_type": "markdown",
   "id": "aaf26520",
   "metadata": {},
   "source": [
    "일조, 일사, 강수량 세 특성에 다량의 결측치가 포함된다."
   ]
  },
  {
   "cell_type": "code",
   "execution_count": 68,
   "id": "7de0f30f",
   "metadata": {},
   "outputs": [
    {
     "data": {
      "text/plain": [
       "수온 (℃)           14386\n",
       "수소이온농도           14294\n",
       "전기전도도 (μS/cm)    14378\n",
       "용존산소 (mg/L)      15570\n",
       "탁도 (NTU)         15245\n",
       "총유기탄소 (mg/L)     20803\n",
       "총질소 (mg/L)       22171\n",
       "총인 (mg/L)        21181\n",
       "클로로필-a (mg/㎥)    16640\n",
       "지점                   0\n",
       "지점명                  0\n",
       "기온(°C)              12\n",
       "강수량(mm)          87452\n",
       "풍속(m/s)             34\n",
       "일조(hr)           44624\n",
       "일사(MJ/m2)        44375\n",
       "전운량(10분위)        11754\n",
       "중하층운량(10분위)       7718\n",
       "상류수위(EL.m)          33\n",
       "하류수위(EL.m)          33\n",
       "유입량(㎥/s)            33\n",
       "방류량(㎥/s)            33\n",
       "dtype: int64"
      ]
     },
     "execution_count": 68,
     "metadata": {},
     "output_type": "execute_result"
    }
   ],
   "source": [
    "jsb_data.isna().sum()"
   ]
  },
  {
   "cell_type": "code",
   "execution_count": 69,
   "id": "1b2f49a1",
   "metadata": {},
   "outputs": [
    {
     "data": {
      "text/plain": [
       "수온 (℃)           21964\n",
       "수소이온농도           21984\n",
       "전기전도도 (μS/cm)    22053\n",
       "용존산소 (mg/L)      23219\n",
       "총유기탄소 (mg/L)     28231\n",
       "총질소 (mg/L)       29304\n",
       "총인 (mg/L)        30311\n",
       "클로로필-a (mg/㎥)    23426\n",
       "지점                   0\n",
       "지점명                  0\n",
       "기온(°C)              12\n",
       "강수량(mm)          87452\n",
       "풍속(m/s)             34\n",
       "일조(hr)           44624\n",
       "일사(MJ/m2)        44375\n",
       "전운량(10분위)        11754\n",
       "중하층운량(10분위)       7718\n",
       "상류수위(EL.m)          46\n",
       "하류수위(EL.m)          46\n",
       "유입량(㎥/s)            46\n",
       "방류량(㎥/s)            46\n",
       "dtype: int64"
      ]
     },
     "execution_count": 69,
     "metadata": {},
     "output_type": "execute_result"
    }
   ],
   "source": [
    "scb_data.isna().sum()"
   ]
  },
  {
   "cell_type": "markdown",
   "id": "29a981c3",
   "metadata": {},
   "source": [
    "그런데 여기서는 강수량, 일조시간, 일사량 세 특성에 포함된 결측치는 0으로 처리한다.\n",
    "세 특성의 경우에 결측치는 해당사항이 발생하지 않았음을 의미하는 것으로 이해할 수 있기 때문이다."
   ]
  },
  {
   "cell_type": "code",
   "execution_count": 70,
   "id": "a2747efc",
   "metadata": {},
   "outputs": [],
   "source": [
    "to_fillna_zero = ['강수량(mm)', '일조(hr)', '일사(MJ/m2)']\n",
    "\n",
    "jsb_data[to_fillna_zero] = jsb_data[to_fillna_zero].fillna(0)"
   ]
  },
  {
   "cell_type": "code",
   "execution_count": 71,
   "id": "3a6629aa",
   "metadata": {},
   "outputs": [],
   "source": [
    "scb_data[to_fillna_zero] = scb_data[to_fillna_zero].fillna(0)"
   ]
  },
  {
   "cell_type": "markdown",
   "id": "2617d800",
   "metadata": {},
   "source": [
    "강수량, 일조, 일사 세 특성 모두 결측치를 포함하지 않는다."
   ]
  },
  {
   "cell_type": "code",
   "execution_count": 72,
   "id": "e215a11a",
   "metadata": {},
   "outputs": [
    {
     "data": {
      "text/plain": [
       "수온 (℃)           14386\n",
       "수소이온농도           14294\n",
       "전기전도도 (μS/cm)    14378\n",
       "용존산소 (mg/L)      15570\n",
       "탁도 (NTU)         15245\n",
       "총유기탄소 (mg/L)     20803\n",
       "총질소 (mg/L)       22171\n",
       "총인 (mg/L)        21181\n",
       "클로로필-a (mg/㎥)    16640\n",
       "지점                   0\n",
       "지점명                  0\n",
       "기온(°C)              12\n",
       "강수량(mm)              0\n",
       "풍속(m/s)             34\n",
       "일조(hr)               0\n",
       "일사(MJ/m2)            0\n",
       "전운량(10분위)        11754\n",
       "중하층운량(10분위)       7718\n",
       "상류수위(EL.m)          33\n",
       "하류수위(EL.m)          33\n",
       "유입량(㎥/s)            33\n",
       "방류량(㎥/s)            33\n",
       "dtype: int64"
      ]
     },
     "execution_count": 72,
     "metadata": {},
     "output_type": "execute_result"
    }
   ],
   "source": [
    "jsb_data.isna().sum()"
   ]
  },
  {
   "cell_type": "code",
   "execution_count": 73,
   "id": "1e6abb9f",
   "metadata": {},
   "outputs": [
    {
     "data": {
      "text/plain": [
       "수온 (℃)           21964\n",
       "수소이온농도           21984\n",
       "전기전도도 (μS/cm)    22053\n",
       "용존산소 (mg/L)      23219\n",
       "총유기탄소 (mg/L)     28231\n",
       "총질소 (mg/L)       29304\n",
       "총인 (mg/L)        30311\n",
       "클로로필-a (mg/㎥)    23426\n",
       "지점                   0\n",
       "지점명                  0\n",
       "기온(°C)              12\n",
       "강수량(mm)              0\n",
       "풍속(m/s)             34\n",
       "일조(hr)               0\n",
       "일사(MJ/m2)            0\n",
       "전운량(10분위)        11754\n",
       "중하층운량(10분위)       7718\n",
       "상류수위(EL.m)          46\n",
       "하류수위(EL.m)          46\n",
       "유입량(㎥/s)            46\n",
       "방류량(㎥/s)            46\n",
       "dtype: int64"
      ]
     },
     "execution_count": 73,
     "metadata": {},
     "output_type": "execute_result"
    }
   ],
   "source": [
    "scb_data.isna().sum()"
   ]
  },
  {
   "cell_type": "markdown",
   "id": "9fbd52b6",
   "metadata": {},
   "source": [
    "특성에 따라 결측치가 `ND` 또는 `-` 로 처리된 경우도 있다.\n",
    "기본적으로 수치 데이터를 담아야 하는 특성임에도 불구하고 `object`를 `dtype`으로 갖는 특성을 대상으로\n",
    "부동소수점이 아닌 데이터가 사용된 경우를 확인하면 다음과 같다"
   ]
  },
  {
   "cell_type": "markdown",
   "id": "288cb97c",
   "metadata": {},
   "source": [
    "**죽산보 데이터**"
   ]
  },
  {
   "cell_type": "code",
   "execution_count": 74,
   "id": "d56ce01a",
   "metadata": {
    "scrolled": false
   },
   "outputs": [
    {
     "name": "stdout",
     "output_type": "stream",
     "text": [
      "용존산소 (mg/L): ND \n"
     ]
    }
   ],
   "source": [
    "from collections import defaultdict\n",
    "\n",
    "nan_values = defaultdict(set) # nan으로 사용된 문자열과 해당 문자열이 포함된 특성들의 집합으로 구성된 사전\n",
    "object_columns = []\n",
    "\n",
    "for col in jsb_data.columns:\n",
    "    if jsb_data[col].dtype == 'object' and col != '지점명':  # object를 dtype으로 갖는 특성 대상. 지점명 제외.\n",
    "        object_columns.append(col)\n",
    "        print(col+\":\", end=\" \") # 특성 이름 출력\n",
    "        for value in jsb_data[col].value_counts().index: \n",
    "            try:\n",
    "                float(value)\n",
    "            except:\n",
    "                nan_values[value].add(col)\n",
    "                print(value, end=\" \") # 수치형 데이터가 아닌 값만 출력\n",
    "        print()"
   ]
  },
  {
   "cell_type": "code",
   "execution_count": 75,
   "id": "6cb5977f",
   "metadata": {},
   "outputs": [
    {
     "data": {
      "text/plain": [
       "['용존산소 (mg/L)']"
      ]
     },
     "execution_count": 75,
     "metadata": {},
     "output_type": "execute_result"
    }
   ],
   "source": [
    "object_columns"
   ]
  },
  {
   "cell_type": "markdown",
   "id": "f223b14f",
   "metadata": {},
   "source": [
    "nan으로 사용된 문자열과 해당 문자열이 포함된 특성들은 다음과 같다."
   ]
  },
  {
   "cell_type": "code",
   "execution_count": 76,
   "id": "0b54cd4d",
   "metadata": {},
   "outputs": [
    {
     "data": {
      "text/plain": [
       "{'ND': {'용존산소 (mg/L)'}}"
      ]
     },
     "execution_count": 76,
     "metadata": {},
     "output_type": "execute_result"
    }
   ],
   "source": [
    "dict(nan_values)"
   ]
  },
  {
   "cell_type": "markdown",
   "id": "47b8ce04",
   "metadata": {},
   "source": [
    "nan 대신 사용된 값을 해당 특성에서 모두 `np.nan`으로 대체한 후에\n",
    "해당 특성의 `dtype`을 `float64`로 지정한다."
   ]
  },
  {
   "cell_type": "code",
   "execution_count": 77,
   "id": "15bee9f3",
   "metadata": {},
   "outputs": [],
   "source": [
    "for nan_str in nan_values.keys():\n",
    "    for col in nan_values[nan_str]:\n",
    "        jsb_data.loc[:, col] = jsb_data[col].map(lambda x: np.nan if x == nan_str else x)"
   ]
  },
  {
   "cell_type": "code",
   "execution_count": 78,
   "id": "9c29cfd3",
   "metadata": {},
   "outputs": [],
   "source": [
    "jsb_data = jsb_data.astype({col:'float' for col in object_columns})"
   ]
  },
  {
   "cell_type": "markdown",
   "id": "0962a3d0",
   "metadata": {},
   "source": [
    "앞서 언급된 특성이 모두 부동소수점으로 구성되었음을 확인할 수 있다."
   ]
  },
  {
   "cell_type": "code",
   "execution_count": 79,
   "id": "f71f3a0d",
   "metadata": {},
   "outputs": [
    {
     "name": "stdout",
     "output_type": "stream",
     "text": [
      "<class 'pandas.core.frame.DataFrame'>\n",
      "DatetimeIndex: 97896 entries, 2012-07-01 00:00:00 to 2023-08-31 23:00:00\n",
      "Data columns (total 22 columns):\n",
      " #   Column         Non-Null Count  Dtype  \n",
      "---  ------         --------------  -----  \n",
      " 0   수온 (℃)         83510 non-null  float64\n",
      " 1   수소이온농도         83602 non-null  float64\n",
      " 2   전기전도도 (μS/cm)  83518 non-null  float64\n",
      " 3   용존산소 (mg/L)    82144 non-null  float64\n",
      " 4   탁도 (NTU)       82651 non-null  float64\n",
      " 5   총유기탄소 (mg/L)   77093 non-null  float64\n",
      " 6   총질소 (mg/L)     75725 non-null  float64\n",
      " 7   총인 (mg/L)      76715 non-null  float64\n",
      " 8   클로로필-a (mg/㎥)  81256 non-null  float64\n",
      " 9   지점             97896 non-null  int64  \n",
      " 10  지점명            97896 non-null  object \n",
      " 11  기온(°C)         97884 non-null  float64\n",
      " 12  강수량(mm)        97896 non-null  float64\n",
      " 13  풍속(m/s)        97862 non-null  float64\n",
      " 14  일조(hr)         97896 non-null  float64\n",
      " 15  일사(MJ/m2)      97896 non-null  float64\n",
      " 16  전운량(10분위)      86142 non-null  float64\n",
      " 17  중하층운량(10분위)    90178 non-null  float64\n",
      " 18  상류수위(EL.m)     97863 non-null  float64\n",
      " 19  하류수위(EL.m)     97863 non-null  float64\n",
      " 20  유입량(㎥/s)       97863 non-null  float64\n",
      " 21  방류량(㎥/s)       97863 non-null  float64\n",
      "dtypes: float64(20), int64(1), object(1)\n",
      "memory usage: 19.2+ MB\n"
     ]
    }
   ],
   "source": [
    "jsb_data.info()"
   ]
  },
  {
   "cell_type": "markdown",
   "id": "8eea84fb",
   "metadata": {},
   "source": [
    "**승촌보 데이터**"
   ]
  },
  {
   "cell_type": "code",
   "execution_count": 80,
   "id": "e665c0a5",
   "metadata": {
    "scrolled": false
   },
   "outputs": [
    {
     "name": "stdout",
     "output_type": "stream",
     "text": [
      "용존산소 (mg/L): ND \n",
      "총인 (mg/L): ND \n"
     ]
    }
   ],
   "source": [
    "from collections import defaultdict\n",
    "\n",
    "nan_values = defaultdict(set) # nan으로 사용된 문자열과 해당 문자열이 포함된 특성들의 집합으로 구성된 사전\n",
    "object_columns = []\n",
    "\n",
    "for col in scb_data.columns:\n",
    "    if scb_data[col].dtype == 'object' and col != '지점명':  # object를 dtype으로 갖는 특성 대상. 지점명 제외.\n",
    "        object_columns.append(col)\n",
    "        print(col+\":\", end=\" \") # 특성 이름 출력\n",
    "        for value in scb_data[col].value_counts().index: \n",
    "            try:\n",
    "                float(value)\n",
    "            except:\n",
    "                nan_values[value].add(col)\n",
    "                print(value, end=\" \") # 수치형 데이터가 아닌 값만 출력\n",
    "        print()"
   ]
  },
  {
   "cell_type": "code",
   "execution_count": 81,
   "id": "f3edb793",
   "metadata": {},
   "outputs": [
    {
     "data": {
      "text/plain": [
       "['용존산소 (mg/L)', '총인 (mg/L)']"
      ]
     },
     "execution_count": 81,
     "metadata": {},
     "output_type": "execute_result"
    }
   ],
   "source": [
    "object_columns"
   ]
  },
  {
   "cell_type": "markdown",
   "id": "12398d6d",
   "metadata": {},
   "source": [
    "nan으로 사용된 문자열과 해당 문자열이 포함된 특성들은 다음과 같다."
   ]
  },
  {
   "cell_type": "code",
   "execution_count": 82,
   "id": "c1d9b2cc",
   "metadata": {},
   "outputs": [
    {
     "data": {
      "text/plain": [
       "{'ND': {'용존산소 (mg/L)', '총인 (mg/L)'}}"
      ]
     },
     "execution_count": 82,
     "metadata": {},
     "output_type": "execute_result"
    }
   ],
   "source": [
    "dict(nan_values)"
   ]
  },
  {
   "cell_type": "markdown",
   "id": "67a2fe63",
   "metadata": {},
   "source": [
    "nan 대신 사용된 값을 해당 특성에서 모두 `np.nan`으로 대체한 후에\n",
    "해당 특성의 `dtype`을 `float64`로 지정한다."
   ]
  },
  {
   "cell_type": "code",
   "execution_count": 83,
   "id": "b3e7313f",
   "metadata": {},
   "outputs": [],
   "source": [
    "for nan_str in nan_values.keys():\n",
    "    for col in nan_values[nan_str]:\n",
    "        scb_data.loc[:, col] = scb_data[col].map(lambda x: np.nan if x == nan_str else x)"
   ]
  },
  {
   "cell_type": "code",
   "execution_count": 84,
   "id": "92c15489",
   "metadata": {},
   "outputs": [],
   "source": [
    "scb_data = scb_data.astype({col:'float' for col in object_columns})"
   ]
  },
  {
   "cell_type": "markdown",
   "id": "84f19542",
   "metadata": {},
   "source": [
    "앞서 언급된 특성이 모두 부동소수점으로 구성되었음을 확인할 수 있다."
   ]
  },
  {
   "cell_type": "code",
   "execution_count": 85,
   "id": "aa4da2ad",
   "metadata": {},
   "outputs": [
    {
     "name": "stdout",
     "output_type": "stream",
     "text": [
      "<class 'pandas.core.frame.DataFrame'>\n",
      "DatetimeIndex: 97896 entries, 2012-07-01 00:00:00 to 2023-08-31 23:00:00\n",
      "Data columns (total 21 columns):\n",
      " #   Column         Non-Null Count  Dtype  \n",
      "---  ------         --------------  -----  \n",
      " 0   수온 (℃)         75932 non-null  float64\n",
      " 1   수소이온농도         75912 non-null  float64\n",
      " 2   전기전도도 (μS/cm)  75843 non-null  float64\n",
      " 3   용존산소 (mg/L)    72815 non-null  float64\n",
      " 4   총유기탄소 (mg/L)   69665 non-null  float64\n",
      " 5   총질소 (mg/L)     68592 non-null  float64\n",
      " 6   총인 (mg/L)      67578 non-null  float64\n",
      " 7   클로로필-a (mg/㎥)  74470 non-null  float64\n",
      " 8   지점             97896 non-null  int64  \n",
      " 9   지점명            97896 non-null  object \n",
      " 10  기온(°C)         97884 non-null  float64\n",
      " 11  강수량(mm)        97896 non-null  float64\n",
      " 12  풍속(m/s)        97862 non-null  float64\n",
      " 13  일조(hr)         97896 non-null  float64\n",
      " 14  일사(MJ/m2)      97896 non-null  float64\n",
      " 15  전운량(10분위)      86142 non-null  float64\n",
      " 16  중하층운량(10분위)    90178 non-null  float64\n",
      " 17  상류수위(EL.m)     97850 non-null  float64\n",
      " 18  하류수위(EL.m)     97850 non-null  float64\n",
      " 19  유입량(㎥/s)       97850 non-null  float64\n",
      " 20  방류량(㎥/s)       97850 non-null  float64\n",
      "dtypes: float64(19), int64(1), object(1)\n",
      "memory usage: 18.4+ MB\n"
     ]
    }
   ],
   "source": [
    "scb_data.info()"
   ]
  },
  {
   "cell_type": "markdown",
   "id": "c3637f00",
   "metadata": {},
   "source": [
    "### 이상치 확인"
   ]
  },
  {
   "cell_type": "markdown",
   "id": "159b3c70",
   "metadata": {},
   "source": [
    "수치형 특성들의 분포를 살펴보았을 때 이상치 등은 없어 보인다."
   ]
  },
  {
   "cell_type": "code",
   "execution_count": 86,
   "id": "9188b10c",
   "metadata": {},
   "outputs": [
    {
     "data": {
      "text/html": [
       "<div>\n",
       "<style scoped>\n",
       "    .dataframe tbody tr th:only-of-type {\n",
       "        vertical-align: middle;\n",
       "    }\n",
       "\n",
       "    .dataframe tbody tr th {\n",
       "        vertical-align: top;\n",
       "    }\n",
       "\n",
       "    .dataframe thead th {\n",
       "        text-align: right;\n",
       "    }\n",
       "</style>\n",
       "<table border=\"1\" class=\"dataframe\">\n",
       "  <thead>\n",
       "    <tr style=\"text-align: right;\">\n",
       "      <th></th>\n",
       "      <th>수온 (℃)</th>\n",
       "      <th>수소이온농도</th>\n",
       "      <th>전기전도도 (μS/cm)</th>\n",
       "      <th>용존산소 (mg/L)</th>\n",
       "      <th>탁도 (NTU)</th>\n",
       "      <th>총유기탄소 (mg/L)</th>\n",
       "      <th>총질소 (mg/L)</th>\n",
       "      <th>총인 (mg/L)</th>\n",
       "      <th>클로로필-a (mg/㎥)</th>\n",
       "      <th>지점</th>\n",
       "      <th>기온(°C)</th>\n",
       "      <th>강수량(mm)</th>\n",
       "      <th>풍속(m/s)</th>\n",
       "      <th>일조(hr)</th>\n",
       "      <th>일사(MJ/m2)</th>\n",
       "      <th>전운량(10분위)</th>\n",
       "      <th>중하층운량(10분위)</th>\n",
       "      <th>상류수위(EL.m)</th>\n",
       "      <th>하류수위(EL.m)</th>\n",
       "      <th>유입량(㎥/s)</th>\n",
       "      <th>방류량(㎥/s)</th>\n",
       "    </tr>\n",
       "  </thead>\n",
       "  <tbody>\n",
       "    <tr>\n",
       "      <th>count</th>\n",
       "      <td>83510.000000</td>\n",
       "      <td>83602.000000</td>\n",
       "      <td>83518.000000</td>\n",
       "      <td>82144.000000</td>\n",
       "      <td>82651.000000</td>\n",
       "      <td>77093.000000</td>\n",
       "      <td>75725.000000</td>\n",
       "      <td>76715.000000</td>\n",
       "      <td>81256.000000</td>\n",
       "      <td>97896.0</td>\n",
       "      <td>97884.000000</td>\n",
       "      <td>97896.000000</td>\n",
       "      <td>97862.000000</td>\n",
       "      <td>97896.000000</td>\n",
       "      <td>97896.00000</td>\n",
       "      <td>86142.000000</td>\n",
       "      <td>90178.00000</td>\n",
       "      <td>97863.000000</td>\n",
       "      <td>97863.000000</td>\n",
       "      <td>97863.000000</td>\n",
       "      <td>97863.000000</td>\n",
       "    </tr>\n",
       "    <tr>\n",
       "      <th>mean</th>\n",
       "      <td>17.518779</td>\n",
       "      <td>7.361591</td>\n",
       "      <td>309.134630</td>\n",
       "      <td>8.390433</td>\n",
       "      <td>11.410560</td>\n",
       "      <td>4.338780</td>\n",
       "      <td>4.271032</td>\n",
       "      <td>0.094286</td>\n",
       "      <td>50.526126</td>\n",
       "      <td>156.0</td>\n",
       "      <td>14.860139</td>\n",
       "      <td>0.160405</td>\n",
       "      <td>1.620141</td>\n",
       "      <td>0.260166</td>\n",
       "      <td>0.61437</td>\n",
       "      <td>5.451951</td>\n",
       "      <td>3.53594</td>\n",
       "      <td>2.336396</td>\n",
       "      <td>-1.205205</td>\n",
       "      <td>61.991524</td>\n",
       "      <td>60.564154</td>\n",
       "    </tr>\n",
       "    <tr>\n",
       "      <th>std</th>\n",
       "      <td>8.407012</td>\n",
       "      <td>0.754277</td>\n",
       "      <td>88.620226</td>\n",
       "      <td>3.658597</td>\n",
       "      <td>12.154484</td>\n",
       "      <td>1.126927</td>\n",
       "      <td>1.635150</td>\n",
       "      <td>0.046327</td>\n",
       "      <td>44.179893</td>\n",
       "      <td>0.0</td>\n",
       "      <td>9.898458</td>\n",
       "      <td>1.341064</td>\n",
       "      <td>1.216021</td>\n",
       "      <td>0.405066</td>\n",
       "      <td>0.90953</td>\n",
       "      <td>3.887627</td>\n",
       "      <td>3.44201</td>\n",
       "      <td>1.196543</td>\n",
       "      <td>2.214127</td>\n",
       "      <td>212.489095</td>\n",
       "      <td>212.290814</td>\n",
       "    </tr>\n",
       "    <tr>\n",
       "      <th>min</th>\n",
       "      <td>1.800000</td>\n",
       "      <td>6.000000</td>\n",
       "      <td>74.000000</td>\n",
       "      <td>0.500000</td>\n",
       "      <td>1.000000</td>\n",
       "      <td>1.600000</td>\n",
       "      <td>0.766000</td>\n",
       "      <td>0.005000</td>\n",
       "      <td>2.100000</td>\n",
       "      <td>156.0</td>\n",
       "      <td>-13.400000</td>\n",
       "      <td>0.000000</td>\n",
       "      <td>0.000000</td>\n",
       "      <td>0.000000</td>\n",
       "      <td>0.00000</td>\n",
       "      <td>0.000000</td>\n",
       "      <td>0.00000</td>\n",
       "      <td>-1.831667</td>\n",
       "      <td>-99.990000</td>\n",
       "      <td>-13.335000</td>\n",
       "      <td>0.000000</td>\n",
       "    </tr>\n",
       "    <tr>\n",
       "      <th>25%</th>\n",
       "      <td>9.500000</td>\n",
       "      <td>6.800000</td>\n",
       "      <td>243.000000</td>\n",
       "      <td>5.900000</td>\n",
       "      <td>6.100000</td>\n",
       "      <td>3.500000</td>\n",
       "      <td>3.035000</td>\n",
       "      <td>0.064000</td>\n",
       "      <td>20.500000</td>\n",
       "      <td>156.0</td>\n",
       "      <td>6.500000</td>\n",
       "      <td>0.000000</td>\n",
       "      <td>0.700000</td>\n",
       "      <td>0.000000</td>\n",
       "      <td>0.00000</td>\n",
       "      <td>1.000000</td>\n",
       "      <td>0.00000</td>\n",
       "      <td>1.495000</td>\n",
       "      <td>-1.382500</td>\n",
       "      <td>16.475000</td>\n",
       "      <td>15.088333</td>\n",
       "    </tr>\n",
       "    <tr>\n",
       "      <th>50%</th>\n",
       "      <td>18.100000</td>\n",
       "      <td>7.100000</td>\n",
       "      <td>304.000000</td>\n",
       "      <td>8.100000</td>\n",
       "      <td>8.800000</td>\n",
       "      <td>4.300000</td>\n",
       "      <td>4.006000</td>\n",
       "      <td>0.085000</td>\n",
       "      <td>36.300000</td>\n",
       "      <td>156.0</td>\n",
       "      <td>15.900000</td>\n",
       "      <td>0.000000</td>\n",
       "      <td>1.400000</td>\n",
       "      <td>0.000000</td>\n",
       "      <td>0.06000</td>\n",
       "      <td>6.000000</td>\n",
       "      <td>3.00000</td>\n",
       "      <td>1.676667</td>\n",
       "      <td>-1.268333</td>\n",
       "      <td>25.970000</td>\n",
       "      <td>23.746667</td>\n",
       "    </tr>\n",
       "    <tr>\n",
       "      <th>75%</th>\n",
       "      <td>25.000000</td>\n",
       "      <td>7.800000</td>\n",
       "      <td>375.000000</td>\n",
       "      <td>11.000000</td>\n",
       "      <td>12.800000</td>\n",
       "      <td>5.000000</td>\n",
       "      <td>5.192000</td>\n",
       "      <td>0.115000</td>\n",
       "      <td>64.100000</td>\n",
       "      <td>156.0</td>\n",
       "      <td>23.200000</td>\n",
       "      <td>0.000000</td>\n",
       "      <td>2.300000</td>\n",
       "      <td>0.600000</td>\n",
       "      <td>1.02000</td>\n",
       "      <td>9.000000</td>\n",
       "      <td>7.00000</td>\n",
       "      <td>3.515000</td>\n",
       "      <td>-1.133333</td>\n",
       "      <td>44.963333</td>\n",
       "      <td>43.536667</td>\n",
       "    </tr>\n",
       "    <tr>\n",
       "      <th>max</th>\n",
       "      <td>38.100000</td>\n",
       "      <td>10.300000</td>\n",
       "      <td>560.000000</td>\n",
       "      <td>21.500000</td>\n",
       "      <td>535.100000</td>\n",
       "      <td>17.700000</td>\n",
       "      <td>10.588000</td>\n",
       "      <td>0.849000</td>\n",
       "      <td>400.000000</td>\n",
       "      <td>156.0</td>\n",
       "      <td>37.800000</td>\n",
       "      <td>81.500000</td>\n",
       "      <td>13.500000</td>\n",
       "      <td>1.000000</td>\n",
       "      <td>3.94000</td>\n",
       "      <td>10.000000</td>\n",
       "      <td>10.00000</td>\n",
       "      <td>8.403333</td>\n",
       "      <td>131.760000</td>\n",
       "      <td>8934.755000</td>\n",
       "      <td>8322.716667</td>\n",
       "    </tr>\n",
       "  </tbody>\n",
       "</table>\n",
       "</div>"
      ],
      "text/plain": [
       "             수온 (℃)        수소이온농도  전기전도도 (μS/cm)   용존산소 (mg/L)      탁도 (NTU)  \\\n",
       "count  83510.000000  83602.000000   83518.000000  82144.000000  82651.000000   \n",
       "mean      17.518779      7.361591     309.134630      8.390433     11.410560   \n",
       "std        8.407012      0.754277      88.620226      3.658597     12.154484   \n",
       "min        1.800000      6.000000      74.000000      0.500000      1.000000   \n",
       "25%        9.500000      6.800000     243.000000      5.900000      6.100000   \n",
       "50%       18.100000      7.100000     304.000000      8.100000      8.800000   \n",
       "75%       25.000000      7.800000     375.000000     11.000000     12.800000   \n",
       "max       38.100000     10.300000     560.000000     21.500000    535.100000   \n",
       "\n",
       "       총유기탄소 (mg/L)    총질소 (mg/L)     총인 (mg/L)  클로로필-a (mg/㎥)       지점  \\\n",
       "count  77093.000000  75725.000000  76715.000000   81256.000000  97896.0   \n",
       "mean       4.338780      4.271032      0.094286      50.526126    156.0   \n",
       "std        1.126927      1.635150      0.046327      44.179893      0.0   \n",
       "min        1.600000      0.766000      0.005000       2.100000    156.0   \n",
       "25%        3.500000      3.035000      0.064000      20.500000    156.0   \n",
       "50%        4.300000      4.006000      0.085000      36.300000    156.0   \n",
       "75%        5.000000      5.192000      0.115000      64.100000    156.0   \n",
       "max       17.700000     10.588000      0.849000     400.000000    156.0   \n",
       "\n",
       "             기온(°C)       강수량(mm)       풍속(m/s)        일조(hr)    일사(MJ/m2)  \\\n",
       "count  97884.000000  97896.000000  97862.000000  97896.000000  97896.00000   \n",
       "mean      14.860139      0.160405      1.620141      0.260166      0.61437   \n",
       "std        9.898458      1.341064      1.216021      0.405066      0.90953   \n",
       "min      -13.400000      0.000000      0.000000      0.000000      0.00000   \n",
       "25%        6.500000      0.000000      0.700000      0.000000      0.00000   \n",
       "50%       15.900000      0.000000      1.400000      0.000000      0.06000   \n",
       "75%       23.200000      0.000000      2.300000      0.600000      1.02000   \n",
       "max       37.800000     81.500000     13.500000      1.000000      3.94000   \n",
       "\n",
       "          전운량(10분위)  중하층운량(10분위)    상류수위(EL.m)    하류수위(EL.m)      유입량(㎥/s)  \\\n",
       "count  86142.000000  90178.00000  97863.000000  97863.000000  97863.000000   \n",
       "mean       5.451951      3.53594      2.336396     -1.205205     61.991524   \n",
       "std        3.887627      3.44201      1.196543      2.214127    212.489095   \n",
       "min        0.000000      0.00000     -1.831667    -99.990000    -13.335000   \n",
       "25%        1.000000      0.00000      1.495000     -1.382500     16.475000   \n",
       "50%        6.000000      3.00000      1.676667     -1.268333     25.970000   \n",
       "75%        9.000000      7.00000      3.515000     -1.133333     44.963333   \n",
       "max       10.000000     10.00000      8.403333    131.760000   8934.755000   \n",
       "\n",
       "           방류량(㎥/s)  \n",
       "count  97863.000000  \n",
       "mean      60.564154  \n",
       "std      212.290814  \n",
       "min        0.000000  \n",
       "25%       15.088333  \n",
       "50%       23.746667  \n",
       "75%       43.536667  \n",
       "max     8322.716667  "
      ]
     },
     "execution_count": 86,
     "metadata": {},
     "output_type": "execute_result"
    }
   ],
   "source": [
    "jsb_data.describe()"
   ]
  },
  {
   "cell_type": "code",
   "execution_count": 87,
   "id": "38d10f88",
   "metadata": {},
   "outputs": [
    {
     "data": {
      "text/html": [
       "<div>\n",
       "<style scoped>\n",
       "    .dataframe tbody tr th:only-of-type {\n",
       "        vertical-align: middle;\n",
       "    }\n",
       "\n",
       "    .dataframe tbody tr th {\n",
       "        vertical-align: top;\n",
       "    }\n",
       "\n",
       "    .dataframe thead th {\n",
       "        text-align: right;\n",
       "    }\n",
       "</style>\n",
       "<table border=\"1\" class=\"dataframe\">\n",
       "  <thead>\n",
       "    <tr style=\"text-align: right;\">\n",
       "      <th></th>\n",
       "      <th>수온 (℃)</th>\n",
       "      <th>수소이온농도</th>\n",
       "      <th>전기전도도 (μS/cm)</th>\n",
       "      <th>용존산소 (mg/L)</th>\n",
       "      <th>총유기탄소 (mg/L)</th>\n",
       "      <th>총질소 (mg/L)</th>\n",
       "      <th>총인 (mg/L)</th>\n",
       "      <th>클로로필-a (mg/㎥)</th>\n",
       "      <th>지점</th>\n",
       "      <th>기온(°C)</th>\n",
       "      <th>강수량(mm)</th>\n",
       "      <th>풍속(m/s)</th>\n",
       "      <th>일조(hr)</th>\n",
       "      <th>일사(MJ/m2)</th>\n",
       "      <th>전운량(10분위)</th>\n",
       "      <th>중하층운량(10분위)</th>\n",
       "      <th>상류수위(EL.m)</th>\n",
       "      <th>하류수위(EL.m)</th>\n",
       "      <th>유입량(㎥/s)</th>\n",
       "      <th>방류량(㎥/s)</th>\n",
       "    </tr>\n",
       "  </thead>\n",
       "  <tbody>\n",
       "    <tr>\n",
       "      <th>count</th>\n",
       "      <td>75932.000000</td>\n",
       "      <td>75912.000000</td>\n",
       "      <td>75843.00000</td>\n",
       "      <td>72815.000000</td>\n",
       "      <td>69665.000000</td>\n",
       "      <td>68592.000000</td>\n",
       "      <td>67578.000000</td>\n",
       "      <td>74470.000000</td>\n",
       "      <td>97896.0</td>\n",
       "      <td>97884.000000</td>\n",
       "      <td>97896.000000</td>\n",
       "      <td>97862.000000</td>\n",
       "      <td>97896.000000</td>\n",
       "      <td>97896.00000</td>\n",
       "      <td>86142.000000</td>\n",
       "      <td>90178.00000</td>\n",
       "      <td>97850.000000</td>\n",
       "      <td>97850.000000</td>\n",
       "      <td>97850.000000</td>\n",
       "      <td>97850.000000</td>\n",
       "    </tr>\n",
       "    <tr>\n",
       "      <th>mean</th>\n",
       "      <td>17.549822</td>\n",
       "      <td>7.004458</td>\n",
       "      <td>348.47063</td>\n",
       "      <td>7.242226</td>\n",
       "      <td>4.366290</td>\n",
       "      <td>5.409042</td>\n",
       "      <td>0.116736</td>\n",
       "      <td>50.235060</td>\n",
       "      <td>156.0</td>\n",
       "      <td>14.860139</td>\n",
       "      <td>0.160405</td>\n",
       "      <td>1.620141</td>\n",
       "      <td>0.260166</td>\n",
       "      <td>0.61437</td>\n",
       "      <td>5.451951</td>\n",
       "      <td>3.53594</td>\n",
       "      <td>6.430732</td>\n",
       "      <td>2.407746</td>\n",
       "      <td>35.851997</td>\n",
       "      <td>35.652768</td>\n",
       "    </tr>\n",
       "    <tr>\n",
       "      <th>std</th>\n",
       "      <td>8.122038</td>\n",
       "      <td>0.496684</td>\n",
       "      <td>90.97999</td>\n",
       "      <td>3.906724</td>\n",
       "      <td>1.057144</td>\n",
       "      <td>2.071894</td>\n",
       "      <td>0.063218</td>\n",
       "      <td>36.576093</td>\n",
       "      <td>0.0</td>\n",
       "      <td>9.898458</td>\n",
       "      <td>1.341064</td>\n",
       "      <td>1.216021</td>\n",
       "      <td>0.405066</td>\n",
       "      <td>0.90953</td>\n",
       "      <td>3.887627</td>\n",
       "      <td>3.44201</td>\n",
       "      <td>1.440600</td>\n",
       "      <td>1.158401</td>\n",
       "      <td>125.032237</td>\n",
       "      <td>124.655478</td>\n",
       "    </tr>\n",
       "    <tr>\n",
       "      <th>min</th>\n",
       "      <td>1.800000</td>\n",
       "      <td>6.100000</td>\n",
       "      <td>91.00000</td>\n",
       "      <td>0.500000</td>\n",
       "      <td>1.400000</td>\n",
       "      <td>0.706000</td>\n",
       "      <td>0.003000</td>\n",
       "      <td>1.000000</td>\n",
       "      <td>156.0</td>\n",
       "      <td>-13.400000</td>\n",
       "      <td>0.000000</td>\n",
       "      <td>0.000000</td>\n",
       "      <td>0.000000</td>\n",
       "      <td>0.00000</td>\n",
       "      <td>0.000000</td>\n",
       "      <td>0.00000</td>\n",
       "      <td>2.600000</td>\n",
       "      <td>-0.756667</td>\n",
       "      <td>0.000000</td>\n",
       "      <td>0.000000</td>\n",
       "    </tr>\n",
       "    <tr>\n",
       "      <th>25%</th>\n",
       "      <td>9.600000</td>\n",
       "      <td>6.700000</td>\n",
       "      <td>283.00000</td>\n",
       "      <td>4.100000</td>\n",
       "      <td>3.600000</td>\n",
       "      <td>3.788000</td>\n",
       "      <td>0.071000</td>\n",
       "      <td>20.600000</td>\n",
       "      <td>156.0</td>\n",
       "      <td>6.500000</td>\n",
       "      <td>0.000000</td>\n",
       "      <td>0.700000</td>\n",
       "      <td>0.000000</td>\n",
       "      <td>0.00000</td>\n",
       "      <td>1.000000</td>\n",
       "      <td>0.00000</td>\n",
       "      <td>5.568333</td>\n",
       "      <td>1.538333</td>\n",
       "      <td>11.055000</td>\n",
       "      <td>11.011667</td>\n",
       "    </tr>\n",
       "    <tr>\n",
       "      <th>50%</th>\n",
       "      <td>17.600000</td>\n",
       "      <td>6.900000</td>\n",
       "      <td>347.00000</td>\n",
       "      <td>7.300000</td>\n",
       "      <td>4.300000</td>\n",
       "      <td>5.113000</td>\n",
       "      <td>0.104000</td>\n",
       "      <td>43.200000</td>\n",
       "      <td>156.0</td>\n",
       "      <td>15.900000</td>\n",
       "      <td>0.000000</td>\n",
       "      <td>1.400000</td>\n",
       "      <td>0.000000</td>\n",
       "      <td>0.06000</td>\n",
       "      <td>6.000000</td>\n",
       "      <td>3.00000</td>\n",
       "      <td>6.180833</td>\n",
       "      <td>2.013333</td>\n",
       "      <td>15.983333</td>\n",
       "      <td>14.866667</td>\n",
       "    </tr>\n",
       "    <tr>\n",
       "      <th>75%</th>\n",
       "      <td>24.900000</td>\n",
       "      <td>7.100000</td>\n",
       "      <td>419.00000</td>\n",
       "      <td>10.100000</td>\n",
       "      <td>5.100000</td>\n",
       "      <td>6.785000</td>\n",
       "      <td>0.147000</td>\n",
       "      <td>72.400000</td>\n",
       "      <td>156.0</td>\n",
       "      <td>23.200000</td>\n",
       "      <td>0.000000</td>\n",
       "      <td>2.300000</td>\n",
       "      <td>0.600000</td>\n",
       "      <td>1.02000</td>\n",
       "      <td>9.000000</td>\n",
       "      <td>7.00000</td>\n",
       "      <td>7.520000</td>\n",
       "      <td>3.541667</td>\n",
       "      <td>25.838333</td>\n",
       "      <td>26.730000</td>\n",
       "    </tr>\n",
       "    <tr>\n",
       "      <th>max</th>\n",
       "      <td>36.200000</td>\n",
       "      <td>10.000000</td>\n",
       "      <td>749.00000</td>\n",
       "      <td>24.300000</td>\n",
       "      <td>19.300000</td>\n",
       "      <td>12.567000</td>\n",
       "      <td>0.745000</td>\n",
       "      <td>453.500000</td>\n",
       "      <td>156.0</td>\n",
       "      <td>37.800000</td>\n",
       "      <td>81.500000</td>\n",
       "      <td>13.500000</td>\n",
       "      <td>1.000000</td>\n",
       "      <td>3.94000</td>\n",
       "      <td>10.000000</td>\n",
       "      <td>10.00000</td>\n",
       "      <td>157.920000</td>\n",
       "      <td>12.486667</td>\n",
       "      <td>4581.450000</td>\n",
       "      <td>4088.446667</td>\n",
       "    </tr>\n",
       "  </tbody>\n",
       "</table>\n",
       "</div>"
      ],
      "text/plain": [
       "             수온 (℃)        수소이온농도  전기전도도 (μS/cm)   용존산소 (mg/L)  총유기탄소 (mg/L)  \\\n",
       "count  75932.000000  75912.000000    75843.00000  72815.000000  69665.000000   \n",
       "mean      17.549822      7.004458      348.47063      7.242226      4.366290   \n",
       "std        8.122038      0.496684       90.97999      3.906724      1.057144   \n",
       "min        1.800000      6.100000       91.00000      0.500000      1.400000   \n",
       "25%        9.600000      6.700000      283.00000      4.100000      3.600000   \n",
       "50%       17.600000      6.900000      347.00000      7.300000      4.300000   \n",
       "75%       24.900000      7.100000      419.00000     10.100000      5.100000   \n",
       "max       36.200000     10.000000      749.00000     24.300000     19.300000   \n",
       "\n",
       "         총질소 (mg/L)     총인 (mg/L)  클로로필-a (mg/㎥)       지점        기온(°C)  \\\n",
       "count  68592.000000  67578.000000   74470.000000  97896.0  97884.000000   \n",
       "mean       5.409042      0.116736      50.235060    156.0     14.860139   \n",
       "std        2.071894      0.063218      36.576093      0.0      9.898458   \n",
       "min        0.706000      0.003000       1.000000    156.0    -13.400000   \n",
       "25%        3.788000      0.071000      20.600000    156.0      6.500000   \n",
       "50%        5.113000      0.104000      43.200000    156.0     15.900000   \n",
       "75%        6.785000      0.147000      72.400000    156.0     23.200000   \n",
       "max       12.567000      0.745000     453.500000    156.0     37.800000   \n",
       "\n",
       "            강수량(mm)       풍속(m/s)        일조(hr)    일사(MJ/m2)     전운량(10분위)  \\\n",
       "count  97896.000000  97862.000000  97896.000000  97896.00000  86142.000000   \n",
       "mean       0.160405      1.620141      0.260166      0.61437      5.451951   \n",
       "std        1.341064      1.216021      0.405066      0.90953      3.887627   \n",
       "min        0.000000      0.000000      0.000000      0.00000      0.000000   \n",
       "25%        0.000000      0.700000      0.000000      0.00000      1.000000   \n",
       "50%        0.000000      1.400000      0.000000      0.06000      6.000000   \n",
       "75%        0.000000      2.300000      0.600000      1.02000      9.000000   \n",
       "max       81.500000     13.500000      1.000000      3.94000     10.000000   \n",
       "\n",
       "       중하층운량(10분위)    상류수위(EL.m)    하류수위(EL.m)      유입량(㎥/s)      방류량(㎥/s)  \n",
       "count  90178.00000  97850.000000  97850.000000  97850.000000  97850.000000  \n",
       "mean       3.53594      6.430732      2.407746     35.851997     35.652768  \n",
       "std        3.44201      1.440600      1.158401    125.032237    124.655478  \n",
       "min        0.00000      2.600000     -0.756667      0.000000      0.000000  \n",
       "25%        0.00000      5.568333      1.538333     11.055000     11.011667  \n",
       "50%        3.00000      6.180833      2.013333     15.983333     14.866667  \n",
       "75%        7.00000      7.520000      3.541667     25.838333     26.730000  \n",
       "max       10.00000    157.920000     12.486667   4581.450000   4088.446667  "
      ]
     },
     "execution_count": 87,
     "metadata": {},
     "output_type": "execute_result"
    }
   ],
   "source": [
    "scb_data.describe()"
   ]
  },
  {
   "cell_type": "markdown",
   "id": "8b9aafeb",
   "metadata": {},
   "source": [
    "### 특성 영문명 지정"
   ]
  },
  {
   "cell_type": "markdown",
   "id": "7463b6ba",
   "metadata": {},
   "source": [
    "먼저 지점, 지점명 정보는 중요하지 않기에 해당 특성들을 삭제한다."
   ]
  },
  {
   "cell_type": "code",
   "execution_count": 88,
   "id": "833419be",
   "metadata": {},
   "outputs": [],
   "source": [
    "to_remove = ['지점', '지점명']"
   ]
  },
  {
   "cell_type": "code",
   "execution_count": 89,
   "id": "3be0e492",
   "metadata": {},
   "outputs": [],
   "source": [
    "jsb_data = jsb_data.drop(to_remove, axis=1)"
   ]
  },
  {
   "cell_type": "code",
   "execution_count": 90,
   "id": "928decc8",
   "metadata": {},
   "outputs": [],
   "source": [
    "scb_data = scb_data.drop(to_remove, axis=1)"
   ]
  },
  {
   "cell_type": "code",
   "execution_count": 91,
   "id": "08db545f",
   "metadata": {},
   "outputs": [
    {
     "name": "stdout",
     "output_type": "stream",
     "text": [
      "<class 'pandas.core.frame.DataFrame'>\n",
      "DatetimeIndex: 97896 entries, 2012-07-01 00:00:00 to 2023-08-31 23:00:00\n",
      "Data columns (total 20 columns):\n",
      " #   Column         Non-Null Count  Dtype  \n",
      "---  ------         --------------  -----  \n",
      " 0   수온 (℃)         83510 non-null  float64\n",
      " 1   수소이온농도         83602 non-null  float64\n",
      " 2   전기전도도 (μS/cm)  83518 non-null  float64\n",
      " 3   용존산소 (mg/L)    82144 non-null  float64\n",
      " 4   탁도 (NTU)       82651 non-null  float64\n",
      " 5   총유기탄소 (mg/L)   77093 non-null  float64\n",
      " 6   총질소 (mg/L)     75725 non-null  float64\n",
      " 7   총인 (mg/L)      76715 non-null  float64\n",
      " 8   클로로필-a (mg/㎥)  81256 non-null  float64\n",
      " 9   기온(°C)         97884 non-null  float64\n",
      " 10  강수량(mm)        97896 non-null  float64\n",
      " 11  풍속(m/s)        97862 non-null  float64\n",
      " 12  일조(hr)         97896 non-null  float64\n",
      " 13  일사(MJ/m2)      97896 non-null  float64\n",
      " 14  전운량(10분위)      86142 non-null  float64\n",
      " 15  중하층운량(10분위)    90178 non-null  float64\n",
      " 16  상류수위(EL.m)     97863 non-null  float64\n",
      " 17  하류수위(EL.m)     97863 non-null  float64\n",
      " 18  유입량(㎥/s)       97863 non-null  float64\n",
      " 19  방류량(㎥/s)       97863 non-null  float64\n",
      "dtypes: float64(20)\n",
      "memory usage: 17.7 MB\n"
     ]
    }
   ],
   "source": [
    "jsb_data.info()"
   ]
  },
  {
   "cell_type": "code",
   "execution_count": 92,
   "id": "43352192",
   "metadata": {},
   "outputs": [
    {
     "name": "stdout",
     "output_type": "stream",
     "text": [
      "<class 'pandas.core.frame.DataFrame'>\n",
      "DatetimeIndex: 97896 entries, 2012-07-01 00:00:00 to 2023-08-31 23:00:00\n",
      "Data columns (total 19 columns):\n",
      " #   Column         Non-Null Count  Dtype  \n",
      "---  ------         --------------  -----  \n",
      " 0   수온 (℃)         75932 non-null  float64\n",
      " 1   수소이온농도         75912 non-null  float64\n",
      " 2   전기전도도 (μS/cm)  75843 non-null  float64\n",
      " 3   용존산소 (mg/L)    72815 non-null  float64\n",
      " 4   총유기탄소 (mg/L)   69665 non-null  float64\n",
      " 5   총질소 (mg/L)     68592 non-null  float64\n",
      " 6   총인 (mg/L)      67578 non-null  float64\n",
      " 7   클로로필-a (mg/㎥)  74470 non-null  float64\n",
      " 8   기온(°C)         97884 non-null  float64\n",
      " 9   강수량(mm)        97896 non-null  float64\n",
      " 10  풍속(m/s)        97862 non-null  float64\n",
      " 11  일조(hr)         97896 non-null  float64\n",
      " 12  일사(MJ/m2)      97896 non-null  float64\n",
      " 13  전운량(10분위)      86142 non-null  float64\n",
      " 14  중하층운량(10분위)    90178 non-null  float64\n",
      " 15  상류수위(EL.m)     97850 non-null  float64\n",
      " 16  하류수위(EL.m)     97850 non-null  float64\n",
      " 17  유입량(㎥/s)       97850 non-null  float64\n",
      " 18  방류량(㎥/s)       97850 non-null  float64\n",
      "dtypes: float64(19)\n",
      "memory usage: 17.0 MB\n"
     ]
    }
   ],
   "source": [
    "scb_data.info()"
   ]
  },
  {
   "cell_type": "markdown",
   "id": "05ba9767",
   "metadata": {},
   "source": [
    "각 특성의 영문명에 사용되는 약어는 다음과 같다.\n",
    "기상 용어는 [기상청 API 허브](https://apihub.kma.go.kr/apiList.do?seqApi=2)를 참고한다."
   ]
  },
  {
   "cell_type": "markdown",
   "id": "bb95cab1",
   "metadata": {},
   "source": [
    "| 기호 | 단어 | 의미 |\n",
    "| :--- | :--- | :--- |\n",
    "| CA | Cloud Amount | 운량 |\n",
    "| CHLA | Chlorophyll A | 엽록소 A|\n",
    "| RN | Rainfall | 강수량 |\n",
    "| SI | Solar Irradience | 일사량 |\n",
    "| SS | Sunshine | 일조 |\n",
    "| TA | Temperature | 기온 |\n",
    "| WL | Water Level | 수위 |\n",
    "| WS | Wind Speed | 풍속 |"
   ]
  },
  {
   "cell_type": "code",
   "execution_count": 93,
   "id": "77d91f9b",
   "metadata": {},
   "outputs": [],
   "source": [
    "features_english = {\n",
    "    '수온 (℃)' : 'Water_TA',\n",
    "    '수소이온농도': 'pH',\n",
    "    '전기전도도 (μS/cm)' : 'EC',\n",
    "    '용존산소 (mg/L)' : 'DO',\n",
    "    '탁도 (NTU)' : 'Turb',\n",
    "    '총유기탄소 (mg/L)' : 'TOC',\n",
    "    '총질소 (mg/L)' : 'TN',\n",
    "    '총인 (mg/L)' : 'TP',\n",
    "    '클로로필-a (mg/㎥)' : 'CHLA',\n",
    "    '기온(°C)' : 'Air_TA',\n",
    "    '강수량(mm)' : 'RN',\n",
    "    '풍속(m/s)' : 'WS',\n",
    "    '일조(hr)' : 'SS',\n",
    "    '일사(MJ/m2)' : 'SI',\n",
    "    '전운량(10분위)' : 'CA_TOT',\n",
    "    '중하층운량(10분위)' : 'CA_MID',\n",
    "    '상류수위(EL.m)' : 'Up_WL',\n",
    "    '하류수위(EL.m)' : 'Down_WL',\n",
    "    '유입량(㎥/s)' : 'Inflow',\n",
    "    '방류량(㎥/s)' : 'Discharge'\n",
    "}"
   ]
  },
  {
   "cell_type": "markdown",
   "id": "250f6e2a",
   "metadata": {},
   "source": [
    "특성명을 모두 영문으로 변경한다."
   ]
  },
  {
   "cell_type": "code",
   "execution_count": 94,
   "id": "7be14aa4",
   "metadata": {},
   "outputs": [
    {
     "name": "stdout",
     "output_type": "stream",
     "text": [
      "<class 'pandas.core.frame.DataFrame'>\n",
      "DatetimeIndex: 97896 entries, 2012-07-01 00:00:00 to 2023-08-31 23:00:00\n",
      "Data columns (total 20 columns):\n",
      " #   Column     Non-Null Count  Dtype  \n",
      "---  ------     --------------  -----  \n",
      " 0   Water_TA   83510 non-null  float64\n",
      " 1   pH         83602 non-null  float64\n",
      " 2   EC         83518 non-null  float64\n",
      " 3   DO         82144 non-null  float64\n",
      " 4   Turb       82651 non-null  float64\n",
      " 5   TOC        77093 non-null  float64\n",
      " 6   TN         75725 non-null  float64\n",
      " 7   TP         76715 non-null  float64\n",
      " 8   CHLA       81256 non-null  float64\n",
      " 9   Air_TA     97884 non-null  float64\n",
      " 10  RN         97896 non-null  float64\n",
      " 11  WS         97862 non-null  float64\n",
      " 12  SS         97896 non-null  float64\n",
      " 13  SI         97896 non-null  float64\n",
      " 14  CA_TOT     86142 non-null  float64\n",
      " 15  CA_MID     90178 non-null  float64\n",
      " 16  Up_WL      97863 non-null  float64\n",
      " 17  Down_WL    97863 non-null  float64\n",
      " 18  Inflow     97863 non-null  float64\n",
      " 19  Discharge  97863 non-null  float64\n",
      "dtypes: float64(20)\n",
      "memory usage: 17.7 MB\n"
     ]
    }
   ],
   "source": [
    "jsb_data = jsb_data.rename(columns=features_english)\n",
    "jsb_data.info()"
   ]
  },
  {
   "cell_type": "code",
   "execution_count": 95,
   "id": "cb25af71",
   "metadata": {},
   "outputs": [
    {
     "name": "stdout",
     "output_type": "stream",
     "text": [
      "<class 'pandas.core.frame.DataFrame'>\n",
      "DatetimeIndex: 97896 entries, 2012-07-01 00:00:00 to 2023-08-31 23:00:00\n",
      "Data columns (total 19 columns):\n",
      " #   Column     Non-Null Count  Dtype  \n",
      "---  ------     --------------  -----  \n",
      " 0   Water_TA   75932 non-null  float64\n",
      " 1   pH         75912 non-null  float64\n",
      " 2   EC         75843 non-null  float64\n",
      " 3   DO         72815 non-null  float64\n",
      " 4   TOC        69665 non-null  float64\n",
      " 5   TN         68592 non-null  float64\n",
      " 6   TP         67578 non-null  float64\n",
      " 7   CHLA       74470 non-null  float64\n",
      " 8   Air_TA     97884 non-null  float64\n",
      " 9   RN         97896 non-null  float64\n",
      " 10  WS         97862 non-null  float64\n",
      " 11  SS         97896 non-null  float64\n",
      " 12  SI         97896 non-null  float64\n",
      " 13  CA_TOT     86142 non-null  float64\n",
      " 14  CA_MID     90178 non-null  float64\n",
      " 15  Up_WL      97850 non-null  float64\n",
      " 16  Down_WL    97850 non-null  float64\n",
      " 17  Inflow     97850 non-null  float64\n",
      " 18  Discharge  97850 non-null  float64\n",
      "dtypes: float64(19)\n",
      "memory usage: 17.0 MB\n"
     ]
    }
   ],
   "source": [
    "scb_data = scb_data.rename(columns=features_english)\n",
    "scb_data.info()"
   ]
  },
  {
   "cell_type": "markdown",
   "id": "68e52cab",
   "metadata": {},
   "source": [
    "### 결측치 보간법"
   ]
  },
  {
   "cell_type": "markdown",
   "id": "98f02a5b",
   "metadata": {},
   "source": [
    "- 결측치는 양방향 12시간 선형 보간법으로 대체. 결측 구간별 최대 24시간의 결측치 대체.      \n",
    "- 예) 결측치가 36개인 구간이 있다면 처음-12개와 25-36개만 결측치 대체. "
   ]
  },
  {
   "cell_type": "code",
   "execution_count": 96,
   "id": "afdeb6fc",
   "metadata": {},
   "outputs": [],
   "source": [
    "jsb_df = jsb_data.interpolate(method='time', limit = 12, limit_direction='both')"
   ]
  },
  {
   "cell_type": "code",
   "execution_count": 97,
   "id": "863b5102",
   "metadata": {},
   "outputs": [],
   "source": [
    "scb_df = scb_data.interpolate(method='time', limit = 12, limit_direction='both')"
   ]
  },
  {
   "cell_type": "code",
   "execution_count": 98,
   "id": "be26fc84",
   "metadata": {},
   "outputs": [
    {
     "name": "stdout",
     "output_type": "stream",
     "text": [
      "<class 'pandas.core.frame.DataFrame'>\n",
      "DatetimeIndex: 97896 entries, 2012-07-01 00:00:00 to 2023-08-31 23:00:00\n",
      "Data columns (total 20 columns):\n",
      " #   Column     Non-Null Count  Dtype  \n",
      "---  ------     --------------  -----  \n",
      " 0   Water_TA   89144 non-null  float64\n",
      " 1   pH         89316 non-null  float64\n",
      " 2   EC         89208 non-null  float64\n",
      " 3   DO         88547 non-null  float64\n",
      " 4   Turb       88749 non-null  float64\n",
      " 5   TOC        83826 non-null  float64\n",
      " 6   TN         82106 non-null  float64\n",
      " 7   TP         83369 non-null  float64\n",
      " 8   CHLA       86525 non-null  float64\n",
      " 9   Air_TA     97896 non-null  float64\n",
      " 10  RN         97896 non-null  float64\n",
      " 11  WS         97896 non-null  float64\n",
      " 12  SS         97896 non-null  float64\n",
      " 13  SI         97896 non-null  float64\n",
      " 14  CA_TOT     97849 non-null  float64\n",
      " 15  CA_MID     97896 non-null  float64\n",
      " 16  Up_WL      97896 non-null  float64\n",
      " 17  Down_WL    97896 non-null  float64\n",
      " 18  Inflow     97896 non-null  float64\n",
      " 19  Discharge  97896 non-null  float64\n",
      "dtypes: float64(20)\n",
      "memory usage: 17.7 MB\n"
     ]
    }
   ],
   "source": [
    "jsb_df.info()"
   ]
  },
  {
   "cell_type": "code",
   "execution_count": 99,
   "id": "833985d8",
   "metadata": {},
   "outputs": [
    {
     "name": "stdout",
     "output_type": "stream",
     "text": [
      "<class 'pandas.core.frame.DataFrame'>\n",
      "DatetimeIndex: 97896 entries, 2012-07-01 00:00:00 to 2023-08-31 23:00:00\n",
      "Data columns (total 19 columns):\n",
      " #   Column     Non-Null Count  Dtype  \n",
      "---  ------     --------------  -----  \n",
      " 0   Water_TA   80618 non-null  float64\n",
      " 1   pH         80615 non-null  float64\n",
      " 2   EC         80616 non-null  float64\n",
      " 3   DO         79142 non-null  float64\n",
      " 4   TOC        76265 non-null  float64\n",
      " 5   TN         74147 non-null  float64\n",
      " 6   TP         73895 non-null  float64\n",
      " 7   CHLA       78791 non-null  float64\n",
      " 8   Air_TA     97896 non-null  float64\n",
      " 9   RN         97896 non-null  float64\n",
      " 10  WS         97896 non-null  float64\n",
      " 11  SS         97896 non-null  float64\n",
      " 12  SI         97896 non-null  float64\n",
      " 13  CA_TOT     97849 non-null  float64\n",
      " 14  CA_MID     97896 non-null  float64\n",
      " 15  Up_WL      97896 non-null  float64\n",
      " 16  Down_WL    97896 non-null  float64\n",
      " 17  Inflow     97896 non-null  float64\n",
      " 18  Discharge  97896 non-null  float64\n",
      "dtypes: float64(19)\n",
      "memory usage: 17.0 MB\n"
     ]
    }
   ],
   "source": [
    "scb_df.info()"
   ]
  },
  {
   "cell_type": "markdown",
   "id": "6d3e16ca",
   "metadata": {},
   "source": [
    "여전히 남은 결측치는 모두 제거한다."
   ]
  },
  {
   "cell_type": "code",
   "execution_count": 100,
   "id": "1f06c60c",
   "metadata": {},
   "outputs": [],
   "source": [
    "jsb_df = jsb_df.dropna()"
   ]
  },
  {
   "cell_type": "code",
   "execution_count": 101,
   "id": "9184a69e",
   "metadata": {},
   "outputs": [],
   "source": [
    "scb_df = scb_df.dropna()"
   ]
  },
  {
   "cell_type": "code",
   "execution_count": 102,
   "id": "c69041e9",
   "metadata": {},
   "outputs": [
    {
     "name": "stdout",
     "output_type": "stream",
     "text": [
      "<class 'pandas.core.frame.DataFrame'>\n",
      "DatetimeIndex: 71365 entries, 2013-03-29 02:00:00 to 2023-08-31 23:00:00\n",
      "Data columns (total 20 columns):\n",
      " #   Column     Non-Null Count  Dtype  \n",
      "---  ------     --------------  -----  \n",
      " 0   Water_TA   71365 non-null  float64\n",
      " 1   pH         71365 non-null  float64\n",
      " 2   EC         71365 non-null  float64\n",
      " 3   DO         71365 non-null  float64\n",
      " 4   Turb       71365 non-null  float64\n",
      " 5   TOC        71365 non-null  float64\n",
      " 6   TN         71365 non-null  float64\n",
      " 7   TP         71365 non-null  float64\n",
      " 8   CHLA       71365 non-null  float64\n",
      " 9   Air_TA     71365 non-null  float64\n",
      " 10  RN         71365 non-null  float64\n",
      " 11  WS         71365 non-null  float64\n",
      " 12  SS         71365 non-null  float64\n",
      " 13  SI         71365 non-null  float64\n",
      " 14  CA_TOT     71365 non-null  float64\n",
      " 15  CA_MID     71365 non-null  float64\n",
      " 16  Up_WL      71365 non-null  float64\n",
      " 17  Down_WL    71365 non-null  float64\n",
      " 18  Inflow     71365 non-null  float64\n",
      " 19  Discharge  71365 non-null  float64\n",
      "dtypes: float64(20)\n",
      "memory usage: 11.4 MB\n"
     ]
    }
   ],
   "source": [
    "jsb_df.info()"
   ]
  },
  {
   "cell_type": "code",
   "execution_count": 103,
   "id": "f29d8252",
   "metadata": {},
   "outputs": [
    {
     "name": "stdout",
     "output_type": "stream",
     "text": [
      "<class 'pandas.core.frame.DataFrame'>\n",
      "DatetimeIndex: 67169 entries, 2013-03-29 04:00:00 to 2023-08-31 23:00:00\n",
      "Data columns (total 19 columns):\n",
      " #   Column     Non-Null Count  Dtype  \n",
      "---  ------     --------------  -----  \n",
      " 0   Water_TA   67169 non-null  float64\n",
      " 1   pH         67169 non-null  float64\n",
      " 2   EC         67169 non-null  float64\n",
      " 3   DO         67169 non-null  float64\n",
      " 4   TOC        67169 non-null  float64\n",
      " 5   TN         67169 non-null  float64\n",
      " 6   TP         67169 non-null  float64\n",
      " 7   CHLA       67169 non-null  float64\n",
      " 8   Air_TA     67169 non-null  float64\n",
      " 9   RN         67169 non-null  float64\n",
      " 10  WS         67169 non-null  float64\n",
      " 11  SS         67169 non-null  float64\n",
      " 12  SI         67169 non-null  float64\n",
      " 13  CA_TOT     67169 non-null  float64\n",
      " 14  CA_MID     67169 non-null  float64\n",
      " 15  Up_WL      67169 non-null  float64\n",
      " 16  Down_WL    67169 non-null  float64\n",
      " 17  Inflow     67169 non-null  float64\n",
      " 18  Discharge  67169 non-null  float64\n",
      "dtypes: float64(19)\n",
      "memory usage: 10.2 MB\n"
     ]
    }
   ],
   "source": [
    "scb_df.info()"
   ]
  },
  {
   "cell_type": "markdown",
   "id": "9cd2dea9",
   "metadata": {},
   "source": [
    "## 지석천 데이터 불러오기"
   ]
  },
  {
   "cell_type": "code",
   "execution_count": 104,
   "id": "23a66346",
   "metadata": {},
   "outputs": [],
   "source": [
    "jsc_directory = base_path / \"jiseokcheon\""
   ]
  },
  {
   "cell_type": "markdown",
   "id": "a64ba6a1",
   "metadata": {},
   "source": [
    "방류량과 수질 데이터 파일"
   ]
  },
  {
   "cell_type": "code",
   "execution_count": 105,
   "id": "9ef3f646",
   "metadata": {},
   "outputs": [],
   "source": [
    "files = [\"jiseokcheon_flow_2012-2023.xlsx\", \"jiseokcheon_wQuality_2014-2023.xlsx\"]"
   ]
  },
  {
   "cell_type": "markdown",
   "id": "86850ee8",
   "metadata": {},
   "source": [
    "유량 데이터 불러오기\n",
    "\n",
    "- 보가 아님.\n",
    "- 승촌보와 죽산보 사이에 영산강으로 흘러들어가는 유량으로 활용"
   ]
  },
  {
   "cell_type": "code",
   "execution_count": 106,
   "id": "77f7b9c9",
   "metadata": {},
   "outputs": [],
   "source": [
    "jsc_flow_yearly = pd.read_excel(jsc_directory / files[0], \n",
    "#                                  skiprows=0, \n",
    "                                 header=0, \n",
    "                                 sheet_name=0,\n",
    "                                 na_values='ND',\n",
    "                                 parse_dates=[0]  # 시간 특성을 date time으로 파싱\n",
    "                                )"
   ]
  },
  {
   "cell_type": "code",
   "execution_count": 107,
   "id": "cd72fb3a",
   "metadata": {},
   "outputs": [],
   "source": [
    "jsc_flow_yearly = jsc_flow_yearly.set_index('측정일시').sort_index()"
   ]
  },
  {
   "cell_type": "code",
   "execution_count": 108,
   "id": "7a0637e7",
   "metadata": {},
   "outputs": [],
   "source": [
    "jsc_flow_yearly.index.name = 'DateTime'"
   ]
  },
  {
   "cell_type": "code",
   "execution_count": 109,
   "id": "8f73998b",
   "metadata": {},
   "outputs": [
    {
     "data": {
      "text/html": [
       "<div>\n",
       "<style scoped>\n",
       "    .dataframe tbody tr th:only-of-type {\n",
       "        vertical-align: middle;\n",
       "    }\n",
       "\n",
       "    .dataframe tbody tr th {\n",
       "        vertical-align: top;\n",
       "    }\n",
       "\n",
       "    .dataframe thead th {\n",
       "        text-align: right;\n",
       "    }\n",
       "</style>\n",
       "<table border=\"1\" class=\"dataframe\">\n",
       "  <thead>\n",
       "    <tr style=\"text-align: right;\">\n",
       "      <th></th>\n",
       "      <th>유량</th>\n",
       "    </tr>\n",
       "    <tr>\n",
       "      <th>DateTime</th>\n",
       "      <th></th>\n",
       "    </tr>\n",
       "  </thead>\n",
       "  <tbody>\n",
       "    <tr>\n",
       "      <th>2012-07-01 00:00:00</th>\n",
       "      <td>9.02</td>\n",
       "    </tr>\n",
       "    <tr>\n",
       "      <th>2012-07-01 00:10:00</th>\n",
       "      <td>9.02</td>\n",
       "    </tr>\n",
       "    <tr>\n",
       "      <th>2012-07-01 00:20:00</th>\n",
       "      <td>9.02</td>\n",
       "    </tr>\n",
       "    <tr>\n",
       "      <th>2012-07-01 00:30:00</th>\n",
       "      <td>9.02</td>\n",
       "    </tr>\n",
       "    <tr>\n",
       "      <th>2012-07-01 00:40:00</th>\n",
       "      <td>9.02</td>\n",
       "    </tr>\n",
       "    <tr>\n",
       "      <th>...</th>\n",
       "      <td>...</td>\n",
       "    </tr>\n",
       "    <tr>\n",
       "      <th>2023-12-31 23:10:00</th>\n",
       "      <td>1.34</td>\n",
       "    </tr>\n",
       "    <tr>\n",
       "      <th>2023-12-31 23:20:00</th>\n",
       "      <td>0.89</td>\n",
       "    </tr>\n",
       "    <tr>\n",
       "      <th>2023-12-31 23:30:00</th>\n",
       "      <td>0.00</td>\n",
       "    </tr>\n",
       "    <tr>\n",
       "      <th>2023-12-31 23:40:00</th>\n",
       "      <td>0.22</td>\n",
       "    </tr>\n",
       "    <tr>\n",
       "      <th>2023-12-31 23:50:00</th>\n",
       "      <td>0.89</td>\n",
       "    </tr>\n",
       "  </tbody>\n",
       "</table>\n",
       "<p>604943 rows × 1 columns</p>\n",
       "</div>"
      ],
      "text/plain": [
       "                       유량\n",
       "DateTime                 \n",
       "2012-07-01 00:00:00  9.02\n",
       "2012-07-01 00:10:00  9.02\n",
       "2012-07-01 00:20:00  9.02\n",
       "2012-07-01 00:30:00  9.02\n",
       "2012-07-01 00:40:00  9.02\n",
       "...                   ...\n",
       "2023-12-31 23:10:00  1.34\n",
       "2023-12-31 23:20:00  0.89\n",
       "2023-12-31 23:30:00  0.00\n",
       "2023-12-31 23:40:00  0.22\n",
       "2023-12-31 23:50:00  0.89\n",
       "\n",
       "[604943 rows x 1 columns]"
      ]
     },
     "execution_count": 109,
     "metadata": {},
     "output_type": "execute_result"
    }
   ],
   "source": [
    "jsc_flow_yearly"
   ]
  },
  {
   "cell_type": "markdown",
   "id": "65895473",
   "metadata": {},
   "source": [
    "**10분 단위를 1시간 단위로 변경**"
   ]
  },
  {
   "cell_type": "markdown",
   "id": "21a33bf7",
   "metadata": {},
   "source": [
    "먼저 시간별 평균값을 활용하여 1시간 단위 데이터로 변환한다."
   ]
  },
  {
   "cell_type": "code",
   "execution_count": null,
   "id": "00a8741d",
   "metadata": {},
   "outputs": [
    {
     "data": {
      "text/html": [
       "<div>\n",
       "<style scoped>\n",
       "    .dataframe tbody tr th:only-of-type {\n",
       "        vertical-align: middle;\n",
       "    }\n",
       "\n",
       "    .dataframe tbody tr th {\n",
       "        vertical-align: top;\n",
       "    }\n",
       "\n",
       "    .dataframe thead th {\n",
       "        text-align: right;\n",
       "    }\n",
       "</style>\n",
       "<table border=\"1\" class=\"dataframe\">\n",
       "  <thead>\n",
       "    <tr style=\"text-align: right;\">\n",
       "      <th></th>\n",
       "      <th>유량</th>\n",
       "    </tr>\n",
       "    <tr>\n",
       "      <th>DateTime</th>\n",
       "      <th></th>\n",
       "    </tr>\n",
       "  </thead>\n",
       "  <tbody>\n",
       "    <tr>\n",
       "      <th>2012-07-01 00:00:00</th>\n",
       "      <td>9.020000</td>\n",
       "    </tr>\n",
       "    <tr>\n",
       "      <th>2012-07-01 01:00:00</th>\n",
       "      <td>9.020000</td>\n",
       "    </tr>\n",
       "    <tr>\n",
       "      <th>2012-07-01 02:00:00</th>\n",
       "      <td>9.020000</td>\n",
       "    </tr>\n",
       "    <tr>\n",
       "      <th>2012-07-01 03:00:00</th>\n",
       "      <td>10.286667</td>\n",
       "    </tr>\n",
       "    <tr>\n",
       "      <th>2012-07-01 04:00:00</th>\n",
       "      <td>10.540000</td>\n",
       "    </tr>\n",
       "    <tr>\n",
       "      <th>...</th>\n",
       "      <td>...</td>\n",
       "    </tr>\n",
       "    <tr>\n",
       "      <th>2023-12-31 19:00:00</th>\n",
       "      <td>1.193333</td>\n",
       "    </tr>\n",
       "    <tr>\n",
       "      <th>2023-12-31 20:00:00</th>\n",
       "      <td>1.081667</td>\n",
       "    </tr>\n",
       "    <tr>\n",
       "      <th>2023-12-31 21:00:00</th>\n",
       "      <td>1.791667</td>\n",
       "    </tr>\n",
       "    <tr>\n",
       "      <th>2023-12-31 22:00:00</th>\n",
       "      <td>1.081667</td>\n",
       "    </tr>\n",
       "    <tr>\n",
       "      <th>2023-12-31 23:00:00</th>\n",
       "      <td>0.668333</td>\n",
       "    </tr>\n",
       "  </tbody>\n",
       "</table>\n",
       "<p>100824 rows × 1 columns</p>\n",
       "</div>"
      ],
      "text/plain": [
       "                            유량\n",
       "DateTime                      \n",
       "2012-07-01 00:00:00   9.020000\n",
       "2012-07-01 01:00:00   9.020000\n",
       "2012-07-01 02:00:00   9.020000\n",
       "2012-07-01 03:00:00  10.286667\n",
       "2012-07-01 04:00:00  10.540000\n",
       "...                        ...\n",
       "2023-12-31 19:00:00   1.193333\n",
       "2023-12-31 20:00:00   1.081667\n",
       "2023-12-31 21:00:00   1.791667\n",
       "2023-12-31 22:00:00   1.081667\n",
       "2023-12-31 23:00:00   0.668333\n",
       "\n",
       "[100824 rows x 1 columns]"
      ]
     },
     "execution_count": 110,
     "metadata": {},
     "output_type": "execute_result"
    }
   ],
   "source": [
    "jsc_flow = jsc_flow_yearly.resample(\"h\").mean()\n",
    "jsc_flow"
   ]
  },
  {
   "cell_type": "markdown",
   "id": "a1a3e094",
   "metadata": {},
   "source": [
    "수질 데이터 불러오기"
   ]
  },
  {
   "cell_type": "code",
   "execution_count": 111,
   "id": "a512c3cc",
   "metadata": {},
   "outputs": [],
   "source": [
    "jsc_dict_yearly = pd.read_excel(jsc_directory / files[1],\n",
    "                                 skiprows=[0, 2, 3],\n",
    "                                 header=[0], \n",
    "                                 sheet_name=None,\n",
    "                                 na_values='ND',\n",
    "                                 parse_dates=[0]  # 시간 특성을 date time으로 파싱\n",
    "                                )"
   ]
  },
  {
   "cell_type": "code",
   "execution_count": 112,
   "id": "b6627da3",
   "metadata": {},
   "outputs": [],
   "source": [
    "jsc_wQ_df = pd.concat([jsc_dict_yearly[year] for year in jsc_dict_yearly])\n"
   ]
  },
  {
   "cell_type": "code",
   "execution_count": 113,
   "id": "766d35ec",
   "metadata": {},
   "outputs": [],
   "source": [
    "jsc_wQ_df = jsc_wQ_df.set_index('측정일').drop('측정소명', axis=1).sort_index()"
   ]
  },
  {
   "cell_type": "code",
   "execution_count": 114,
   "id": "a521946d",
   "metadata": {},
   "outputs": [
    {
     "data": {
      "text/html": [
       "<div>\n",
       "<style scoped>\n",
       "    .dataframe tbody tr th:only-of-type {\n",
       "        vertical-align: middle;\n",
       "    }\n",
       "\n",
       "    .dataframe tbody tr th {\n",
       "        vertical-align: top;\n",
       "    }\n",
       "\n",
       "    .dataframe thead th {\n",
       "        text-align: right;\n",
       "    }\n",
       "</style>\n",
       "<table border=\"1\" class=\"dataframe\">\n",
       "  <thead>\n",
       "    <tr style=\"text-align: right;\">\n",
       "      <th></th>\n",
       "      <th>수온 (℃)</th>\n",
       "      <th>수소이온농도</th>\n",
       "      <th>전기전도도 (μS/cm)</th>\n",
       "      <th>용존산소 (mg/L)</th>\n",
       "      <th>총유기탄소 (mg/L)</th>\n",
       "      <th>총질소 (mg/L)</th>\n",
       "      <th>총인 (mg/L)</th>\n",
       "      <th>클로로필-a (mg/㎥)</th>\n",
       "    </tr>\n",
       "    <tr>\n",
       "      <th>DateTime</th>\n",
       "      <th></th>\n",
       "      <th></th>\n",
       "      <th></th>\n",
       "      <th></th>\n",
       "      <th></th>\n",
       "      <th></th>\n",
       "      <th></th>\n",
       "      <th></th>\n",
       "    </tr>\n",
       "  </thead>\n",
       "  <tbody>\n",
       "    <tr>\n",
       "      <th>2014-01-01 00:00:00</th>\n",
       "      <td>NaN</td>\n",
       "      <td>NaN</td>\n",
       "      <td>NaN</td>\n",
       "      <td>NaN</td>\n",
       "      <td>NaN</td>\n",
       "      <td>NaN</td>\n",
       "      <td>NaN</td>\n",
       "      <td>NaN</td>\n",
       "    </tr>\n",
       "    <tr>\n",
       "      <th>2014-01-01 01:00:00</th>\n",
       "      <td>NaN</td>\n",
       "      <td>NaN</td>\n",
       "      <td>NaN</td>\n",
       "      <td>NaN</td>\n",
       "      <td>NaN</td>\n",
       "      <td>NaN</td>\n",
       "      <td>NaN</td>\n",
       "      <td>NaN</td>\n",
       "    </tr>\n",
       "    <tr>\n",
       "      <th>2014-01-01 02:00:00</th>\n",
       "      <td>NaN</td>\n",
       "      <td>NaN</td>\n",
       "      <td>NaN</td>\n",
       "      <td>NaN</td>\n",
       "      <td>NaN</td>\n",
       "      <td>NaN</td>\n",
       "      <td>NaN</td>\n",
       "      <td>NaN</td>\n",
       "    </tr>\n",
       "    <tr>\n",
       "      <th>2014-01-01 03:00:00</th>\n",
       "      <td>NaN</td>\n",
       "      <td>NaN</td>\n",
       "      <td>NaN</td>\n",
       "      <td>NaN</td>\n",
       "      <td>NaN</td>\n",
       "      <td>NaN</td>\n",
       "      <td>NaN</td>\n",
       "      <td>NaN</td>\n",
       "    </tr>\n",
       "    <tr>\n",
       "      <th>2014-01-01 04:00:00</th>\n",
       "      <td>NaN</td>\n",
       "      <td>NaN</td>\n",
       "      <td>NaN</td>\n",
       "      <td>NaN</td>\n",
       "      <td>NaN</td>\n",
       "      <td>NaN</td>\n",
       "      <td>NaN</td>\n",
       "      <td>NaN</td>\n",
       "    </tr>\n",
       "    <tr>\n",
       "      <th>...</th>\n",
       "      <td>...</td>\n",
       "      <td>...</td>\n",
       "      <td>...</td>\n",
       "      <td>...</td>\n",
       "      <td>...</td>\n",
       "      <td>...</td>\n",
       "      <td>...</td>\n",
       "      <td>...</td>\n",
       "    </tr>\n",
       "    <tr>\n",
       "      <th>2023-12-31 19:00:00</th>\n",
       "      <td>5.8</td>\n",
       "      <td>8.0</td>\n",
       "      <td>265.0</td>\n",
       "      <td>13.2</td>\n",
       "      <td>3.7</td>\n",
       "      <td>3.727</td>\n",
       "      <td>0.076</td>\n",
       "      <td>5.1</td>\n",
       "    </tr>\n",
       "    <tr>\n",
       "      <th>2023-12-31 20:00:00</th>\n",
       "      <td>5.8</td>\n",
       "      <td>7.8</td>\n",
       "      <td>265.0</td>\n",
       "      <td>12.7</td>\n",
       "      <td>3.7</td>\n",
       "      <td>3.663</td>\n",
       "      <td>0.073</td>\n",
       "      <td>4.6</td>\n",
       "    </tr>\n",
       "    <tr>\n",
       "      <th>2023-12-31 21:00:00</th>\n",
       "      <td>5.8</td>\n",
       "      <td>7.7</td>\n",
       "      <td>266.0</td>\n",
       "      <td>12.4</td>\n",
       "      <td>3.8</td>\n",
       "      <td>3.573</td>\n",
       "      <td>0.069</td>\n",
       "      <td>4.5</td>\n",
       "    </tr>\n",
       "    <tr>\n",
       "      <th>2023-12-31 22:00:00</th>\n",
       "      <td>5.7</td>\n",
       "      <td>7.6</td>\n",
       "      <td>266.0</td>\n",
       "      <td>12.3</td>\n",
       "      <td>3.8</td>\n",
       "      <td>3.565</td>\n",
       "      <td>0.067</td>\n",
       "      <td>4.5</td>\n",
       "    </tr>\n",
       "    <tr>\n",
       "      <th>2023-12-31 23:00:00</th>\n",
       "      <td>5.7</td>\n",
       "      <td>7.6</td>\n",
       "      <td>266.0</td>\n",
       "      <td>12.2</td>\n",
       "      <td>3.8</td>\n",
       "      <td>3.565</td>\n",
       "      <td>0.065</td>\n",
       "      <td>4.5</td>\n",
       "    </tr>\n",
       "  </tbody>\n",
       "</table>\n",
       "<p>87646 rows × 8 columns</p>\n",
       "</div>"
      ],
      "text/plain": [
       "                     수온 (℃)  수소이온농도  전기전도도 (μS/cm)  용존산소 (mg/L)  총유기탄소 (mg/L)  \\\n",
       "DateTime                                                                        \n",
       "2014-01-01 00:00:00     NaN     NaN            NaN          NaN           NaN   \n",
       "2014-01-01 01:00:00     NaN     NaN            NaN          NaN           NaN   \n",
       "2014-01-01 02:00:00     NaN     NaN            NaN          NaN           NaN   \n",
       "2014-01-01 03:00:00     NaN     NaN            NaN          NaN           NaN   \n",
       "2014-01-01 04:00:00     NaN     NaN            NaN          NaN           NaN   \n",
       "...                     ...     ...            ...          ...           ...   \n",
       "2023-12-31 19:00:00     5.8     8.0          265.0         13.2           3.7   \n",
       "2023-12-31 20:00:00     5.8     7.8          265.0         12.7           3.7   \n",
       "2023-12-31 21:00:00     5.8     7.7          266.0         12.4           3.8   \n",
       "2023-12-31 22:00:00     5.7     7.6          266.0         12.3           3.8   \n",
       "2023-12-31 23:00:00     5.7     7.6          266.0         12.2           3.8   \n",
       "\n",
       "                     총질소 (mg/L)  총인 (mg/L)  클로로필-a (mg/㎥)  \n",
       "DateTime                                                   \n",
       "2014-01-01 00:00:00         NaN        NaN            NaN  \n",
       "2014-01-01 01:00:00         NaN        NaN            NaN  \n",
       "2014-01-01 02:00:00         NaN        NaN            NaN  \n",
       "2014-01-01 03:00:00         NaN        NaN            NaN  \n",
       "2014-01-01 04:00:00         NaN        NaN            NaN  \n",
       "...                         ...        ...            ...  \n",
       "2023-12-31 19:00:00       3.727      0.076            5.1  \n",
       "2023-12-31 20:00:00       3.663      0.073            4.6  \n",
       "2023-12-31 21:00:00       3.573      0.069            4.5  \n",
       "2023-12-31 22:00:00       3.565      0.067            4.5  \n",
       "2023-12-31 23:00:00       3.565      0.065            4.5  \n",
       "\n",
       "[87646 rows x 8 columns]"
      ]
     },
     "execution_count": 114,
     "metadata": {},
     "output_type": "execute_result"
    }
   ],
   "source": [
    "jsc_wQ_df.index.name = 'DateTime'\n",
    "jsc_wQ_df"
   ]
  },
  {
   "cell_type": "markdown",
   "id": "0a0a3dbf",
   "metadata": {},
   "source": [
    "**수질 데이터와 유량 데이터 통합**"
   ]
  },
  {
   "cell_type": "markdown",
   "id": "8b806afc",
   "metadata": {},
   "source": [
    "수질 데이터와 유량 데이터를 날짜 기준으로 통합한다."
   ]
  },
  {
   "cell_type": "code",
   "execution_count": 115,
   "id": "cc9270b8",
   "metadata": {},
   "outputs": [
    {
     "data": {
      "text/html": [
       "<div>\n",
       "<style scoped>\n",
       "    .dataframe tbody tr th:only-of-type {\n",
       "        vertical-align: middle;\n",
       "    }\n",
       "\n",
       "    .dataframe tbody tr th {\n",
       "        vertical-align: top;\n",
       "    }\n",
       "\n",
       "    .dataframe thead th {\n",
       "        text-align: right;\n",
       "    }\n",
       "</style>\n",
       "<table border=\"1\" class=\"dataframe\">\n",
       "  <thead>\n",
       "    <tr style=\"text-align: right;\">\n",
       "      <th></th>\n",
       "      <th>수온 (℃)</th>\n",
       "      <th>수소이온농도</th>\n",
       "      <th>전기전도도 (μS/cm)</th>\n",
       "      <th>용존산소 (mg/L)</th>\n",
       "      <th>총유기탄소 (mg/L)</th>\n",
       "      <th>총질소 (mg/L)</th>\n",
       "      <th>총인 (mg/L)</th>\n",
       "      <th>클로로필-a (mg/㎥)</th>\n",
       "      <th>유량</th>\n",
       "    </tr>\n",
       "    <tr>\n",
       "      <th>DateTime</th>\n",
       "      <th></th>\n",
       "      <th></th>\n",
       "      <th></th>\n",
       "      <th></th>\n",
       "      <th></th>\n",
       "      <th></th>\n",
       "      <th></th>\n",
       "      <th></th>\n",
       "      <th></th>\n",
       "    </tr>\n",
       "  </thead>\n",
       "  <tbody>\n",
       "    <tr>\n",
       "      <th>2014-01-01 00:00:00</th>\n",
       "      <td>NaN</td>\n",
       "      <td>NaN</td>\n",
       "      <td>NaN</td>\n",
       "      <td>NaN</td>\n",
       "      <td>NaN</td>\n",
       "      <td>NaN</td>\n",
       "      <td>NaN</td>\n",
       "      <td>NaN</td>\n",
       "      <td>5.110000</td>\n",
       "    </tr>\n",
       "    <tr>\n",
       "      <th>2014-01-01 01:00:00</th>\n",
       "      <td>NaN</td>\n",
       "      <td>NaN</td>\n",
       "      <td>NaN</td>\n",
       "      <td>NaN</td>\n",
       "      <td>NaN</td>\n",
       "      <td>NaN</td>\n",
       "      <td>NaN</td>\n",
       "      <td>NaN</td>\n",
       "      <td>5.110000</td>\n",
       "    </tr>\n",
       "    <tr>\n",
       "      <th>2014-01-01 02:00:00</th>\n",
       "      <td>NaN</td>\n",
       "      <td>NaN</td>\n",
       "      <td>NaN</td>\n",
       "      <td>NaN</td>\n",
       "      <td>NaN</td>\n",
       "      <td>NaN</td>\n",
       "      <td>NaN</td>\n",
       "      <td>NaN</td>\n",
       "      <td>5.110000</td>\n",
       "    </tr>\n",
       "    <tr>\n",
       "      <th>2014-01-01 03:00:00</th>\n",
       "      <td>NaN</td>\n",
       "      <td>NaN</td>\n",
       "      <td>NaN</td>\n",
       "      <td>NaN</td>\n",
       "      <td>NaN</td>\n",
       "      <td>NaN</td>\n",
       "      <td>NaN</td>\n",
       "      <td>NaN</td>\n",
       "      <td>5.110000</td>\n",
       "    </tr>\n",
       "    <tr>\n",
       "      <th>2014-01-01 04:00:00</th>\n",
       "      <td>NaN</td>\n",
       "      <td>NaN</td>\n",
       "      <td>NaN</td>\n",
       "      <td>NaN</td>\n",
       "      <td>NaN</td>\n",
       "      <td>NaN</td>\n",
       "      <td>NaN</td>\n",
       "      <td>NaN</td>\n",
       "      <td>5.110000</td>\n",
       "    </tr>\n",
       "    <tr>\n",
       "      <th>...</th>\n",
       "      <td>...</td>\n",
       "      <td>...</td>\n",
       "      <td>...</td>\n",
       "      <td>...</td>\n",
       "      <td>...</td>\n",
       "      <td>...</td>\n",
       "      <td>...</td>\n",
       "      <td>...</td>\n",
       "      <td>...</td>\n",
       "    </tr>\n",
       "    <tr>\n",
       "      <th>2023-12-31 19:00:00</th>\n",
       "      <td>5.8</td>\n",
       "      <td>8.0</td>\n",
       "      <td>265.0</td>\n",
       "      <td>13.2</td>\n",
       "      <td>3.7</td>\n",
       "      <td>3.727</td>\n",
       "      <td>0.076</td>\n",
       "      <td>5.1</td>\n",
       "      <td>1.193333</td>\n",
       "    </tr>\n",
       "    <tr>\n",
       "      <th>2023-12-31 20:00:00</th>\n",
       "      <td>5.8</td>\n",
       "      <td>7.8</td>\n",
       "      <td>265.0</td>\n",
       "      <td>12.7</td>\n",
       "      <td>3.7</td>\n",
       "      <td>3.663</td>\n",
       "      <td>0.073</td>\n",
       "      <td>4.6</td>\n",
       "      <td>1.081667</td>\n",
       "    </tr>\n",
       "    <tr>\n",
       "      <th>2023-12-31 21:00:00</th>\n",
       "      <td>5.8</td>\n",
       "      <td>7.7</td>\n",
       "      <td>266.0</td>\n",
       "      <td>12.4</td>\n",
       "      <td>3.8</td>\n",
       "      <td>3.573</td>\n",
       "      <td>0.069</td>\n",
       "      <td>4.5</td>\n",
       "      <td>1.791667</td>\n",
       "    </tr>\n",
       "    <tr>\n",
       "      <th>2023-12-31 22:00:00</th>\n",
       "      <td>5.7</td>\n",
       "      <td>7.6</td>\n",
       "      <td>266.0</td>\n",
       "      <td>12.3</td>\n",
       "      <td>3.8</td>\n",
       "      <td>3.565</td>\n",
       "      <td>0.067</td>\n",
       "      <td>4.5</td>\n",
       "      <td>1.081667</td>\n",
       "    </tr>\n",
       "    <tr>\n",
       "      <th>2023-12-31 23:00:00</th>\n",
       "      <td>5.7</td>\n",
       "      <td>7.6</td>\n",
       "      <td>266.0</td>\n",
       "      <td>12.2</td>\n",
       "      <td>3.8</td>\n",
       "      <td>3.565</td>\n",
       "      <td>0.065</td>\n",
       "      <td>4.5</td>\n",
       "      <td>0.668333</td>\n",
       "    </tr>\n",
       "  </tbody>\n",
       "</table>\n",
       "<p>87646 rows × 9 columns</p>\n",
       "</div>"
      ],
      "text/plain": [
       "                     수온 (℃)  수소이온농도  전기전도도 (μS/cm)  용존산소 (mg/L)  총유기탄소 (mg/L)  \\\n",
       "DateTime                                                                        \n",
       "2014-01-01 00:00:00     NaN     NaN            NaN          NaN           NaN   \n",
       "2014-01-01 01:00:00     NaN     NaN            NaN          NaN           NaN   \n",
       "2014-01-01 02:00:00     NaN     NaN            NaN          NaN           NaN   \n",
       "2014-01-01 03:00:00     NaN     NaN            NaN          NaN           NaN   \n",
       "2014-01-01 04:00:00     NaN     NaN            NaN          NaN           NaN   \n",
       "...                     ...     ...            ...          ...           ...   \n",
       "2023-12-31 19:00:00     5.8     8.0          265.0         13.2           3.7   \n",
       "2023-12-31 20:00:00     5.8     7.8          265.0         12.7           3.7   \n",
       "2023-12-31 21:00:00     5.8     7.7          266.0         12.4           3.8   \n",
       "2023-12-31 22:00:00     5.7     7.6          266.0         12.3           3.8   \n",
       "2023-12-31 23:00:00     5.7     7.6          266.0         12.2           3.8   \n",
       "\n",
       "                     총질소 (mg/L)  총인 (mg/L)  클로로필-a (mg/㎥)        유량  \n",
       "DateTime                                                             \n",
       "2014-01-01 00:00:00         NaN        NaN            NaN  5.110000  \n",
       "2014-01-01 01:00:00         NaN        NaN            NaN  5.110000  \n",
       "2014-01-01 02:00:00         NaN        NaN            NaN  5.110000  \n",
       "2014-01-01 03:00:00         NaN        NaN            NaN  5.110000  \n",
       "2014-01-01 04:00:00         NaN        NaN            NaN  5.110000  \n",
       "...                         ...        ...            ...       ...  \n",
       "2023-12-31 19:00:00       3.727      0.076            5.1  1.193333  \n",
       "2023-12-31 20:00:00       3.663      0.073            4.6  1.081667  \n",
       "2023-12-31 21:00:00       3.573      0.069            4.5  1.791667  \n",
       "2023-12-31 22:00:00       3.565      0.067            4.5  1.081667  \n",
       "2023-12-31 23:00:00       3.565      0.065            4.5  0.668333  \n",
       "\n",
       "[87646 rows x 9 columns]"
      ]
     },
     "execution_count": 115,
     "metadata": {},
     "output_type": "execute_result"
    }
   ],
   "source": [
    "jsc_data = jsc_wQ_df.join(jsc_flow, how='inner')\n",
    "jsc_data"
   ]
  },
  {
   "cell_type": "code",
   "execution_count": 116,
   "id": "e62cb391",
   "metadata": {},
   "outputs": [
    {
     "name": "stdout",
     "output_type": "stream",
     "text": [
      "<class 'pandas.core.frame.DataFrame'>\n",
      "DatetimeIndex: 87646 entries, 2014-01-01 00:00:00 to 2023-12-31 23:00:00\n",
      "Data columns (total 9 columns):\n",
      " #   Column         Non-Null Count  Dtype  \n",
      "---  ------         --------------  -----  \n",
      " 0   수온 (℃)         74813 non-null  float64\n",
      " 1   수소이온농도         74799 non-null  float64\n",
      " 2   전기전도도 (μS/cm)  74469 non-null  float64\n",
      " 3   용존산소 (mg/L)    74055 non-null  float64\n",
      " 4   총유기탄소 (mg/L)   68089 non-null  float64\n",
      " 5   총질소 (mg/L)     70289 non-null  float64\n",
      " 6   총인 (mg/L)      70657 non-null  float64\n",
      " 7   클로로필-a (mg/㎥)  69530 non-null  float64\n",
      " 8   유량             87071 non-null  float64\n",
      "dtypes: float64(9)\n",
      "memory usage: 6.7 MB\n"
     ]
    }
   ],
   "source": [
    "jsc_data.info()"
   ]
  },
  {
   "cell_type": "markdown",
   "id": "2b2c222e",
   "metadata": {},
   "source": [
    "영어 특성명 지정"
   ]
  },
  {
   "cell_type": "code",
   "execution_count": 117,
   "id": "d6e6f774",
   "metadata": {},
   "outputs": [
    {
     "data": {
      "text/plain": [
       "{'수온 (℃)': 'Water_TA',\n",
       " '수소이온농도': 'pH',\n",
       " '전기전도도 (μS/cm)': 'EC',\n",
       " '용존산소 (mg/L)': 'DO',\n",
       " '탁도 (NTU)': 'Turb',\n",
       " '총유기탄소 (mg/L)': 'TOC',\n",
       " '총질소 (mg/L)': 'TN',\n",
       " '총인 (mg/L)': 'TP',\n",
       " '클로로필-a (mg/㎥)': 'CHLA',\n",
       " '기온(°C)': 'Air_TA',\n",
       " '강수량(mm)': 'RN',\n",
       " '풍속(m/s)': 'WS',\n",
       " '일조(hr)': 'SS',\n",
       " '일사(MJ/m2)': 'SI',\n",
       " '전운량(10분위)': 'CA_TOT',\n",
       " '중하층운량(10분위)': 'CA_MID',\n",
       " '상류수위(EL.m)': 'Up_WL',\n",
       " '하류수위(EL.m)': 'Down_WL',\n",
       " '유입량(㎥/s)': 'Inflow',\n",
       " '방류량(㎥/s)': 'Discharge',\n",
       " '유량': 'Flow'}"
      ]
     },
     "execution_count": 117,
     "metadata": {},
     "output_type": "execute_result"
    }
   ],
   "source": [
    "features_english['유량'] = 'Flow'\n",
    "features_english"
   ]
  },
  {
   "cell_type": "code",
   "execution_count": 118,
   "id": "9facc5e6",
   "metadata": {},
   "outputs": [
    {
     "name": "stdout",
     "output_type": "stream",
     "text": [
      "<class 'pandas.core.frame.DataFrame'>\n",
      "DatetimeIndex: 87646 entries, 2014-01-01 00:00:00 to 2023-12-31 23:00:00\n",
      "Data columns (total 9 columns):\n",
      " #   Column    Non-Null Count  Dtype  \n",
      "---  ------    --------------  -----  \n",
      " 0   Water_TA  74813 non-null  float64\n",
      " 1   pH        74799 non-null  float64\n",
      " 2   EC        74469 non-null  float64\n",
      " 3   DO        74055 non-null  float64\n",
      " 4   TOC       68089 non-null  float64\n",
      " 5   TN        70289 non-null  float64\n",
      " 6   TP        70657 non-null  float64\n",
      " 7   CHLA      69530 non-null  float64\n",
      " 8   Flow      87071 non-null  float64\n",
      "dtypes: float64(9)\n",
      "memory usage: 6.7 MB\n"
     ]
    }
   ],
   "source": [
    "jsc_data = jsc_data.rename(columns=features_english)\n",
    "jsc_data.info()"
   ]
  },
  {
   "cell_type": "markdown",
   "id": "52c88cda",
   "metadata": {},
   "source": [
    "지석천 유량 데이터에 음수 포함되어 삭제 필요"
   ]
  },
  {
   "cell_type": "code",
   "execution_count": 119,
   "id": "366ad7f2",
   "metadata": {},
   "outputs": [
    {
     "data": {
      "text/html": [
       "<div>\n",
       "<style scoped>\n",
       "    .dataframe tbody tr th:only-of-type {\n",
       "        vertical-align: middle;\n",
       "    }\n",
       "\n",
       "    .dataframe tbody tr th {\n",
       "        vertical-align: top;\n",
       "    }\n",
       "\n",
       "    .dataframe thead th {\n",
       "        text-align: right;\n",
       "    }\n",
       "</style>\n",
       "<table border=\"1\" class=\"dataframe\">\n",
       "  <thead>\n",
       "    <tr style=\"text-align: right;\">\n",
       "      <th></th>\n",
       "      <th>Water_TA</th>\n",
       "      <th>pH</th>\n",
       "      <th>EC</th>\n",
       "      <th>DO</th>\n",
       "      <th>TOC</th>\n",
       "      <th>TN</th>\n",
       "      <th>TP</th>\n",
       "      <th>CHLA</th>\n",
       "      <th>Flow</th>\n",
       "    </tr>\n",
       "  </thead>\n",
       "  <tbody>\n",
       "    <tr>\n",
       "      <th>count</th>\n",
       "      <td>74813.000000</td>\n",
       "      <td>74799.000000</td>\n",
       "      <td>74469.000000</td>\n",
       "      <td>74055.000000</td>\n",
       "      <td>68089.000000</td>\n",
       "      <td>70289.000000</td>\n",
       "      <td>70657.000000</td>\n",
       "      <td>69530.000000</td>\n",
       "      <td>87071.000000</td>\n",
       "    </tr>\n",
       "    <tr>\n",
       "      <th>mean</th>\n",
       "      <td>17.136796</td>\n",
       "      <td>7.953344</td>\n",
       "      <td>246.149378</td>\n",
       "      <td>9.425010</td>\n",
       "      <td>3.346692</td>\n",
       "      <td>2.800696</td>\n",
       "      <td>0.089232</td>\n",
       "      <td>31.127953</td>\n",
       "      <td>11.802198</td>\n",
       "    </tr>\n",
       "    <tr>\n",
       "      <th>std</th>\n",
       "      <td>8.639400</td>\n",
       "      <td>0.785745</td>\n",
       "      <td>56.960788</td>\n",
       "      <td>3.321524</td>\n",
       "      <td>1.194048</td>\n",
       "      <td>1.031938</td>\n",
       "      <td>0.041095</td>\n",
       "      <td>33.950539</td>\n",
       "      <td>46.127937</td>\n",
       "    </tr>\n",
       "    <tr>\n",
       "      <th>min</th>\n",
       "      <td>0.200000</td>\n",
       "      <td>6.400000</td>\n",
       "      <td>74.000000</td>\n",
       "      <td>0.500000</td>\n",
       "      <td>1.000000</td>\n",
       "      <td>0.212000</td>\n",
       "      <td>0.003000</td>\n",
       "      <td>0.600000</td>\n",
       "      <td>-4.640000</td>\n",
       "    </tr>\n",
       "    <tr>\n",
       "      <th>25%</th>\n",
       "      <td>9.200000</td>\n",
       "      <td>7.300000</td>\n",
       "      <td>209.000000</td>\n",
       "      <td>7.200000</td>\n",
       "      <td>2.500000</td>\n",
       "      <td>2.087000</td>\n",
       "      <td>0.058000</td>\n",
       "      <td>10.500000</td>\n",
       "      <td>2.645000</td>\n",
       "    </tr>\n",
       "    <tr>\n",
       "      <th>50%</th>\n",
       "      <td>17.700000</td>\n",
       "      <td>7.700000</td>\n",
       "      <td>239.000000</td>\n",
       "      <td>9.300000</td>\n",
       "      <td>3.100000</td>\n",
       "      <td>2.552000</td>\n",
       "      <td>0.083000</td>\n",
       "      <td>19.200000</td>\n",
       "      <td>4.465000</td>\n",
       "    </tr>\n",
       "    <tr>\n",
       "      <th>75%</th>\n",
       "      <td>24.600000</td>\n",
       "      <td>8.700000</td>\n",
       "      <td>284.000000</td>\n",
       "      <td>11.800000</td>\n",
       "      <td>4.000000</td>\n",
       "      <td>3.310000</td>\n",
       "      <td>0.114000</td>\n",
       "      <td>38.900000</td>\n",
       "      <td>7.743333</td>\n",
       "    </tr>\n",
       "    <tr>\n",
       "      <th>max</th>\n",
       "      <td>37.000000</td>\n",
       "      <td>10.200000</td>\n",
       "      <td>465.000000</td>\n",
       "      <td>19.700000</td>\n",
       "      <td>9.900000</td>\n",
       "      <td>9.329000</td>\n",
       "      <td>0.786000</td>\n",
       "      <td>500.000000</td>\n",
       "      <td>1904.176667</td>\n",
       "    </tr>\n",
       "  </tbody>\n",
       "</table>\n",
       "</div>"
      ],
      "text/plain": [
       "           Water_TA            pH            EC            DO           TOC  \\\n",
       "count  74813.000000  74799.000000  74469.000000  74055.000000  68089.000000   \n",
       "mean      17.136796      7.953344    246.149378      9.425010      3.346692   \n",
       "std        8.639400      0.785745     56.960788      3.321524      1.194048   \n",
       "min        0.200000      6.400000     74.000000      0.500000      1.000000   \n",
       "25%        9.200000      7.300000    209.000000      7.200000      2.500000   \n",
       "50%       17.700000      7.700000    239.000000      9.300000      3.100000   \n",
       "75%       24.600000      8.700000    284.000000     11.800000      4.000000   \n",
       "max       37.000000     10.200000    465.000000     19.700000      9.900000   \n",
       "\n",
       "                 TN            TP          CHLA          Flow  \n",
       "count  70289.000000  70657.000000  69530.000000  87071.000000  \n",
       "mean       2.800696      0.089232     31.127953     11.802198  \n",
       "std        1.031938      0.041095     33.950539     46.127937  \n",
       "min        0.212000      0.003000      0.600000     -4.640000  \n",
       "25%        2.087000      0.058000     10.500000      2.645000  \n",
       "50%        2.552000      0.083000     19.200000      4.465000  \n",
       "75%        3.310000      0.114000     38.900000      7.743333  \n",
       "max        9.329000      0.786000    500.000000   1904.176667  "
      ]
     },
     "execution_count": 119,
     "metadata": {},
     "output_type": "execute_result"
    }
   ],
   "source": [
    "jsc_data.describe()"
   ]
  },
  {
   "cell_type": "code",
   "execution_count": 120,
   "id": "02c1ffd5",
   "metadata": {},
   "outputs": [],
   "source": [
    "mask = jsc_data.loc[:, 'Flow'] >= 0\n",
    "jsc_data = jsc_data[mask]"
   ]
  },
  {
   "cell_type": "markdown",
   "id": "84d98d10",
   "metadata": {},
   "source": [
    "**결측치 보간**"
   ]
  },
  {
   "cell_type": "code",
   "execution_count": 121,
   "id": "6d80b192",
   "metadata": {},
   "outputs": [],
   "source": [
    "jsc_df = jsc_data.interpolate(method='time', limit = 12, limit_direction='both').dropna()"
   ]
  },
  {
   "cell_type": "code",
   "execution_count": 122,
   "id": "efd51812",
   "metadata": {},
   "outputs": [
    {
     "name": "stdout",
     "output_type": "stream",
     "text": [
      "<class 'pandas.core.frame.DataFrame'>\n",
      "DatetimeIndex: 65653 entries, 2014-03-31 12:00:00 to 2023-12-31 23:00:00\n",
      "Data columns (total 9 columns):\n",
      " #   Column    Non-Null Count  Dtype  \n",
      "---  ------    --------------  -----  \n",
      " 0   Water_TA  65653 non-null  float64\n",
      " 1   pH        65653 non-null  float64\n",
      " 2   EC        65653 non-null  float64\n",
      " 3   DO        65653 non-null  float64\n",
      " 4   TOC       65653 non-null  float64\n",
      " 5   TN        65653 non-null  float64\n",
      " 6   TP        65653 non-null  float64\n",
      " 7   CHLA      65653 non-null  float64\n",
      " 8   Flow      65653 non-null  float64\n",
      "dtypes: float64(9)\n",
      "memory usage: 5.0 MB\n"
     ]
    }
   ],
   "source": [
    "jsc_df.info()"
   ]
  },
  {
   "cell_type": "markdown",
   "id": "7c73cffd",
   "metadata": {},
   "source": [
    "## 승촌보, 지석천, 죽산보 CHLA, 방류량(유량) 비교"
   ]
  },
  {
   "cell_type": "markdown",
   "id": "85f7377f",
   "metadata": {},
   "source": [
    "### Chl-a 분포 비교"
   ]
  },
  {
   "cell_type": "markdown",
   "id": "69458b27",
   "metadata": {},
   "source": [
    "- Chl-a 분포"
   ]
  },
  {
   "cell_type": "code",
   "execution_count": 123,
   "id": "bcb3d1b2",
   "metadata": {},
   "outputs": [
    {
     "data": {
      "image/png": "[encoded data removed]",
      "text/plain": [
       "<Figure size 640x480 with 1 Axes>"
      ]
     },
     "metadata": {},
     "output_type": "display_data"
    }
   ],
   "source": [
    "chla_df = pd.concat([scb_df['CHLA'], jsc_df['CHLA'], jsb_df['CHLA']], axis=1)\n",
    "chla_df.columns = ['scb_chla', 'jsc_chla', 'jsb_chla']\n",
    "chla_df = chla_df.dropna()\n",
    "_ = sns.boxplot(chla_df, orient='h')"
   ]
  },
  {
   "cell_type": "markdown",
   "id": "e8ebeb2c",
   "metadata": {},
   "source": [
    "### `CHLA`와 기타 특성들 사이의 상관관계"
   ]
  },
  {
   "cell_type": "markdown",
   "id": "21a13c5d",
   "metadata": {},
   "source": [
    "**경우: 죽산보**"
   ]
  },
  {
   "cell_type": "code",
   "execution_count": null,
   "id": "cad1e19f",
   "metadata": {},
   "outputs": [
    {
     "data": {
      "text/plain": [
       "<Axes: xlabel='Correlation with CHLA of JSB'>"
      ]
     },
     "metadata": {},
     "output_type": "display_data"
    },
    {
     "data": {
      "image/png": "[encoded data removed]",
      "text/plain": [
       "<Figure size 640x480 with 1 Axes>"
      ]
     },
     "metadata": {},
     "output_type": "display_data"
    }
   ],
   "source": [
    "jsb_df.corr()['CHLA'].sort_values(ascending=False)[1:].plot.bar(xlabel=\"Correlation with CHLA of JSB\", rot=90)"
   ]
  },
  {
   "cell_type": "markdown",
   "id": "ee9cdf93",
   "metadata": {},
   "source": [
    "**경우: 지석천**"
   ]
  },
  {
   "cell_type": "code",
   "execution_count": null,
   "id": "54238ed8",
   "metadata": {},
   "outputs": [
    {
     "data": {
      "text/plain": [
       "<Axes: xlabel='Correlation with CHLA of JSC'>"
      ]
     },
     "metadata": {},
     "output_type": "display_data"
    },
    {
     "data": {
      "image/png": "[encoded data removed]",
      "text/plain": [
       "<Figure size 640x480 with 1 Axes>"
      ]
     },
     "metadata": {},
     "output_type": "display_data"
    }
   ],
   "source": [
    "jsc_data.corr()['CHLA'].sort_values(ascending=False)[1:].plot.bar(xlabel=\"Correlation with CHLA of JSC\", rot=90)"
   ]
  },
  {
   "cell_type": "markdown",
   "id": "eec6bba2",
   "metadata": {},
   "source": [
    "**경우: 승촌보**"
   ]
  },
  {
   "cell_type": "code",
   "execution_count": null,
   "id": "46b24cba",
   "metadata": {},
   "outputs": [
    {
     "data": {
      "text/plain": [
       "<Axes: xlabel='Correlation with CHLA of SCB'>"
      ]
     },
     "metadata": {},
     "output_type": "display_data"
    },
    {
     "data": {
      "image/png": "[encoded data removed]",
      "text/plain": [
       "<Figure size 640x480 with 1 Axes>"
      ]
     },
     "metadata": {},
     "output_type": "display_data"
    }
   ],
   "source": [
    "scb_df.corr()['CHLA'].sort_values(ascending=False)[1:].plot.bar(xlabel=\"Correlation with CHLA of SCB\", rot=90)"
   ]
  },
  {
   "cell_type": "markdown",
   "id": "238b4307",
   "metadata": {},
   "source": [
    "### 죽산보 Chl-a와 승촌보 Chl-a와의 상관관계"
   ]
  },
  {
   "cell_type": "markdown",
   "id": "d22c2a6b",
   "metadata": {},
   "source": [
    "죽산보의 Chl-a와 죽산보, 지석천의 Chl-a와의 상관관계"
   ]
  },
  {
   "cell_type": "code",
   "execution_count": 168,
   "id": "15cf9c9d",
   "metadata": {},
   "outputs": [
    {
     "data": {
      "text/plain": [
       "scb_chla    0.291837\n",
       "jsc_chla    0.093042\n",
       "jsb_chla    1.000000\n",
       "Name: jsb_chla, dtype: float64"
      ]
     },
     "execution_count": 168,
     "metadata": {},
     "output_type": "execute_result"
    }
   ],
   "source": [
    "chla_df.corr().loc[:, 'jsb_chla']"
   ]
  },
  {
   "cell_type": "markdown",
   "id": "c074d32b",
   "metadata": {},
   "source": [
    "- 일평균 상관관계"
   ]
  },
  {
   "cell_type": "code",
   "execution_count": 169,
   "id": "34c899fe",
   "metadata": {},
   "outputs": [
    {
     "data": {
      "text/plain": [
       "scb_chla    0.302934\n",
       "jsc_chla    0.088501\n",
       "jsb_chla    1.000000\n",
       "Name: jsb_chla, dtype: float64"
      ]
     },
     "execution_count": 169,
     "metadata": {},
     "output_type": "execute_result"
    }
   ],
   "source": [
    "chla_daily_df = chla_df.resample('d').mean()\n",
    "chla_daily_df.corr().loc[:, 'jsb_chla']"
   ]
  },
  {
   "cell_type": "markdown",
   "id": "06111ebc",
   "metadata": {},
   "source": [
    "- 승촌보 CHLA 1일 쉬프트 후 상관관계"
   ]
  },
  {
   "cell_type": "code",
   "execution_count": 150,
   "id": "1fdcd9d2",
   "metadata": {},
   "outputs": [
    {
     "data": {
      "text/plain": [
       "scb_chla            0.302934\n",
       "jsc_chla            0.088501\n",
       "jsb_chla            1.000000\n",
       "scb_chla_shift_1    0.276325\n",
       "Name: jsb_chla, dtype: float64"
      ]
     },
     "execution_count": 150,
     "metadata": {},
     "output_type": "execute_result"
    }
   ],
   "source": [
    "chla_daily_df['scb_chla_shift_1'] = chla_daily_df['scb_chla'].shift(periods=1, freq='D')\n",
    "chla_daily_df.corr().loc[:, 'jsb_chla']"
   ]
  },
  {
   "cell_type": "markdown",
   "id": "b4593b04",
   "metadata": {},
   "source": [
    "**윈도우 적용: 지난 2일 동안의 승촌보 Chl-a 평균값과의 상관관계**"
   ]
  },
  {
   "cell_type": "markdown",
   "id": "7f9eca02",
   "metadata": {},
   "source": [
    "아래 함수는\n",
    "지정된 특성에 대해 일(day) 단위의 윈도우(window)를 사용하여 지정된 기간동안의 평균값을 새로운 특성으로 추가한다. 특성의 기본값으로 수온과 방류량을 사용한다.\n",
    "\n",
    "- 일(24시간) 단위로 윈도우 사용\n",
    "- 일(day) 수를 지정하면 24시간 단위로 변환해서 윈도우 적용.\n",
    "- 연도(year) 지정 가능"
   ]
  },
  {
   "cell_type": "code",
   "execution_count": 151,
   "id": "20b20130",
   "metadata": {},
   "outputs": [],
   "source": [
    "def feature_windowing(df, *, features=[], window=1, suffix=None, year=None):\n",
    "    \"\"\"\n",
    "    df: 주어진 데이터프레임\n",
    "    features: 윈도우 적용대상 특성.\n",
    "    window: 일(day) 단위 윈도우 크기. 기본값은 1일.\n",
    "    suffix: 윈도우 적용된 특성에 사용되는 접미사\n",
    "    year: 연도 지정. 미 지정시 전체 데이터셋 활용\n",
    "    \"\"\"\n",
    "\n",
    "    window_ = f\"{window*24}h\" # 일 단위를 24시간 단위로 변환\n",
    "\n",
    "    new_features = dict()\n",
    "    for ft in features:\n",
    "        if suffix:\n",
    "            new_features[str(window)+'d_'+ft+suffix] = df[ft].rolling(window=window_, min_periods=1).mean()\n",
    "        else:\n",
    "            new_features[str(window)+'d_'+ft] = df[ft].rolling(window=window_, min_periods=1).mean()\n",
    "    new_features = pd.DataFrame(new_features)\n",
    "\n",
    "    df_added = pd.concat([df, new_features], axis=1)\n",
    "    \n",
    "    if year:\n",
    "        mask = df_added.index.year == year\n",
    "        df_added = df_added.loc[mask]\n",
    "    \n",
    "    return df_added"
   ]
  },
  {
   "cell_type": "code",
   "execution_count": 155,
   "id": "905de82f",
   "metadata": {},
   "outputs": [
    {
     "data": {
      "text/plain": [
       "scb_chla            0.302934\n",
       "jsc_chla            0.088501\n",
       "jsb_chla            1.000000\n",
       "scb_chla_shift_1    0.276325\n",
       "2d_scb_chla         0.299436\n",
       "2d_jsc_chla         0.079991\n",
       "Name: jsb_chla, dtype: float64"
      ]
     },
     "execution_count": 155,
     "metadata": {},
     "output_type": "execute_result"
    }
   ],
   "source": [
    "feature_windowing(chla_daily_df, features=['scb_chla', 'jsc_chla'], window=2).corr().loc[:, 'jsb_chla']"
   ]
  },
  {
   "cell_type": "markdown",
   "id": "2aa5fa04",
   "metadata": {},
   "source": [
    "### 방류량, 유량, 유입량 분포"
   ]
  },
  {
   "cell_type": "code",
   "execution_count": 157,
   "id": "89c77b33",
   "metadata": {},
   "outputs": [],
   "source": [
    "flow_df = pd.concat([scb_df['Discharge'], jsc_df['Flow'], jsb_df['Inflow'], jsb_df['Discharge']], axis=1)\n",
    "flow_df.columns = ['scb_discharge', 'jsc_flow', 'jsb_inflow', 'jsb_discharge']\n",
    "flow_df = flow_df.dropna()"
   ]
  },
  {
   "cell_type": "markdown",
   "id": "87256366",
   "metadata": {},
   "source": [
    "**지석천 유입량 = 승촌보 방류량 + 지석천 유량???**"
   ]
  },
  {
   "cell_type": "code",
   "execution_count": 158,
   "id": "ae974285",
   "metadata": {},
   "outputs": [],
   "source": [
    "flow_df['scb+jsc'] = flow_df['scb_discharge'] + flow_df['jsc_flow']"
   ]
  },
  {
   "cell_type": "code",
   "execution_count": 159,
   "id": "6dc2552f",
   "metadata": {},
   "outputs": [
    {
     "data": {
      "text/html": [
       "<div>\n",
       "<style scoped>\n",
       "    .dataframe tbody tr th:only-of-type {\n",
       "        vertical-align: middle;\n",
       "    }\n",
       "\n",
       "    .dataframe tbody tr th {\n",
       "        vertical-align: top;\n",
       "    }\n",
       "\n",
       "    .dataframe thead th {\n",
       "        text-align: right;\n",
       "    }\n",
       "</style>\n",
       "<table border=\"1\" class=\"dataframe\">\n",
       "  <thead>\n",
       "    <tr style=\"text-align: right;\">\n",
       "      <th></th>\n",
       "      <th>scb_discharge</th>\n",
       "      <th>jsc_flow</th>\n",
       "      <th>jsb_inflow</th>\n",
       "      <th>jsb_discharge</th>\n",
       "      <th>scb+jsc</th>\n",
       "    </tr>\n",
       "  </thead>\n",
       "  <tbody>\n",
       "    <tr>\n",
       "      <th>count</th>\n",
       "      <td>38987.000000</td>\n",
       "      <td>38987.000000</td>\n",
       "      <td>38987.000000</td>\n",
       "      <td>38987.000000</td>\n",
       "      <td>38987.000000</td>\n",
       "    </tr>\n",
       "    <tr>\n",
       "      <th>mean</th>\n",
       "      <td>23.755848</td>\n",
       "      <td>8.090212</td>\n",
       "      <td>39.928416</td>\n",
       "      <td>38.475783</td>\n",
       "      <td>31.846060</td>\n",
       "    </tr>\n",
       "    <tr>\n",
       "      <th>std</th>\n",
       "      <td>42.391332</td>\n",
       "      <td>21.244834</td>\n",
       "      <td>74.556119</td>\n",
       "      <td>74.893501</td>\n",
       "      <td>58.602248</td>\n",
       "    </tr>\n",
       "    <tr>\n",
       "      <th>min</th>\n",
       "      <td>0.000000</td>\n",
       "      <td>0.000000</td>\n",
       "      <td>-13.335000</td>\n",
       "      <td>0.000000</td>\n",
       "      <td>0.000000</td>\n",
       "    </tr>\n",
       "    <tr>\n",
       "      <th>25%</th>\n",
       "      <td>10.861667</td>\n",
       "      <td>2.540000</td>\n",
       "      <td>15.692500</td>\n",
       "      <td>13.736667</td>\n",
       "      <td>13.465833</td>\n",
       "    </tr>\n",
       "    <tr>\n",
       "      <th>50%</th>\n",
       "      <td>14.980000</td>\n",
       "      <td>4.091667</td>\n",
       "      <td>24.513333</td>\n",
       "      <td>23.213333</td>\n",
       "      <td>19.861667</td>\n",
       "    </tr>\n",
       "    <tr>\n",
       "      <th>75%</th>\n",
       "      <td>24.459167</td>\n",
       "      <td>7.360000</td>\n",
       "      <td>39.824167</td>\n",
       "      <td>38.498333</td>\n",
       "      <td>31.227500</td>\n",
       "    </tr>\n",
       "    <tr>\n",
       "      <th>max</th>\n",
       "      <td>1360.893333</td>\n",
       "      <td>605.218333</td>\n",
       "      <td>1854.766667</td>\n",
       "      <td>1963.140000</td>\n",
       "      <td>1473.080000</td>\n",
       "    </tr>\n",
       "  </tbody>\n",
       "</table>\n",
       "</div>"
      ],
      "text/plain": [
       "       scb_discharge      jsc_flow    jsb_inflow  jsb_discharge       scb+jsc\n",
       "count   38987.000000  38987.000000  38987.000000   38987.000000  38987.000000\n",
       "mean       23.755848      8.090212     39.928416      38.475783     31.846060\n",
       "std        42.391332     21.244834     74.556119      74.893501     58.602248\n",
       "min         0.000000      0.000000    -13.335000       0.000000      0.000000\n",
       "25%        10.861667      2.540000     15.692500      13.736667     13.465833\n",
       "50%        14.980000      4.091667     24.513333      23.213333     19.861667\n",
       "75%        24.459167      7.360000     39.824167      38.498333     31.227500\n",
       "max      1360.893333    605.218333   1854.766667    1963.140000   1473.080000"
      ]
     },
     "execution_count": 159,
     "metadata": {},
     "output_type": "execute_result"
    }
   ],
   "source": [
    "flow_df.describe()"
   ]
  },
  {
   "cell_type": "markdown",
   "id": "0cee5771",
   "metadata": {},
   "source": [
    "죽산보 유입량에 음수 있어서 제거."
   ]
  },
  {
   "cell_type": "code",
   "execution_count": 160,
   "id": "81a5686c",
   "metadata": {},
   "outputs": [],
   "source": [
    "mask = flow_df['jsb_inflow'] >= 0\n",
    "flow_df = flow_df[mask]"
   ]
  },
  {
   "cell_type": "code",
   "execution_count": 161,
   "id": "d6de6780",
   "metadata": {},
   "outputs": [
    {
     "data": {
      "image/png": "[encoded data removed]",
      "text/plain": [
       "<Figure size 640x480 with 1 Axes>"
      ]
     },
     "metadata": {},
     "output_type": "display_data"
    }
   ],
   "source": [
    "_ = sns.boxplot(flow_df, orient='h')"
   ]
  },
  {
   "cell_type": "markdown",
   "id": "2f883584",
   "metadata": {},
   "source": [
    "(방)유량의 범위가 크기에 로그 변환 후 다시 확인."
   ]
  },
  {
   "cell_type": "code",
   "execution_count": 162,
   "id": "c8beb8a4",
   "metadata": {},
   "outputs": [],
   "source": [
    "from sklearn.preprocessing import FunctionTransformer\n",
    "\n",
    "log_transformer = FunctionTransformer(np.log1p)"
   ]
  },
  {
   "cell_type": "code",
   "execution_count": 163,
   "id": "31991cba",
   "metadata": {},
   "outputs": [
    {
     "data": {
      "image/png": "[encoded data removed]",
      "text/plain": [
       "<Figure size 640x480 with 1 Axes>"
      ]
     },
     "metadata": {},
     "output_type": "display_data"
    }
   ],
   "source": [
    "log_flow_df = log_transformer.fit_transform(flow_df)\n",
    "_ = sns.boxplot(log_flow_df, orient='h')"
   ]
  },
  {
   "cell_type": "markdown",
   "id": "e23b1a0c",
   "metadata": {},
   "source": [
    "**일별 평균값 활용**"
   ]
  },
  {
   "cell_type": "code",
   "execution_count": 164,
   "id": "22c9ce26",
   "metadata": {},
   "outputs": [
    {
     "data": {
      "image/png": "[encoded data removed]",
      "text/plain": [
       "<Figure size 640x480 with 1 Axes>"
      ]
     },
     "metadata": {},
     "output_type": "display_data"
    }
   ],
   "source": [
    "flow_daily_df = flow_df.resample('d').mean()\n",
    "log_flow_daily_df = log_transformer.fit_transform(flow_daily_df)\n",
    "_ = sns.boxplot(log_flow_daily_df, orient='h')"
   ]
  },
  {
   "cell_type": "markdown",
   "id": "b029cf4d",
   "metadata": {},
   "source": [
    "**승촌보+지석천과 죽산보 유입량 일별 변화**"
   ]
  },
  {
   "cell_type": "markdown",
   "id": "5d045dd1",
   "metadata": {},
   "source": [
    "- 일별 변화"
   ]
  },
  {
   "cell_type": "code",
   "execution_count": 165,
   "id": "94df7d21",
   "metadata": {},
   "outputs": [
    {
     "data": {
      "text/plain": [
       "<Axes: xlabel='DateTime'>"
      ]
     },
     "execution_count": 165,
     "metadata": {},
     "output_type": "execute_result"
    },
    {
     "data": {
      "image/png": "[encoded data removed]",
      "text/plain": [
       "<Figure size 640x480 with 1 Axes>"
      ]
     },
     "metadata": {},
     "output_type": "display_data"
    }
   ],
   "source": [
    "flow_df.loc[:, ['jsb_inflow', 'scb+jsc']].resample('d').mean().plot()"
   ]
  },
  {
   "cell_type": "markdown",
   "id": "ca49ff14",
   "metadata": {},
   "source": [
    "- 주별 변화"
   ]
  },
  {
   "cell_type": "code",
   "execution_count": 166,
   "id": "29f25dc9",
   "metadata": {},
   "outputs": [
    {
     "data": {
      "text/plain": [
       "<Axes: xlabel='DateTime'>"
      ]
     },
     "execution_count": 166,
     "metadata": {},
     "output_type": "execute_result"
    },
    {
     "data": {
      "image/png": "[encoded data removed]",
      "text/plain": [
       "<Figure size 640x480 with 1 Axes>"
      ]
     },
     "metadata": {},
     "output_type": "display_data"
    }
   ],
   "source": [
    "flow_df.loc[:, ['jsb_inflow', 'scb+jsc']].resample('w').mean().plot()"
   ]
  },
  {
   "cell_type": "markdown",
   "id": "120b54ec",
   "metadata": {},
   "source": [
    "- 월별 변화"
   ]
  },
  {
   "cell_type": "code",
   "execution_count": 167,
   "id": "b35f013c",
   "metadata": {},
   "outputs": [
    {
     "data": {
      "text/plain": [
       "<Axes: xlabel='DateTime'>"
      ]
     },
     "execution_count": 167,
     "metadata": {},
     "output_type": "execute_result"
    },
    {
     "data": {
      "image/png": "[encoded data removed]",
      "text/plain": [
       "<Figure size 640x480 with 1 Axes>"
      ]
     },
     "metadata": {},
     "output_type": "display_data"
    }
   ],
   "source": [
    "flow_df.loc[:, ['jsb_inflow', 'scb+jsc']].resample('m').mean().plot()"
   ]
  },
  {
   "cell_type": "markdown",
   "id": "48016271",
   "metadata": {},
   "source": [
    "## 모델 훈련"
   ]
  },
  {
   "cell_type": "markdown",
   "id": "78fe2cd5",
   "metadata": {},
   "source": [
    "### 전처리: 로그 변환"
   ]
  },
  {
   "cell_type": "markdown",
   "id": "0bfcd558",
   "metadata": {},
   "source": [
    "**`CHLA` 특성 로그 변환**"
   ]
  },
  {
   "cell_type": "code",
   "execution_count": 170,
   "id": "1f9e96d7",
   "metadata": {},
   "outputs": [
    {
     "data": {
      "text/plain": [
       "<Axes: ylabel='Count'>"
      ]
     },
     "execution_count": 170,
     "metadata": {},
     "output_type": "execute_result"
    },
    {
     "data": {
      "image/png": "[encoded data removed]",
      "text/plain": [
       "<Figure size 640x480 with 1 Axes>"
      ]
     },
     "metadata": {},
     "output_type": "display_data"
    }
   ],
   "source": [
    "sns.histplot(log_transformer.fit_transform(jsb_df[['CHLA']]))"
   ]
  },
  {
   "cell_type": "markdown",
   "id": "c8cbc7a6",
   "metadata": {},
   "source": [
    "**죽산보/승촌보/지석천 데이터의 `CHLA` 특성 로그 변환**"
   ]
  },
  {
   "cell_type": "code",
   "execution_count": 171,
   "id": "b95e76d1",
   "metadata": {},
   "outputs": [],
   "source": [
    "jsb_df_log = jsb_df.copy()\n",
    "jsb_df_log['log_CHLA'] = log_transformer.fit_transform(jsb_df[['CHLA']])\n",
    "jsb_df_log.drop(['CHLA'], axis=1, inplace=True)"
   ]
  },
  {
   "cell_type": "code",
   "execution_count": 172,
   "id": "73481f69",
   "metadata": {},
   "outputs": [],
   "source": [
    "scb_df_log = scb_df.copy()\n",
    "scb_df_log['log_CHLA'] = log_transformer.fit_transform(scb_df[['CHLA']])\n",
    "scb_df_log.drop(['CHLA'], axis=1, inplace=True)"
   ]
  },
  {
   "cell_type": "code",
   "execution_count": 173,
   "id": "18ebaca2",
   "metadata": {},
   "outputs": [],
   "source": [
    "jsc_df_log = jsc_df.copy()\n",
    "jsc_df_log['log_CHLA'] = log_transformer.fit_transform(jsc_df[['CHLA']])\n",
    "jsc_df_log.drop(['CHLA'], axis=1, inplace=True)"
   ]
  },
  {
   "cell_type": "markdown",
   "id": "bb9dacc6",
   "metadata": {},
   "source": [
    "### 그레이디언트 부스팅 모델"
   ]
  },
  {
   "cell_type": "code",
   "execution_count": 132,
   "id": "2943bbb7",
   "metadata": {},
   "outputs": [],
   "source": [
    "gb_reg = GradientBoostingRegressor(random_state=42)"
   ]
  },
  {
   "cell_type": "markdown",
   "id": "d02dbbaa",
   "metadata": {},
   "source": [
    "우선 작동여부를 확인하기 위해 하나의 파라미터 조합만 사용"
   ]
  },
  {
   "cell_type": "code",
   "execution_count": 133,
   "id": "a746d8b1",
   "metadata": {},
   "outputs": [],
   "source": [
    "param_grid = {\n",
    "    \"subsample\":[0.6],\n",
    "    'max_depth':[10], \n",
    "    \"learning_rate\":[0.05],\n",
    "    'n_estimators':[1200]\n",
    "    }"
   ]
  },
  {
   "cell_type": "markdown",
   "id": "30594646",
   "metadata": {},
   "source": [
    "**`gridsearch()` 함수**\n",
    "\n",
    "- 그리드 탐색 훈련을 진행\n",
    "- 인자: 모델, 하이퍼파라미터 조합, 특성, 윈도우 크기, 년도\n",
    "    - 년도: `None`이면 전체 데이터셋을 훈련셋으로 지정\n",
    "- 지정된 특성의 지정된 크기만큼의 윈도우 기간 동안의 평균값을 새로운 특성으로 추가한 후에 훈련 시작"
   ]
  },
  {
   "cell_type": "code",
   "execution_count": 134,
   "id": "77bcb46c",
   "metadata": {},
   "outputs": [],
   "source": [
    "def gridsearch(df, model, parameters, *, \n",
    "               features=['Water_TA', 'Discharge'],\n",
    "               windows=range(1, 7), \n",
    "               year=None, \n",
    "               best_models_path=None,\n",
    "               cv=3):\n",
    "\n",
    "    # best models\n",
    "    best_model_dict = dict()\n",
    "    # best models names\n",
    "    best_model_name_dict = dict()\n",
    "    # test r2 scores of the best models\n",
    "    test_score_dict = dict()\n",
    "    # test rmse scores of the best models\n",
    "    test_score_rmse_dict = dict()\n",
    "    # train features of the best models\n",
    "    input_features_dict = dict()\n",
    "    # best hyperparameters for each window\n",
    "    best_params_dict = dict()\n",
    "    \n",
    "    for window in windows:\n",
    "        # window 특성 추가\n",
    "        df_window = feature_windowing(df, features=features, window=window, year=year)\n",
    "        # 결측치 제거\n",
    "        df_window.dropna(inplace=True)\n",
    "\n",
    "        # 입력 및 타깃 특성 지정\n",
    "        features_to_be_removed = ['log_CHLA'] # + features    # features에 포함된 특성 그대로 유지\n",
    "        features_ = list(df_window.columns)\n",
    "        for ft in features_to_be_removed:\n",
    "            features_.remove(ft)\n",
    "        \n",
    "        input_features = features_\n",
    "        target_feature = 'log_CHLA'\n",
    "\n",
    "        # 입력 및 타깃 데이터셋 지정\n",
    "        inputs = df_window.loc[:, input_features]\n",
    "        targets = df_window[target_feature]\n",
    "\n",
    "        # 훈련셋과 테스트셋 분리\n",
    "        X_train, X_test, y_train, y_test = train_test_split(inputs, targets, random_state=42)\n",
    "\n",
    "        # 그리드 탐색 훈련 시작\n",
    "        added_feature = window\n",
    "        print(f\"==={added_feature}day(s) temperature and discharge added===\")\n",
    "\n",
    "        model_grid = GridSearchCV(model, param_grid=parameters, cv=cv, verbose=5, \n",
    "                                  scoring=['r2', 'neg_mean_squared_error'], refit='r2')\n",
    "        model_grid.fit(X_train, y_train)\n",
    "\n",
    "        # 최적 모델 저장\n",
    "        estimator = model_grid.best_estimator_\n",
    "\n",
    "        best_model = str(added_feature)+\"days\"+\".pkl\"\n",
    "        joblib.dump(estimator, best_models_path / best_model)\n",
    "\n",
    "        # 저장된 모델 다시 불러오기\n",
    "        estimator = joblib.load(best_models_path / best_model)\n",
    "\n",
    "        best_model_dict[added_feature] = estimator\n",
    "        best_model_name_dict[added_feature] = best_model\n",
    "        test_score_dict[added_feature] = estimator.score(X_test, y_test)\n",
    "        test_score_rmse_dict[added_feature] = np.sqrt(mean_squared_error(y_test, estimator.predict(X_test)))\n",
    "        input_features_dict[added_feature] = input_features\n",
    "        best_params_dict[added_feature] = model_grid.best_params_\n",
    "\n",
    "    dicts = (best_model_dict, \n",
    "             best_model_name_dict, \n",
    "             test_score_dict, \n",
    "             test_score_rmse_dict, \n",
    "             input_features_dict, \n",
    "             best_params_dict)\n",
    "\n",
    "    return dicts"
   ]
  },
  {
   "cell_type": "markdown",
   "id": "df707358",
   "metadata": {},
   "source": [
    "**`gridsearch_duet()` 함수**\n",
    "\n",
    "- 그리드 탐색 훈련을 진행\n",
    "- 인자: 모델, 하이퍼파라미터 조합, 특성, 윈도우 크기, 년도\n",
    "- `df1`에 `df2`의 특성에 대해 윈도우를 적용한 결과를 추가해서 훈련셋으로 지정.\n",
    "    - `df1`: 죽산보 데이터\n",
    "    - `df2`: 승촌보 데이터"
   ]
  },
  {
   "cell_type": "code",
   "execution_count": 217,
   "id": "f7576fd5",
   "metadata": {},
   "outputs": [],
   "source": [
    "def gridsearch_duet(df1, df2, model, parameters, *, \n",
    "                    features1=['Water_TA', 'Discharge'], \n",
    "                    features2=['Water_TA', 'Discharge'], \n",
    "                    original=False,\n",
    "                    windows=range(1, 7), \n",
    "                    year=None, \n",
    "                    best_models_path=None,\n",
    "                    cv=3):\n",
    "    \"\"\"\n",
    "    df1: 죽산보 데이터\n",
    "    df2: 승촌보, 지석천 데이터\n",
    "    \"\"\"\n",
    "\n",
    "    # best models\n",
    "    best_model_dict = dict()\n",
    "    # best models names\n",
    "    best_model_name_dict = dict()\n",
    "    # test r2 scores of the best models\n",
    "    test_score_dict = dict()\n",
    "    # test rmse scores of the best models\n",
    "    test_score_rmse_dict = dict()\n",
    "    # train features of the best models\n",
    "    input_features_dict = dict()\n",
    "    # best hyperparameters for each window\n",
    "    best_params_dict = dict()\n",
    "    \n",
    "    for window in windows:\n",
    "        # window 특성 추가\n",
    "        df1_window = feature_windowing(df1, \n",
    "                                       features=features1,\n",
    "                                       window=window,\n",
    "                                       year=year)\n",
    "        df2_window = feature_windowing(df2, \n",
    "                                       features=features2, \n",
    "                                       window=window, \n",
    "                                    #    suffix='_win', \n",
    "                                       year=year)\n",
    "        \n",
    "        # 결측치 제거\n",
    "        df1_window.dropna(inplace=True)\n",
    "        df2_window.dropna(inplace=True)\n",
    "        \n",
    "        # 공통 인덱스 샘플만 활용\n",
    "        df1_index = df1_window.index\n",
    "        df2_index = df2_window.index\n",
    "        common_index = df1_index.intersection(df2_index)\n",
    "        \n",
    "        df1_window = df1_window.loc[common_index]\n",
    "        df2_window = df2_window.loc[common_index]\n",
    "        \n",
    "        assert (df1_window.index == df2_window.index).all()\n",
    "                \n",
    "        # 입력 및 타깃 특성 지정\n",
    "\n",
    "        if original:\n",
    "            features1_ = list(df1_window.columns.drop(['log_CHLA']))\n",
    "            features2_ = list(df2_window.columns)\n",
    "        else:\n",
    "            features_to_be_removed = ['log_CHLA'] + features1\n",
    "            features1_ = list(df1_window.columns.drop(features_to_be_removed))\n",
    "            features2_ = [ft for ft in df2_window.columns if 'd_' in ft]\n",
    "            \n",
    "        target_feature = 'log_CHLA'\n",
    "                \n",
    "        inputs = pd.concat([df1_window.loc[:, features1_], df2_window.loc[:, features2_]], axis=1)\n",
    "        targets = df1_window[target_feature]\n",
    "\n",
    "        # 훈련셋과 테스트셋 분리\n",
    "        X_train, X_test, y_train, y_test = train_test_split(inputs, targets, random_state=42)\n",
    "\n",
    "        # 그리드 탐색 훈련 시작\n",
    "        added_feature = window\n",
    "        print(f\"==={added_feature}day(s) temperature and discharge added===\")\n",
    "\n",
    "        model_grid = GridSearchCV(model, param_grid=parameters, cv=cv, verbose=5, \n",
    "                                  scoring=['r2', 'neg_mean_squared_error'], refit='r2')\n",
    "        model_grid.fit(X_train, y_train)\n",
    "\n",
    "        # 최적 모델 저장\n",
    "        estimator = model_grid.best_estimator_\n",
    "\n",
    "        best_model = str(added_feature)+\"days\"+\".pkl\"\n",
    "        joblib.dump(estimator, best_models_path / best_model)\n",
    "\n",
    "        # 저장된 모델 다시 불러오기\n",
    "        estimator = joblib.load(best_models_path / best_model)\n",
    "\n",
    "        best_model_dict[added_feature] = estimator\n",
    "        best_model_name_dict[added_feature] = best_model\n",
    "        test_score_dict[added_feature] = estimator.score(X_test, y_test)\n",
    "        test_score_rmse_dict[added_feature] = np.sqrt(mean_squared_error(y_test, estimator.predict(X_test)))\n",
    "        input_features_dict[added_feature] = features1_ + features2_\n",
    "        best_params_dict[added_feature] = model_grid.best_params_\n",
    "        \n",
    "    dicts = (best_model_dict, \n",
    "             best_model_name_dict, \n",
    "             test_score_dict, \n",
    "             test_score_rmse_dict, \n",
    "             input_features_dict, \n",
    "             best_params_dict)\n",
    "\n",
    "    return dicts"
   ]
  },
  {
   "cell_type": "markdown",
   "id": "deafc467",
   "metadata": {},
   "source": [
    "### 특성 중요도"
   ]
  },
  {
   "cell_type": "markdown",
   "id": "239bfb7b",
   "metadata": {},
   "source": [
    "- 훈련된 최고 성능의 모델 활용\n",
    "- 특성 중요도를 막대그래프로 그리기"
   ]
  },
  {
   "cell_type": "code",
   "execution_count": 206,
   "id": "958acdb6",
   "metadata": {},
   "outputs": [],
   "source": [
    "def feature_importance_barplot(best_model_name_dict, \n",
    "                               input_features_dict, \n",
    "                               best_models_path=None,\n",
    "                               max_features=None):\n",
    "    models_trained = best_model_name_dict.keys()\n",
    "    num_of_models = len(models_trained)\n",
    "\n",
    "    fig, axs = plt.subplots(num_of_models, sharex=True, figsize=(10, num_of_models*4))\n",
    "\n",
    "    for idx, model_name in enumerate(models_trained):\n",
    "        ax = axs[idx]\n",
    "        # 저장된 모델 다시 불러오기\n",
    "        best_model = model_name+\"days.pkl\"\n",
    "        estimator_ = joblib.load(best_models_path / best_model)\n",
    "        # 모델이 사용한 특성들 확인\n",
    "        input_features_ = input_features_dict[model_name]\n",
    "        # 특성 중요도 확인\n",
    "        feature_series = pd.Series(data = estimator_.feature_importances_, index = input_features_)\n",
    "        feature_series = feature_series.sort_values(ascending = False)\n",
    "        feature_series.index.name = \"Features\"\n",
    "        feature_series.name = \"Feature Importances\"\n",
    "        \n",
    "        # 특성 중요도 막대그래프\n",
    "        if not max_features:\n",
    "            max_features = len(feature_series)\n",
    "        # colors = {h:'gray' for h in feature_series.index[:max_features]}\n",
    "        # colors['DO'] = 'red'\n",
    "\n",
    "        sns.barplot(ax=ax, \n",
    "                    x = feature_series[:max_features], \n",
    "                    y = feature_series.index[:max_features], \n",
    "                    # palette=colors, \n",
    "                    hue=feature_series.index[:max_features])\n",
    "        # sns.barplot(ax=ax, \n",
    "        #             x = feature_series[:max_features], \n",
    "        #             y = feature_series.index[:max_features])\n",
    "        ax.set_title(model_name)\n",
    "\n",
    "    plt.subplots_adjust(hspace=0.4, wspace=0)\n",
    "    plt.show()"
   ]
  },
  {
   "cell_type": "markdown",
   "id": "dba50adf",
   "metadata": {},
   "source": [
    "### 전처리: `DO`와 `pH` 등 기타 특성 삭제"
   ]
  },
  {
   "cell_type": "markdown",
   "id": "4c323f95",
   "metadata": {},
   "source": [
    "- `DO`와 `pH`는 `CHLA`의 영향을 받는 인자임\n",
    "- 대기온도, 구름, 풍속 등은 `CHLA`와 특별한 인과관계가 없는 인자임."
   ]
  },
  {
   "cell_type": "code",
   "execution_count": 207,
   "id": "9e4d32bc",
   "metadata": {},
   "outputs": [],
   "source": [
    "to_drop = ['DO', 'pH', 'Air_TA', 'RN', 'WS', 'SS', 'SI', 'CA_TOT', 'CA_MID', 'Down_WL']"
   ]
  },
  {
   "cell_type": "markdown",
   "id": "84455642",
   "metadata": {},
   "source": [
    "승촌보/죽산보 특성 일부 삭제"
   ]
  },
  {
   "cell_type": "code",
   "execution_count": 208,
   "id": "8ee61d6e",
   "metadata": {},
   "outputs": [],
   "source": [
    "df1_jsb = jsb_df_log.drop(to_drop, axis=1)\n",
    "df2_scb = jsb_df_log.drop(to_drop, axis=1)"
   ]
  },
  {
   "cell_type": "markdown",
   "id": "89dd7d96",
   "metadata": {},
   "source": [
    "지석천 특성 일부 삭제"
   ]
  },
  {
   "cell_type": "code",
   "execution_count": 209,
   "id": "f3d79451",
   "metadata": {},
   "outputs": [],
   "source": [
    "df3_jsc = jsc_df_log.drop(jsc_df_log.columns.intersection(to_drop), axis=1)"
   ]
  },
  {
   "cell_type": "markdown",
   "id": "ecc6c940",
   "metadata": {},
   "source": [
    "### 죽산보에 승촌보/지석천 특성 추가 후 훈련"
   ]
  },
  {
   "cell_type": "markdown",
   "id": "cb6552d0",
   "metadata": {},
   "source": [
    "**학습된 모델 저장**"
   ]
  },
  {
   "cell_type": "code",
   "execution_count": 210,
   "id": "e290a0a6",
   "metadata": {},
   "outputs": [],
   "source": [
    "best_models_path = Path() / \"best_models_with_scb_and_jsc\"\n",
    "best_models_path.mkdir(parents=True, exist_ok=True)"
   ]
  },
  {
   "cell_type": "markdown",
   "id": "dd8defcc",
   "metadata": {},
   "source": [
    "**입력값**"
   ]
  },
  {
   "cell_type": "code",
   "execution_count": 211,
   "id": "6e8a34ef",
   "metadata": {},
   "outputs": [],
   "source": [
    "df1 = df1_jsb\n",
    "df2 = pd.concat([df2_scb.add_suffix(suffix='_scb'), df3_jsc.add_suffix(suffix='_jsc')], axis=1).dropna()"
   ]
  },
  {
   "cell_type": "code",
   "execution_count": 212,
   "id": "ecffb492",
   "metadata": {},
   "outputs": [],
   "source": [
    "year = 2021\n",
    "window_features1 = df1.drop(['log_CHLA'], axis=1).columns.to_list()\n",
    "window_features2 = df2.columns.to_list()\n",
    "windows = range(1, 3)"
   ]
  },
  {
   "cell_type": "markdown",
   "id": "aebd54ce",
   "metadata": {},
   "source": [
    "**모델 훈련**"
   ]
  },
  {
   "cell_type": "code",
   "execution_count": 199,
   "id": "8ef1b434",
   "metadata": {},
   "outputs": [
    {
     "name": "stdout",
     "output_type": "stream",
     "text": [
      "===1day(s) temperature and discharge added===\n",
      "Fitting 3 folds for each of 1 candidates, totalling 3 fits\n",
      "[CV 1/3] END learning_rate=0.05, max_depth=10, n_estimators=1200, subsample=0.6; neg_mean_squared_error: (test=-0.011) r2: (test=0.973) total time=  25.7s\n",
      "[CV 2/3] END learning_rate=0.05, max_depth=10, n_estimators=1200, subsample=0.6; neg_mean_squared_error: (test=-0.010) r2: (test=0.976) total time=  25.7s\n",
      "[CV 3/3] END learning_rate=0.05, max_depth=10, n_estimators=1200, subsample=0.6; neg_mean_squared_error: (test=-0.011) r2: (test=0.974) total time=  25.6s\n",
      "===2day(s) temperature and discharge added===\n",
      "Fitting 3 folds for each of 1 candidates, totalling 3 fits\n",
      "[CV 1/3] END learning_rate=0.05, max_depth=10, n_estimators=1200, subsample=0.6; neg_mean_squared_error: (test=-0.011) r2: (test=0.974) total time=  26.1s\n",
      "[CV 2/3] END learning_rate=0.05, max_depth=10, n_estimators=1200, subsample=0.6; neg_mean_squared_error: (test=-0.009) r2: (test=0.979) total time=  25.9s\n",
      "[CV 3/3] END learning_rate=0.05, max_depth=10, n_estimators=1200, subsample=0.6; neg_mean_squared_error: (test=-0.010) r2: (test=0.977) total time=  26.4s\n"
     ]
    }
   ],
   "source": [
    "dicts = gridsearch_duet(df1, df2, gb_reg, param_grid, \n",
    "                        features1=window_features1, \n",
    "                        features2=window_features2, \n",
    "                        original=False,\n",
    "                        windows=windows, \n",
    "                        year=year,\n",
    "                        best_models_path=best_models_path,\n",
    "                        cv=3)\n",
    "\n",
    "best_model_dict = dicts[0]\n",
    "best_model_name_dict = dicts[1]\n",
    "test_score_dict = dicts[2]\n",
    "test_score_rmse_dict = dicts[3]\n",
    "input_features_dict = dicts[4]\n",
    "best_params_dict = dicts[5]"
   ]
  },
  {
   "cell_type": "code",
   "execution_count": 218,
   "id": "16a351fb",
   "metadata": {},
   "outputs": [
    {
     "name": "stdout",
     "output_type": "stream",
     "text": [
      "===1day(s) temperature and discharge added===\n",
      "Fitting 3 folds for each of 1 candidates, totalling 3 fits\n",
      "[CV 1/3] END learning_rate=0.05, max_depth=10, n_estimators=1200, subsample=0.6; neg_mean_squared_error: (test=-0.000) r2: (test=1.000) total time=  42.7s\n",
      "[CV 2/3] END learning_rate=0.05, max_depth=10, n_estimators=1200, subsample=0.6; neg_mean_squared_error: (test=-0.000) r2: (test=1.000) total time=  42.5s\n",
      "[CV 3/3] END learning_rate=0.05, max_depth=10, n_estimators=1200, subsample=0.6; neg_mean_squared_error: (test=-0.000) r2: (test=1.000) total time=  42.7s\n",
      "===2day(s) temperature and discharge added===\n",
      "Fitting 3 folds for each of 1 candidates, totalling 3 fits\n",
      "[CV 1/3] END learning_rate=0.05, max_depth=10, n_estimators=1200, subsample=0.6; neg_mean_squared_error: (test=-0.000) r2: (test=1.000) total time=  43.4s\n",
      "[CV 2/3] END learning_rate=0.05, max_depth=10, n_estimators=1200, subsample=0.6; neg_mean_squared_error: (test=-0.000) r2: (test=1.000) total time=  43.5s\n",
      "[CV 3/3] END learning_rate=0.05, max_depth=10, n_estimators=1200, subsample=0.6; neg_mean_squared_error: (test=-0.000) r2: (test=1.000) total time=  43.3s\n"
     ]
    }
   ],
   "source": [
    "dicts = gridsearch_duet(df1, df2, gb_reg, param_grid, \n",
    "                        features1=window_features1, \n",
    "                        features2=window_features2, \n",
    "                        original=True,\n",
    "                        windows=windows, \n",
    "                        year=year,\n",
    "                        best_models_path=best_models_path,\n",
    "                        cv=3)\n",
    "\n",
    "best_model_dict = dicts[0]\n",
    "best_model_name_dict = dicts[1]\n",
    "test_score_dict = dicts[2]\n",
    "test_score_rmse_dict = dicts[3]\n",
    "input_features_dict = dicts[4]\n",
    "best_params_dict = dicts[5]"
   ]
  },
  {
   "cell_type": "markdown",
   "id": "a5b12d21",
   "metadata": {},
   "source": [
    "**훈련된 최고 모델의 정보 저장**"
   ]
  },
  {
   "cell_type": "code",
   "execution_count": 190,
   "id": "4e6d312f",
   "metadata": {},
   "outputs": [],
   "source": [
    "import json\n",
    "\n",
    "def save_best(path_to_save, \n",
    "              best_model_name_dict, \n",
    "              test_score_dict, \n",
    "              test_score_rmse_dict, \n",
    "              best_params_dict, \n",
    "              input_features_dict):\n",
    "\n",
    "    file_name = 'best_model_name.json'\n",
    "    with open(path_to_save / file_name, 'w') as json_file:\n",
    "        json.dump(best_model_name_dict, json_file)\n",
    "\n",
    "    file_name = 'test_score.json'\n",
    "    with open(path_to_save / file_name, 'w') as json_file:\n",
    "        json.dump(test_score_dict, json_file)\n",
    "\n",
    "    file_name = 'test_score_rmse.json'\n",
    "    with open(path_to_save / file_name, 'w') as json_file:\n",
    "        json.dump(test_score_rmse_dict, json_file)\n",
    "\n",
    "    file_name = 'best_params.json'\n",
    "    with open(path_to_save / file_name, 'w') as json_file:\n",
    "        json.dump(best_params_dict, json_file)\n",
    "\n",
    "    file_name = 'input_features.json'\n",
    "    with open(path_to_save / file_name, 'w') as json_file:\n",
    "        json.dump(input_features_dict, json_file)"
   ]
  },
  {
   "cell_type": "markdown",
   "id": "b614ae75",
   "metadata": {},
   "source": [
    "**최고 성능 모델 정보 불러오기**"
   ]
  },
  {
   "cell_type": "code",
   "execution_count": 191,
   "id": "0b447ced",
   "metadata": {},
   "outputs": [],
   "source": [
    "import json\n",
    "\n",
    "def load_best(path_to_save):\n",
    "    file_name = 'best_model_name.json'\n",
    "    with open(path_to_save / file_name) as json_file:\n",
    "        best_model_name_dict = json.load(json_file)\n",
    "\n",
    "    file_name = 'test_score.json'\n",
    "    with open(path_to_save / file_name) as json_file:\n",
    "        test_score_dict = json.load(json_file)\n",
    "\n",
    "    file_name = 'test_score_rmse.json'\n",
    "    with open(path_to_save / file_name) as json_file:\n",
    "        test_score_rmse_dict = json.load(json_file)\n",
    "\n",
    "    file_name = 'best_params.json'\n",
    "    with open(path_to_save / file_name) as json_file:\n",
    "        best_params_dict = json.load(json_file)\n",
    "\n",
    "    file_name = 'input_features.json'\n",
    "    with open(path_to_save / file_name) as json_file:\n",
    "        input_features_dict = json.load(json_file)\n",
    "\n",
    "    return best_model_name_dict, test_score_dict, test_score_rmse_dict, best_params_dict, input_features_dict"
   ]
  },
  {
   "cell_type": "code",
   "execution_count": 219,
   "id": "fe17cbf6",
   "metadata": {},
   "outputs": [],
   "source": [
    "save_best(best_models_path, \n",
    "          best_model_name_dict,\n",
    "          test_score_dict, \n",
    "          test_score_rmse_dict, \n",
    "          best_params_dict, \n",
    "          input_features_dict)"
   ]
  },
  {
   "cell_type": "markdown",
   "id": "9bcfa5ec",
   "metadata": {},
   "source": [
    "**최고 성능 모델 정보 불러오기**"
   ]
  },
  {
   "cell_type": "code",
   "execution_count": 220,
   "id": "ae26c81b",
   "metadata": {},
   "outputs": [],
   "source": [
    "best_model_name_dict = load_best(best_models_path)[0]\n",
    "test_score_dict = load_best(best_models_path)[1]\n",
    "test_score_rmse_dict = load_best(best_models_path)[2]\n",
    "best_params_dict = load_best(best_models_path)[3]\n",
    "input_features_dict = load_best(best_models_path)[4]"
   ]
  },
  {
   "cell_type": "code",
   "execution_count": 202,
   "id": "6d3ce7a7",
   "metadata": {},
   "outputs": [
    {
     "data": {
      "text/plain": [
       "<Figure size 2000x10000 with 0 Axes>"
      ]
     },
     "metadata": {},
     "output_type": "display_data"
    },
    {
     "data": {
      "image/png": "[encoded data removed]",
      "text/plain": [
       "<Figure size 1000x800 with 2 Axes>"
      ]
     },
     "metadata": {},
     "output_type": "display_data"
    }
   ],
   "source": [
    "plt.figure(figsize=(20, 100))\n",
    "\n",
    "feature_importance_barplot(best_model_name_dict, \n",
    "                           input_features_dict,\n",
    "                           best_models_path=best_models_path,\n",
    "                           max_features=10)"
   ]
  },
  {
   "cell_type": "code",
   "execution_count": 221,
   "id": "a7dc5f8a",
   "metadata": {},
   "outputs": [
    {
     "data": {
      "text/plain": [
       "<Figure size 2000x10000 with 0 Axes>"
      ]
     },
     "metadata": {},
     "output_type": "display_data"
    },
    {
     "data": {
      "image/png": "[encoded data removed]",
      "text/plain": [
       "<Figure size 1000x800 with 2 Axes>"
      ]
     },
     "metadata": {},
     "output_type": "display_data"
    }
   ],
   "source": [
    "plt.figure(figsize=(20, 100))\n",
    "\n",
    "feature_importance_barplot(best_model_name_dict, \n",
    "                           input_features_dict,\n",
    "                           best_models_path=best_models_path,\n",
    "                           max_features=10)"
   ]
  },
  {
   "cell_type": "code",
   "execution_count": null,
   "id": "975e193c",
   "metadata": {},
   "outputs": [],
   "source": []
  }
 ],
 "metadata": {
  "kernelspec": {
   "display_name": "base",
   "language": "python",
   "name": "python3"
  },
  "language_info": {
   "codemirror_mode": {
    "name": "ipython",
    "version": 3
   },
   "file_extension": ".py",
   "mimetype": "text/x-python",
   "name": "python",
   "nbconvert_exporter": "python",
   "pygments_lexer": "ipython3",
   "version": "3.12.2"
  }
 },
 "nbformat": 4,
 "nbformat_minor": 5
}
